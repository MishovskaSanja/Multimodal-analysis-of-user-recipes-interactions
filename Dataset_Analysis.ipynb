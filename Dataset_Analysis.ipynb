{
  "nbformat": 4,
  "nbformat_minor": 0,
  "metadata": {
    "colab": {
      "name": "Dataset Analysis.ipynb",
      "provenance": [],
      "collapsed_sections": [],
      "toc_visible": true
    },
    "kernelspec": {
      "name": "python3",
      "display_name": "Python 3"
    }
  },
  "cells": [
    {
      "cell_type": "code",
      "metadata": {
        "id": "4_BKWt67FxIj"
      },
      "source": [
        "#imports\n",
        "import numpy as np\n",
        "import pandas as pd\n",
        "import seaborn as sns\n",
        "from mpl_toolkits.mplot3d import Axes3D\n",
        "from sklearn.preprocessing import StandardScaler\n",
        "import matplotlib.pyplot as plt \n",
        "import ast\n",
        "import os\n",
        "import math\n",
        "from collections import defaultdict\n",
        "from plotnine import *"
      ],
      "execution_count": null,
      "outputs": []
    },
    {
      "cell_type": "markdown",
      "metadata": {
        "id": "c2Kuwn6-FutR"
      },
      "source": [
        "# RAW RECIPES"
      ]
    },
    {
      "cell_type": "markdown",
      "metadata": {
        "id": "fYPXF-gxF8ry"
      },
      "source": [
        "### **General information**"
      ]
    },
    {
      "cell_type": "code",
      "metadata": {
        "colab": {
          "base_uri": "https://localhost:8080/",
          "height": 548
        },
        "id": "Ig40jS_0FkZz",
        "outputId": "e11830b0-f811-42d3-c337-ada5cc5dc406"
      },
      "source": [
        "raw_recipes=pd.read_csv(\"/content/drive/MyDrive/food recipes/RAW_recipes.csv\")\n",
        "raw_recipes.head()"
      ],
      "execution_count": null,
      "outputs": [
        {
          "output_type": "execute_result",
          "data": {
            "text/html": [
              "<div>\n",
              "<style scoped>\n",
              "    .dataframe tbody tr th:only-of-type {\n",
              "        vertical-align: middle;\n",
              "    }\n",
              "\n",
              "    .dataframe tbody tr th {\n",
              "        vertical-align: top;\n",
              "    }\n",
              "\n",
              "    .dataframe thead th {\n",
              "        text-align: right;\n",
              "    }\n",
              "</style>\n",
              "<table border=\"1\" class=\"dataframe\">\n",
              "  <thead>\n",
              "    <tr style=\"text-align: right;\">\n",
              "      <th></th>\n",
              "      <th>name</th>\n",
              "      <th>id</th>\n",
              "      <th>minutes</th>\n",
              "      <th>contributor_id</th>\n",
              "      <th>submitted</th>\n",
              "      <th>tags</th>\n",
              "      <th>nutrition</th>\n",
              "      <th>n_steps</th>\n",
              "      <th>steps</th>\n",
              "      <th>description</th>\n",
              "      <th>ingredients</th>\n",
              "      <th>n_ingredients</th>\n",
              "    </tr>\n",
              "  </thead>\n",
              "  <tbody>\n",
              "    <tr>\n",
              "      <th>0</th>\n",
              "      <td>arriba   baked winter squash mexican style</td>\n",
              "      <td>137739</td>\n",
              "      <td>55</td>\n",
              "      <td>47892</td>\n",
              "      <td>2005-09-16</td>\n",
              "      <td>['60-minutes-or-less', 'time-to-make', 'course...</td>\n",
              "      <td>[51.5, 0.0, 13.0, 0.0, 2.0, 0.0, 4.0]</td>\n",
              "      <td>11</td>\n",
              "      <td>['make a choice and proceed with recipe', 'dep...</td>\n",
              "      <td>autumn is my favorite time of year to cook! th...</td>\n",
              "      <td>['winter squash', 'mexican seasoning', 'mixed ...</td>\n",
              "      <td>7</td>\n",
              "    </tr>\n",
              "    <tr>\n",
              "      <th>1</th>\n",
              "      <td>a bit different  breakfast pizza</td>\n",
              "      <td>31490</td>\n",
              "      <td>30</td>\n",
              "      <td>26278</td>\n",
              "      <td>2002-06-17</td>\n",
              "      <td>['30-minutes-or-less', 'time-to-make', 'course...</td>\n",
              "      <td>[173.4, 18.0, 0.0, 17.0, 22.0, 35.0, 1.0]</td>\n",
              "      <td>9</td>\n",
              "      <td>['preheat oven to 425 degrees f', 'press dough...</td>\n",
              "      <td>this recipe calls for the crust to be prebaked...</td>\n",
              "      <td>['prepared pizza crust', 'sausage patty', 'egg...</td>\n",
              "      <td>6</td>\n",
              "    </tr>\n",
              "    <tr>\n",
              "      <th>2</th>\n",
              "      <td>all in the kitchen  chili</td>\n",
              "      <td>112140</td>\n",
              "      <td>130</td>\n",
              "      <td>196586</td>\n",
              "      <td>2005-02-25</td>\n",
              "      <td>['time-to-make', 'course', 'preparation', 'mai...</td>\n",
              "      <td>[269.8, 22.0, 32.0, 48.0, 39.0, 27.0, 5.0]</td>\n",
              "      <td>6</td>\n",
              "      <td>['brown ground beef in large pot', 'add choppe...</td>\n",
              "      <td>this modified version of 'mom's' chili was a h...</td>\n",
              "      <td>['ground beef', 'yellow onions', 'diced tomato...</td>\n",
              "      <td>13</td>\n",
              "    </tr>\n",
              "    <tr>\n",
              "      <th>3</th>\n",
              "      <td>alouette  potatoes</td>\n",
              "      <td>59389</td>\n",
              "      <td>45</td>\n",
              "      <td>68585</td>\n",
              "      <td>2003-04-14</td>\n",
              "      <td>['60-minutes-or-less', 'time-to-make', 'course...</td>\n",
              "      <td>[368.1, 17.0, 10.0, 2.0, 14.0, 8.0, 20.0]</td>\n",
              "      <td>11</td>\n",
              "      <td>['place potatoes in a large pot of lightly sal...</td>\n",
              "      <td>this is a super easy, great tasting, make ahea...</td>\n",
              "      <td>['spreadable cheese with garlic and herbs', 'n...</td>\n",
              "      <td>11</td>\n",
              "    </tr>\n",
              "    <tr>\n",
              "      <th>4</th>\n",
              "      <td>amish  tomato ketchup  for canning</td>\n",
              "      <td>44061</td>\n",
              "      <td>190</td>\n",
              "      <td>41706</td>\n",
              "      <td>2002-10-25</td>\n",
              "      <td>['weeknight', 'time-to-make', 'course', 'main-...</td>\n",
              "      <td>[352.9, 1.0, 337.0, 23.0, 3.0, 0.0, 28.0]</td>\n",
              "      <td>5</td>\n",
              "      <td>['mix all ingredients&amp; boil for 2 1 / 2 hours ...</td>\n",
              "      <td>my dh's amish mother raised him on this recipe...</td>\n",
              "      <td>['tomato juice', 'apple cider vinegar', 'sugar...</td>\n",
              "      <td>8</td>\n",
              "    </tr>\n",
              "  </tbody>\n",
              "</table>\n",
              "</div>"
            ],
            "text/plain": [
              "                                         name  ...  n_ingredients\n",
              "0  arriba   baked winter squash mexican style  ...              7\n",
              "1            a bit different  breakfast pizza  ...              6\n",
              "2                   all in the kitchen  chili  ...             13\n",
              "3                          alouette  potatoes  ...             11\n",
              "4          amish  tomato ketchup  for canning  ...              8\n",
              "\n",
              "[5 rows x 12 columns]"
            ]
          },
          "metadata": {
            "tags": []
          },
          "execution_count": 33
        }
      ]
    },
    {
      "cell_type": "code",
      "metadata": {
        "colab": {
          "base_uri": "https://localhost:8080/"
        },
        "id": "k5oazGfhGqmJ",
        "outputId": "64e57fe6-0d81-4eee-fb92-48c0b9285e53"
      },
      "source": [
        "raw_recipes.info()"
      ],
      "execution_count": null,
      "outputs": [
        {
          "output_type": "stream",
          "text": [
            "<class 'pandas.core.frame.DataFrame'>\n",
            "RangeIndex: 231637 entries, 0 to 231636\n",
            "Data columns (total 12 columns):\n",
            " #   Column          Non-Null Count   Dtype \n",
            "---  ------          --------------   ----- \n",
            " 0   name            231636 non-null  object\n",
            " 1   id              231637 non-null  int64 \n",
            " 2   minutes         231637 non-null  int64 \n",
            " 3   contributor_id  231637 non-null  int64 \n",
            " 4   submitted       231637 non-null  object\n",
            " 5   tags            231637 non-null  object\n",
            " 6   nutrition       231637 non-null  object\n",
            " 7   n_steps         231637 non-null  int64 \n",
            " 8   steps           231637 non-null  object\n",
            " 9   description     226658 non-null  object\n",
            " 10  ingredients     231637 non-null  object\n",
            " 11  n_ingredients   231637 non-null  int64 \n",
            "dtypes: int64(5), object(7)\n",
            "memory usage: 21.2+ MB\n"
          ],
          "name": "stdout"
        }
      ]
    },
    {
      "cell_type": "code",
      "metadata": {
        "colab": {
          "base_uri": "https://localhost:8080/"
        },
        "id": "FO46Iyh2Gtrz",
        "outputId": "05328f9e-69db-49c3-bebb-f8c7a8dc01f3"
      },
      "source": [
        "raw_recipes.shape"
      ],
      "execution_count": null,
      "outputs": [
        {
          "output_type": "execute_result",
          "data": {
            "text/plain": [
              "(231637, 12)"
            ]
          },
          "metadata": {
            "tags": []
          },
          "execution_count": 35
        }
      ]
    },
    {
      "cell_type": "markdown",
      "metadata": {
        "id": "cKv9dzZxGwSP"
      },
      "source": [
        "The **RAW-RECIPES** dataset has a total of 231,637 columns - which means so many recipes. They are described through 12 attributes, as follows: ::\n",
        "\n",
        "\n",
        "*   **name** - recipe name, 230186 unique values\n",
        "*   **id** - recipe id\n",
        "\n",
        "\n",
        "*  **minutes** - cooking time for the recipes in minutes\n",
        "*   **contributor** - id of the user that published the recipe\n",
        "\n",
        "\n",
        "*   **submitted** - date published\n",
        "*   **tags** -  tags through which this recipe can be found, 209115 unique values\n",
        "\n",
        "\n",
        "*   **nutrition** - information on the nutritional value of this recipe\n",
        "(calories, total fat, sugar, sodium, protein, saturated fat), 229318 unique values\n",
        "*  **n_steps** - number of steps required for the recipe\n",
        "\n",
        "\n",
        "*  **steps** -  recipe preparation steps, 231074 unique values\n",
        "*   **description** - Description of the recipe, posted by the user who published the recipe\n",
        "\n",
        "\n",
        "*   **ingredients** - listing the ingredients needed to cook the recipe\n",
        "*   **n_ingredients** - number of ingredients needed to cook the recipe"
      ]
    },
    {
      "cell_type": "markdown",
      "metadata": {
        "id": "EqHLywwALV_w"
      },
      "source": [
        "### **Missing values**"
      ]
    },
    {
      "cell_type": "code",
      "metadata": {
        "colab": {
          "base_uri": "https://localhost:8080/",
          "height": 402
        },
        "id": "-Fk_Uz1WLUoH",
        "outputId": "4d344fab-4984-4d27-b8f6-b166d5829b1e"
      },
      "source": [
        "missing_values = raw_recipes.isnull().sum()\n",
        "percentage = 100 * raw_recipes.isnull().sum() / len(raw_recipes)\n",
        "missing_values_table = pd.concat([missing_values, percentage], axis=1)\n",
        "missing_values_table.columns = ['Num. of missing values','% of missing values']\n",
        "missing_values_table"
      ],
      "execution_count": null,
      "outputs": [
        {
          "output_type": "execute_result",
          "data": {
            "text/html": [
              "<div>\n",
              "<style scoped>\n",
              "    .dataframe tbody tr th:only-of-type {\n",
              "        vertical-align: middle;\n",
              "    }\n",
              "\n",
              "    .dataframe tbody tr th {\n",
              "        vertical-align: top;\n",
              "    }\n",
              "\n",
              "    .dataframe thead th {\n",
              "        text-align: right;\n",
              "    }\n",
              "</style>\n",
              "<table border=\"1\" class=\"dataframe\">\n",
              "  <thead>\n",
              "    <tr style=\"text-align: right;\">\n",
              "      <th></th>\n",
              "      <th>Num. of missing values</th>\n",
              "      <th>% of missing values</th>\n",
              "    </tr>\n",
              "  </thead>\n",
              "  <tbody>\n",
              "    <tr>\n",
              "      <th>name</th>\n",
              "      <td>1</td>\n",
              "      <td>0.000432</td>\n",
              "    </tr>\n",
              "    <tr>\n",
              "      <th>id</th>\n",
              "      <td>0</td>\n",
              "      <td>0.000000</td>\n",
              "    </tr>\n",
              "    <tr>\n",
              "      <th>minutes</th>\n",
              "      <td>0</td>\n",
              "      <td>0.000000</td>\n",
              "    </tr>\n",
              "    <tr>\n",
              "      <th>contributor_id</th>\n",
              "      <td>0</td>\n",
              "      <td>0.000000</td>\n",
              "    </tr>\n",
              "    <tr>\n",
              "      <th>submitted</th>\n",
              "      <td>0</td>\n",
              "      <td>0.000000</td>\n",
              "    </tr>\n",
              "    <tr>\n",
              "      <th>tags</th>\n",
              "      <td>0</td>\n",
              "      <td>0.000000</td>\n",
              "    </tr>\n",
              "    <tr>\n",
              "      <th>nutrition</th>\n",
              "      <td>0</td>\n",
              "      <td>0.000000</td>\n",
              "    </tr>\n",
              "    <tr>\n",
              "      <th>n_steps</th>\n",
              "      <td>0</td>\n",
              "      <td>0.000000</td>\n",
              "    </tr>\n",
              "    <tr>\n",
              "      <th>steps</th>\n",
              "      <td>0</td>\n",
              "      <td>0.000000</td>\n",
              "    </tr>\n",
              "    <tr>\n",
              "      <th>description</th>\n",
              "      <td>4979</td>\n",
              "      <td>2.149484</td>\n",
              "    </tr>\n",
              "    <tr>\n",
              "      <th>ingredients</th>\n",
              "      <td>0</td>\n",
              "      <td>0.000000</td>\n",
              "    </tr>\n",
              "    <tr>\n",
              "      <th>n_ingredients</th>\n",
              "      <td>0</td>\n",
              "      <td>0.000000</td>\n",
              "    </tr>\n",
              "  </tbody>\n",
              "</table>\n",
              "</div>"
            ],
            "text/plain": [
              "                Num. of missing values  % of missing values\n",
              "name                                 1             0.000432\n",
              "id                                   0             0.000000\n",
              "minutes                              0             0.000000\n",
              "contributor_id                       0             0.000000\n",
              "submitted                            0             0.000000\n",
              "tags                                 0             0.000000\n",
              "nutrition                            0             0.000000\n",
              "n_steps                              0             0.000000\n",
              "steps                                0             0.000000\n",
              "description                       4979             2.149484\n",
              "ingredients                          0             0.000000\n",
              "n_ingredients                        0             0.000000"
            ]
          },
          "metadata": {
            "tags": []
          },
          "execution_count": 36
        }
      ]
    },
    {
      "cell_type": "markdown",
      "metadata": {
        "id": "SP_3W1RrLjjD"
      },
      "source": [
        "When it comes to missing values, only one recipe name is missing, and 4979 recipe descriptions."
      ]
    },
    {
      "cell_type": "markdown",
      "metadata": {
        "id": "ahjyTSuqF67A"
      },
      "source": [
        "### **Submitted recipes per user**"
      ]
    },
    {
      "cell_type": "code",
      "metadata": {
        "colab": {
          "base_uri": "https://localhost:8080/",
          "height": 402
        },
        "id": "lkaoSOQVHFWu",
        "outputId": "605544f4-46cf-48eb-e69d-79e6a984fc55"
      },
      "source": [
        "recipes_per_user=raw_recipes.groupby('contributor_id').size().reset_index()\n",
        "recipes_per_user.columns=['User ID', \"Total recipes\"]\n",
        "recipes_per_user.sort_values(by='Total recipes', inplace=True,ascending = False)\n",
        "recipes_per_user.reset_index(drop=True, inplace=True)\n",
        "recipes_per_user"
      ],
      "execution_count": null,
      "outputs": [
        {
          "output_type": "execute_result",
          "data": {
            "text/html": [
              "<div>\n",
              "<style scoped>\n",
              "    .dataframe tbody tr th:only-of-type {\n",
              "        vertical-align: middle;\n",
              "    }\n",
              "\n",
              "    .dataframe tbody tr th {\n",
              "        vertical-align: top;\n",
              "    }\n",
              "\n",
              "    .dataframe thead th {\n",
              "        text-align: right;\n",
              "    }\n",
              "</style>\n",
              "<table border=\"1\" class=\"dataframe\">\n",
              "  <thead>\n",
              "    <tr style=\"text-align: right;\">\n",
              "      <th></th>\n",
              "      <th>User ID</th>\n",
              "      <th>Total recipes</th>\n",
              "    </tr>\n",
              "  </thead>\n",
              "  <tbody>\n",
              "    <tr>\n",
              "      <th>0</th>\n",
              "      <td>89831</td>\n",
              "      <td>3118</td>\n",
              "    </tr>\n",
              "    <tr>\n",
              "      <th>1</th>\n",
              "      <td>37779</td>\n",
              "      <td>2553</td>\n",
              "    </tr>\n",
              "    <tr>\n",
              "      <th>2</th>\n",
              "      <td>37449</td>\n",
              "      <td>2493</td>\n",
              "    </tr>\n",
              "    <tr>\n",
              "      <th>3</th>\n",
              "      <td>1533</td>\n",
              "      <td>1595</td>\n",
              "    </tr>\n",
              "    <tr>\n",
              "      <th>4</th>\n",
              "      <td>58104</td>\n",
              "      <td>1522</td>\n",
              "    </tr>\n",
              "    <tr>\n",
              "      <th>...</th>\n",
              "      <td>...</td>\n",
              "      <td>...</td>\n",
              "    </tr>\n",
              "    <tr>\n",
              "      <th>27921</th>\n",
              "      <td>344188</td>\n",
              "      <td>1</td>\n",
              "    </tr>\n",
              "    <tr>\n",
              "      <th>27922</th>\n",
              "      <td>344214</td>\n",
              "      <td>1</td>\n",
              "    </tr>\n",
              "    <tr>\n",
              "      <th>27923</th>\n",
              "      <td>344237</td>\n",
              "      <td>1</td>\n",
              "    </tr>\n",
              "    <tr>\n",
              "      <th>27924</th>\n",
              "      <td>344293</td>\n",
              "      <td>1</td>\n",
              "    </tr>\n",
              "    <tr>\n",
              "      <th>27925</th>\n",
              "      <td>2002289981</td>\n",
              "      <td>1</td>\n",
              "    </tr>\n",
              "  </tbody>\n",
              "</table>\n",
              "<p>27926 rows × 2 columns</p>\n",
              "</div>"
            ],
            "text/plain": [
              "          User ID  Total recipes\n",
              "0           89831           3118\n",
              "1           37779           2553\n",
              "2           37449           2493\n",
              "3            1533           1595\n",
              "4           58104           1522\n",
              "...           ...            ...\n",
              "27921      344188              1\n",
              "27922      344214              1\n",
              "27923      344237              1\n",
              "27924      344293              1\n",
              "27925  2002289981              1\n",
              "\n",
              "[27926 rows x 2 columns]"
            ]
          },
          "metadata": {
            "tags": []
          },
          "execution_count": 37
        }
      ]
    },
    {
      "cell_type": "markdown",
      "metadata": {
        "id": "d13LNnVLHYbO"
      },
      "source": [
        "A total of 231,637 recipes were published by only 27,926 users, most of the published recipes were from the user with id: 89831, who posted 3118 recipes."
      ]
    },
    {
      "cell_type": "markdown",
      "metadata": {
        "id": "nLxRiETkH8Y8"
      },
      "source": [
        "### **Most common words in recipes names**"
      ]
    },
    {
      "cell_type": "code",
      "metadata": {
        "colab": {
          "base_uri": "https://localhost:8080/"
        },
        "id": "Led05eW6IRX9",
        "outputId": "c68a0a0b-3797-4373-d90e-583494b3be0c"
      },
      "source": [
        "copy=raw_recipes.dropna(subset=['name']) #drop the row that has missing name value\n",
        "copy.isnull().sum()"
      ],
      "execution_count": null,
      "outputs": [
        {
          "output_type": "execute_result",
          "data": {
            "text/plain": [
              "name                 0\n",
              "id                   0\n",
              "minutes              0\n",
              "contributor_id       0\n",
              "submitted            0\n",
              "tags                 0\n",
              "nutrition            0\n",
              "n_steps              0\n",
              "steps                0\n",
              "description       4979\n",
              "ingredients          0\n",
              "n_ingredients        0\n",
              "dtype: int64"
            ]
          },
          "metadata": {
            "tags": []
          },
          "execution_count": 38
        }
      ]
    },
    {
      "cell_type": "code",
      "metadata": {
        "colab": {
          "base_uri": "https://localhost:8080/"
        },
        "id": "MJkRgtjaIadr",
        "outputId": "6c9e0fe5-dcaf-439c-81c2-5cafc9f9b75f"
      },
      "source": [
        "from collections import Counter\n",
        "\n",
        "rows = copy.name.values #all the names of the recipes\n",
        "words=[]\n",
        "for row in rows:\n",
        "  words.extend(row.split(\" \"))\n",
        "\n",
        "#words is a list of all the containing words in recipes names\n",
        "\n",
        "text_counter = Counter(words)\n",
        "text_counter\n",
        "Counter.most_common(text_counter)"
      ],
      "execution_count": null,
      "outputs": [
        {
          "output_type": "execute_result",
          "data": {
            "text/plain": [
              "[('', 72820),\n",
              " ('and', 30217),\n",
              " ('with', 26640),\n",
              " ('chicken', 22966),\n",
              " ('s', 19285),\n",
              " ('salad', 13299),\n",
              " ('sauce', 10075),\n",
              " ('cheese', 9745),\n",
              " ('chocolate', 9029),\n",
              " ('soup', 8859),\n",
              " ('cake', 8344),\n",
              " ('bread', 7074),\n",
              " ('cream', 6534),\n",
              " ('easy', 6445),\n",
              " ('pie', 6057),\n",
              " ('cookies', 6012),\n",
              " ('rice', 5736),\n",
              " ('potato', 5514),\n",
              " ('pork', 5430),\n",
              " ('beef', 5386),\n",
              " ('casserole', 5378),\n",
              " ('baked', 5275),\n",
              " ('lemon', 4677),\n",
              " ('apple', 4631),\n",
              " ('pot', 4531),\n",
              " ('butter', 4430),\n",
              " ('sweet', 4372),\n",
              " ('in', 4338),\n",
              " ('pasta', 4262),\n",
              " ('garlic', 4232),\n",
              " ('potatoes', 4187),\n",
              " ('tomato', 4111),\n",
              " ('the', 3982),\n",
              " ('for', 3829),\n",
              " ('shrimp', 3800),\n",
              " ('grilled', 3704),\n",
              " ('spinach', 3526),\n",
              " ('a', 3517),\n",
              " ('dip', 3483),\n",
              " ('roasted', 3473),\n",
              " ('banana', 3419),\n",
              " ('bean', 3393),\n",
              " ('muffins', 3389),\n",
              " ('style', 3364),\n",
              " ('crock', 3357),\n",
              " ('spicy', 3318),\n",
              " ('orange', 3255),\n",
              " ('creamy', 3175),\n",
              " ('green', 3063),\n",
              " ('stuffed', 3033),\n",
              " ('beans', 2940),\n",
              " ('peanut', 2889),\n",
              " ('red', 2847),\n",
              " ('corn', 2821),\n",
              " ('chili', 2809),\n",
              " ('low', 2804),\n",
              " ('fried', 2744),\n",
              " ('bacon', 2741),\n",
              " ('pumpkin', 2638),\n",
              " ('hot', 2606),\n",
              " ('or', 2559),\n",
              " ('dressing', 2557),\n",
              " ('honey', 2542),\n",
              " ('sausage', 2535),\n",
              " ('turkey', 2452),\n",
              " ('salmon', 2450),\n",
              " ('bake', 2446),\n",
              " ('italian', 2387),\n",
              " ('broccoli', 2370),\n",
              " ('onion', 2356),\n",
              " ('pizza', 2342),\n",
              " ('white', 2323),\n",
              " ('mushroom', 2295),\n",
              " ('steak', 2277),\n",
              " ('pudding', 2262),\n",
              " ('fat', 2227),\n",
              " ('bars', 2200),\n",
              " ('strawberry', 2193),\n",
              " ('free', 2180),\n",
              " ('cranberry', 2171),\n",
              " ('roast', 2121),\n",
              " ('of', 2119),\n",
              " ('coconut', 2102),\n",
              " ('stew', 2093),\n",
              " ('ham', 2075),\n",
              " ('vegetable', 2051),\n",
              " ('oatmeal', 2050),\n",
              " ('quick', 2048),\n",
              " ('zucchini', 2044),\n",
              " ('fruit', 2031),\n",
              " ('black', 2016),\n",
              " ('chops', 1979),\n",
              " ('best', 1974),\n",
              " ('pepper', 1899),\n",
              " ('ginger', 1861),\n",
              " ('chip', 1858),\n",
              " ('cinnamon', 1833),\n",
              " ('no', 1828),\n",
              " ('sour', 1809),\n",
              " ('pineapple', 1803),\n",
              " ('french', 1784),\n",
              " ('sandwich', 1781),\n",
              " ('salsa', 1765),\n",
              " ('cheesecake', 1761),\n",
              " ('mexican', 1732),\n",
              " ('cheesy', 1690),\n",
              " ('tuna', 1675),\n",
              " ('fresh', 1660),\n",
              " ('curry', 1656),\n",
              " ('coffee', 1638),\n",
              " ('sugar', 1631),\n",
              " ('rolls', 1615),\n",
              " ('parmesan', 1610),\n",
              " ('egg', 1602),\n",
              " ('lime', 1593),\n",
              " ('mushrooms', 1587),\n",
              " ('tomatoes', 1574),\n",
              " ('blueberry', 1569),\n",
              " ('cherry', 1548),\n",
              " ('squash', 1544),\n",
              " ('breakfast', 1515),\n",
              " ('pecan', 1503),\n",
              " ('cabbage', 1500),\n",
              " ('simple', 1483),\n",
              " ('fish', 1477),\n",
              " ('pancakes', 1473),\n",
              " ('eggs', 1473),\n",
              " ('almond', 1449),\n",
              " ('asparagus', 1440),\n",
              " ('carrot', 1437),\n",
              " ('mix', 1437),\n",
              " ('spaghetti', 1414),\n",
              " ('mustard', 1388),\n",
              " ('oven', 1371),\n",
              " ('vegan', 1367),\n",
              " ('sandwiches', 1335),\n",
              " ('greek', 1332),\n",
              " ('macaroni', 1290),\n",
              " ('stir', 1290),\n",
              " ('basil', 1277),\n",
              " ('homemade', 1275),\n",
              " ('spiced', 1275),\n",
              " ('brownies', 1274),\n",
              " ('my', 1265),\n",
              " ('ice', 1264),\n",
              " ('glazed', 1264),\n",
              " ('slow', 1264),\n",
              " ('caramel', 1250),\n",
              " ('lamb', 1249),\n",
              " ('cooker', 1248),\n",
              " ('smoothie', 1243),\n",
              " ('raspberry', 1237),\n",
              " ('burgers', 1236),\n",
              " ('meatballs', 1236),\n",
              " ('tea', 1196),\n",
              " ('fudge', 1189),\n",
              " ('nut', 1188),\n",
              " ('brown', 1183),\n",
              " ('onions', 1173),\n",
              " ('thai', 1170),\n",
              " ('bbq', 1167),\n",
              " ('feta', 1167),\n",
              " ('peach', 1154),\n",
              " ('crab', 1151),\n",
              " ('cheddar', 1144),\n",
              " ('herb', 1142),\n",
              " ('maple', 1138),\n",
              " ('peppers', 1136),\n",
              " ('avocado', 1134),\n",
              " ('meatloaf', 1126),\n",
              " ('healthy', 1124),\n",
              " ('ww', 1121),\n",
              " ('recipe', 1100),\n",
              " ('fry', 1094),\n",
              " ('on', 1074),\n",
              " ('spice', 1062),\n",
              " ('noodles', 1061),\n",
              " ('lasagna', 1045),\n",
              " ('n', 1041),\n",
              " ('de', 1033),\n",
              " ('mango', 1013),\n",
              " ('walnut', 1012),\n",
              " ('gluten', 1007),\n",
              " ('cauliflower', 1001),\n",
              " ('wheat', 1001),\n",
              " ('biscuits', 998),\n",
              " ('yogurt', 995),\n",
              " ('eggplant', 995),\n",
              " ('skillet', 995),\n",
              " ('toast', 990),\n",
              " ('dessert', 989),\n",
              " ('wine', 989),\n",
              " ('delicious', 984),\n",
              " ('spread', 979),\n",
              " ('pesto', 977),\n",
              " ('from', 971),\n",
              " ('w', 960),\n",
              " ('cucumber', 959),\n",
              " ('blue', 955),\n",
              " ('gravy', 945),\n",
              " ('super', 942),\n",
              " ('taco', 941),\n",
              " ('whole', 935),\n",
              " ('asian', 929),\n",
              " ('marinade', 927),\n",
              " ('rosemary', 927),\n",
              " ('vegetarian', 925),\n",
              " ('mom', 919),\n",
              " ('mashed', 915),\n",
              " ('vanilla', 912),\n",
              " ('vegetables', 911),\n",
              " ('sesame', 908),\n",
              " ('cakes', 905),\n",
              " ('crust', 901),\n",
              " ('frosting', 899),\n",
              " ('noodle', 897),\n",
              " ('marinated', 896),\n",
              " ('lentil', 894),\n",
              " ('balsamic', 890),\n",
              " ('smoked', 888),\n",
              " ('raisin', 887),\n",
              " ('tofu', 875),\n",
              " ('chowder', 873),\n",
              " ('meat', 872),\n",
              " ('artichoke', 862),\n",
              " ('old', 859),\n",
              " ('squares', 858),\n",
              " ('dried', 855),\n",
              " ('olive', 850),\n",
              " ('apricot', 850),\n",
              " ('berry', 846),\n",
              " ('ever', 838),\n",
              " ('beer', 837),\n",
              " ('vinaigrette', 830),\n",
              " ('breasts', 821),\n",
              " ('carrots', 813),\n",
              " ('veggie', 812),\n",
              " ('cornbread', 807),\n",
              " ('peas', 803),\n",
              " ('barbecue', 802),\n",
              " ('curried', 792),\n",
              " ('chinese', 783),\n",
              " ('new', 775),\n",
              " ('loaf', 773),\n",
              " ('favorite', 769),\n",
              " ('balls', 768),\n",
              " ('light', 765),\n",
              " ('mini', 764),\n",
              " ('ribs', 762),\n",
              " ('crispy', 761),\n",
              " ('carb', 755),\n",
              " ('mint', 751),\n",
              " ('one', 749),\n",
              " ('buttermilk', 749),\n",
              " ('pan', 746),\n",
              " ('yummy', 744),\n",
              " ('roll', 742),\n",
              " ('summer', 731),\n",
              " ('machine', 730),\n",
              " ('cupcakes', 728),\n",
              " ('2', 723),\n",
              " ('cajun', 721),\n",
              " ('cocktail', 720),\n",
              " ('copycat', 713),\n",
              " ('swiss', 705),\n",
              " ('by', 703),\n",
              " ('dill', 692),\n",
              " ('tenderloin', 688),\n",
              " ('quiche', 684),\n",
              " ('ranch', 681),\n",
              " ('pear', 679),\n",
              " ('chipotle', 678),\n",
              " ('couscous', 677),\n",
              " ('glaze', 674),\n",
              " ('stuffing', 668),\n",
              " ('milk', 666),\n",
              " ('german', 663),\n",
              " ('savory', 661),\n",
              " ('country', 658),\n",
              " ('crisp', 658),\n",
              " ('scones', 656),\n",
              " ('enchiladas', 655),\n",
              " ('wild', 653),\n",
              " ('grandma', 651),\n",
              " ('cookie', 647),\n",
              " ('apples', 646),\n",
              " ('wings', 642),\n",
              " ('moroccan', 637),\n",
              " ('chile', 636),\n",
              " ('southern', 625),\n",
              " ('herbed', 621),\n",
              " ('pea', 620),\n",
              " ('to', 617),\n",
              " ('indian', 615),\n",
              " ('microwave', 612),\n",
              " ('baby', 610),\n",
              " ('cilantro', 604),\n",
              " ('jam', 600),\n",
              " ('gratin', 599),\n",
              " ('penne', 597),\n",
              " ('tart', 596),\n",
              " ('dinner', 595),\n",
              " ('bell', 587),\n",
              " ('braised', 580),\n",
              " ('goat', 578),\n",
              " ('good', 576),\n",
              " ('citrus', 576),\n",
              " ('seed', 570),\n",
              " ('dumplings', 570),\n",
              " ('jalapeno', 561),\n",
              " ('warm', 560),\n",
              " ('basic', 559),\n",
              " ('la', 557),\n",
              " ('rum', 557),\n",
              " ('syrup', 553),\n",
              " ('steaks', 551),\n",
              " ('caramelized', 550),\n",
              " ('double', 546),\n",
              " ('tortilla', 543),\n",
              " ('punch', 542),\n",
              " ('ground', 542),\n",
              " ('butternut', 541),\n",
              " ('mediterranean', 539),\n",
              " ('two', 538),\n",
              " ('chickpea', 536),\n",
              " ('perfect', 535),\n",
              " ('tacos', 535),\n",
              " ('crusted', 534),\n",
              " ('sauteed', 533),\n",
              " ('dish', 532),\n",
              " ('hamburger', 532),\n",
              " ('christmas', 531),\n",
              " ('coleslaw', 530),\n",
              " ('weight', 530),\n",
              " ('nuts', 529),\n",
              " ('sun', 524),\n",
              " ('alfredo', 524),\n",
              " ('barley', 520),\n",
              " ('hash', 520),\n",
              " ('fashioned', 516),\n",
              " ('garden', 515),\n",
              " ('cobbler', 514),\n",
              " ('topping', 514),\n",
              " ('risotto', 513),\n",
              " ('spanish', 510),\n",
              " ('mocha', 510),\n",
              " ('up', 505),\n",
              " ('rhubarb', 504),\n",
              " ('crunchy', 498),\n",
              " ('pound', 497),\n",
              " ('frozen', 497),\n",
              " ('wraps', 494),\n",
              " ('candy', 493),\n",
              " ('irish', 492),\n",
              " ('seafood', 484),\n",
              " ('3', 484),\n",
              " ('ricotta', 484),\n",
              " ('dipping', 480),\n",
              " ('oat', 479),\n",
              " ('tasty', 473),\n",
              " ('burger', 473),\n",
              " ('your', 472),\n",
              " ('1', 471),\n",
              " ('shake', 470),\n",
              " ('mozzarella', 470),\n",
              " ('au', 469),\n",
              " ('barbecued', 467),\n",
              " ('pilaf', 466),\n",
              " ('breast', 465),\n",
              " ('slaw', 464),\n",
              " ('oamc', 462),\n",
              " ('south', 462),\n",
              " ('three', 462),\n",
              " ('filling', 460),\n",
              " ('layer', 459),\n",
              " ('classic', 459),\n",
              " ('dough', 458),\n",
              " ('fries', 456),\n",
              " ('golden', 456),\n",
              " ('points', 455),\n",
              " ('mac', 454),\n",
              " ('watchers', 453),\n",
              " ('scallops', 452),\n",
              " ('sprouts', 450),\n",
              " ('angel', 446),\n",
              " ('iced', 446),\n",
              " ('crunch', 446),\n",
              " ('custard', 445),\n",
              " ('teriyaki', 445),\n",
              " ('minute', 445),\n",
              " ('bites', 443),\n",
              " ('mousse', 443),\n",
              " ('quinoa', 443),\n",
              " ('patties', 442),\n",
              " ('dijon', 441),\n",
              " ('soy', 441),\n",
              " ('yellow', 439),\n",
              " ('version', 435),\n",
              " ('applesauce', 434),\n",
              " ('con', 434),\n",
              " ('orzo', 433),\n",
              " ('greens', 431),\n",
              " ('waffles', 431),\n",
              " ('aubergine', 429),\n",
              " ('lemonade', 427),\n",
              " ('ultimate', 427),\n",
              " ('food', 420),\n",
              " ('delight', 418),\n",
              " ('oil', 417),\n",
              " ('down', 416),\n",
              " ('olives', 414),\n",
              " ('holiday', 414),\n",
              " ('soft', 414),\n",
              " ('date', 412),\n",
              " ('relish', 408),\n",
              " ('buffalo', 406),\n",
              " ('granola', 406),\n",
              " ('layered', 406),\n",
              " ('5', 405),\n",
              " ('brussels', 405),\n",
              " ('stroganoff', 404),\n",
              " ('brownie', 403),\n",
              " ('texas', 403),\n",
              " ('toasted', 402),\n",
              " ('chips', 398),\n",
              " ('bran', 397),\n",
              " ('fettuccine', 397),\n",
              " ('kittencal', 396),\n",
              " ('icing', 394),\n",
              " ('paula', 394),\n",
              " ('toffee', 393),\n",
              " ('cider', 391),\n",
              " ('butterscotch', 391),\n",
              " ('awesome', 390),\n",
              " ('tilapia', 390),\n",
              " ('cups', 387),\n",
              " ('rich', 386),\n",
              " ('chutney', 386),\n",
              " ('cocoa', 384),\n",
              " ('buns', 382),\n",
              " ('leek', 382),\n",
              " ('jelly', 381),\n",
              " ('hawaiian', 379),\n",
              " ('tortellini', 378),\n",
              " ('very', 377),\n",
              " ('tropical', 376),\n",
              " ('wrapped', 375),\n",
              " ('over', 374),\n",
              " ('rub', 374),\n",
              " ('hearty', 374),\n",
              " ('party', 373),\n",
              " ('not', 373),\n",
              " ('top', 372),\n",
              " ('bar', 371),\n",
              " ('poppy', 371),\n",
              " ('cooked', 370),\n",
              " ('filled', 370),\n",
              " ('all', 369),\n",
              " ('deen', 368),\n",
              " ('day', 366),\n",
              " ('like', 366),\n",
              " ('southwestern', 365),\n",
              " ('sloppy', 364),\n",
              " ('creamed', 364),\n",
              " ('shortbread', 364),\n",
              " ('snack', 363),\n",
              " ('bowl', 362),\n",
              " ('tangy', 362),\n",
              " ('cashew', 362),\n",
              " ('omelet', 362),\n",
              " ('sage', 362),\n",
              " ('frittata', 361),\n",
              " ('mixed', 359),\n",
              " ('swedish', 357),\n",
              " ('it', 356),\n",
              " ('special', 356),\n",
              " ('diabetic', 356),\n",
              " ('hummus', 354),\n",
              " ('i', 353),\n",
              " ('jello', 352),\n",
              " ('you', 351),\n",
              " ('deviled', 351),\n",
              " ('pink', 351),\n",
              " ('martini', 351),\n",
              " ('caribbean', 350),\n",
              " ('famous', 348),\n",
              " ('quesadillas', 348),\n",
              " ('gingerbread', 348),\n",
              " ('brie', 346),\n",
              " ('steamed', 345),\n",
              " ('zesty', 345),\n",
              " ('creole', 342),\n",
              " ('popcorn', 341),\n",
              " ('pastry', 341),\n",
              " ('guacamole', 340),\n",
              " ('thyme', 340),\n",
              " ('make', 338),\n",
              " ('traditional', 338),\n",
              " ('mayonnaise', 337),\n",
              " ('scalloped', 337),\n",
              " ('chewy', 337),\n",
              " ('caesar', 336),\n",
              " ('pecans', 336),\n",
              " ('4', 331),\n",
              " ('t', 331),\n",
              " ('prosciutto', 331),\n",
              " ('broiled', 330),\n",
              " ('african', 329),\n",
              " ('biscotti', 329),\n",
              " ('horseradish', 329),\n",
              " ('pine', 329),\n",
              " ('pickled', 328),\n",
              " ('ii', 327),\n",
              " ('vinegar', 326),\n",
              " ('upside', 326),\n",
              " ('sauerkraut', 325),\n",
              " ('dairy', 324),\n",
              " ('appetizer', 324),\n",
              " ('japanese', 323),\n",
              " ('veggies', 323),\n",
              " ('bourbon', 321),\n",
              " ('scrambled', 320),\n",
              " ('meatball', 319),\n",
              " ('mex', 319),\n",
              " ('cottage', 315),\n",
              " ('linguine', 315),\n",
              " ('fritters', 314),\n",
              " ('strawberries', 312),\n",
              " ('pita', 311),\n",
              " ('oriental', 311),\n",
              " ('creme', 310),\n",
              " ('seasoning', 310),\n",
              " ('polenta', 310),\n",
              " ('ray', 310),\n",
              " ('dutch', 308),\n",
              " ('streusel', 308),\n",
              " ('almonds', 308),\n",
              " ('herbs', 307),\n",
              " ('english', 307),\n",
              " ('burritos', 307),\n",
              " ('tex', 307),\n",
              " ('spring', 305),\n",
              " ('lentils', 305),\n",
              " ('lettuce', 303),\n",
              " ('tarragon', 303),\n",
              " ('chef', 302),\n",
              " ('sticky', 302),\n",
              " ('aunt', 300),\n",
              " ('grill', 300),\n",
              " ('easiest', 299),\n",
              " ('kabobs', 299),\n",
              " ('way', 298),\n",
              " ('world', 298),\n",
              " ('pancake', 297),\n",
              " ('topped', 297),\n",
              " ('juice', 296),\n",
              " ('blackberry', 295),\n",
              " ('skewers', 294),\n",
              " ('wilbur', 293),\n",
              " ('big', 292),\n",
              " ('bundt', 292),\n",
              " ('bananas', 291),\n",
              " ('southwest', 291),\n",
              " ('supreme', 290),\n",
              " ('great', 290),\n",
              " ('moist', 289),\n",
              " ('chorizo', 289),\n",
              " ('rachael', 289),\n",
              " ('todd', 288),\n",
              " ('enchilada', 288),\n",
              " ('split', 287),\n",
              " ('puffs', 286),\n",
              " ('bruschetta', 286),\n",
              " ('fennel', 286),\n",
              " ('house', 285),\n",
              " ('ravioli', 285),\n",
              " ('deep', 284),\n",
              " ('raw', 283),\n",
              " ('puff', 283),\n",
              " ('lobster', 283),\n",
              " ('pies', 282),\n",
              " ('margarita', 281),\n",
              " ('pistachio', 281),\n",
              " ('clam', 280),\n",
              " ('drink', 280),\n",
              " ('ups', 279),\n",
              " ('wrap', 279),\n",
              " ('crescent', 278),\n",
              " ('fillets', 278),\n",
              " ('joes', 277),\n",
              " ('winter', 276),\n",
              " ('shells', 276),\n",
              " ('cold', 276),\n",
              " ('aka', 275),\n",
              " ('watermelon', 275),\n",
              " ('island', 275),\n",
              " ('crumble', 274),\n",
              " ('kielbasa', 274),\n",
              " ('portabella', 272),\n",
              " ('ball', 271),\n",
              " ('crumb', 271),\n",
              " ('amazing', 270),\n",
              " ('loin', 270),\n",
              " ('russian', 269),\n",
              " ('grape', 269),\n",
              " ('molasses', 269),\n",
              " ('kale', 268),\n",
              " ('sourdough', 267),\n",
              " ('seared', 267),\n",
              " ('poached', 267),\n",
              " ('friendly', 266),\n",
              " ('cafe', 266),\n",
              " ('thighs', 266),\n",
              " ('chilli', 265),\n",
              " ('triple', 264),\n",
              " ('fluffy', 264),\n",
              " ('jack', 264),\n",
              " ('torte', 263),\n",
              " ('walnuts', 262),\n",
              " ('melt', 262),\n",
              " ('flank', 260),\n",
              " ('o', 258),\n",
              " ('fast', 258),\n",
              " ('cook', 257),\n",
              " ('family', 256),\n",
              " ('cracker', 256),\n",
              " ('diet', 256),\n",
              " ('whipped', 255),\n",
              " ('surprise', 255),\n",
              " ('crepes', 255),\n",
              " ('chunky', 255),\n",
              " ('mama', 254),\n",
              " ('can', 253),\n",
              " ('rib', 253),\n",
              " ('celery', 252),\n",
              " ('plum', 252),\n",
              " ('real', 251),\n",
              " ('tarts', 251),\n",
              " ('dark', 250),\n",
              " ('mandarin', 250),\n",
              " ('b', 250),\n",
              " ('veal', 249),\n",
              " ('parsley', 249),\n",
              " ('marshmallow', 249),\n",
              " ('beet', 248),\n",
              " ('authentic', 247),\n",
              " ('hazelnut', 247),\n",
              " ('better', 246),\n",
              " ('vietnamese', 246),\n",
              " ('salt', 246),\n",
              " ('cod', 246),\n",
              " ('dogs', 244),\n",
              " ('pomegranate', 244),\n",
              " ('saute', 244),\n",
              " ('peaches', 243),\n",
              " ('made', 242),\n",
              " ('eggnog', 242),\n",
              " ('cumin', 242),\n",
              " ('gorgonzola', 242),\n",
              " ('macadamia', 240),\n",
              " ('browns', 240),\n",
              " ('bleu', 240),\n",
              " ('danish', 239),\n",
              " ('brisket', 239),\n",
              " ('cheeseburger', 238),\n",
              " ('home', 237),\n",
              " ('so', 237),\n",
              " ('smoky', 237),\n",
              " ('drop', 237),\n",
              " ('seasoned', 237),\n",
              " ('m', 236),\n",
              " ('fiesta', 236),\n",
              " ('portuguese', 236),\n",
              " ('dog', 235),\n",
              " ('biscuit', 235),\n",
              " ('chickpeas', 235),\n",
              " ('fondue', 234),\n",
              " ('souffle', 234),\n",
              " ('mock', 233),\n",
              " ('grain', 233),\n",
              " ('halibut', 232),\n",
              " ('meringue', 232),\n",
              " ('non', 231),\n",
              " ('e', 231),\n",
              " ('shepherd', 230),\n",
              " ('pickles', 229),\n",
              " ('california', 227),\n",
              " ('abm', 227),\n",
              " ('tuscan', 227),\n",
              " ('trifle', 227),\n",
              " ('leftover', 226),\n",
              " ('artichokes', 226),\n",
              " ('little', 225),\n",
              " ('goulash', 225),\n",
              " ('pepperoni', 225),\n",
              " ('flour', 225),\n",
              " ('beach', 224),\n",
              " ('cornmeal', 224),\n",
              " ('batter', 223),\n",
              " ('pollo', 223),\n",
              " ('kahlua', 222),\n",
              " ('chive', 222),\n",
              " ('nutty', 222),\n",
              " ('supper', 221),\n",
              " ('lemony', 220),\n",
              " ('five', 220),\n",
              " ('gourmet', 219),\n",
              " ('stove', 219),\n",
              " ('cutlets', 217),\n",
              " ('crockpot', 217),\n",
              " ('prawns', 216),\n",
              " ('american', 215),\n",
              " ('appetizers', 215),\n",
              " ('cuban', 215),\n",
              " ('pears', 215),\n",
              " ('kebabs', 215),\n",
              " ('venison', 214),\n",
              " ('key', 214),\n",
              " ('al', 213),\n",
              " ('peppermint', 212),\n",
              " ('omelette', 212),\n",
              " ('harvest', 212),\n",
              " ('korean', 212),\n",
              " ('nachos', 211),\n",
              " ('slice', 211),\n",
              " ('marmalade', 211),\n",
              " ('verde', 211),\n",
              " ('uncle', 211),\n",
              " ('fruity', 210),\n",
              " ('restaurant', 209),\n",
              " ('candied', 209),\n",
              " ('protein', 208),\n",
              " ('hungarian', 208),\n",
              " ('shredded', 208),\n",
              " ('fig', 208),\n",
              " ('arugula', 207),\n",
              " ('swirl', 206),\n",
              " ('amaretto', 206),\n",
              " ('polish', 205),\n",
              " ('bisque', 205),\n",
              " ('florentine', 204),\n",
              " ('saffron', 204),\n",
              " ('chop', 203),\n",
              " ('corned', 203),\n",
              " ('king', 202),\n",
              " ('cranberries', 202),\n",
              " ('panini', 202),\n",
              " ('simply', 201),\n",
              " ('pressure', 201),\n",
              " ('out', 200),\n",
              " ('eyed', 200),\n",
              " ('snow', 200),\n",
              " ('linda', 200),\n",
              " ('chai', 199),\n",
              " ('di', 199),\n",
              " ('paprika', 199),\n",
              " ('truffles', 198),\n",
              " ('pulled', 198),\n",
              " ('soda', 198),\n",
              " ('autumn', 198),\n",
              " ('smothered', 197),\n",
              " ('beets', 197),\n",
              " ('canadian', 197),\n",
              " ('than', 196),\n",
              " ('wedges', 196),\n",
              " ('jamaican', 195),\n",
              " ('treats', 195),\n",
              " ('sticks', 193),\n",
              " ('muffin', 193),\n",
              " ('mary', 193),\n",
              " ('emeril', 193),\n",
              " ('yeast', 192),\n",
              " ('ahead', 192),\n",
              " ('crackers', 192),\n",
              " ('jar', 192),\n",
              " ('dream', 191),\n",
              " ('cooking', 190),\n",
              " ('leeks', 190),\n",
              " ('saucy', 190),\n",
              " ('d', 189),\n",
              " ('vodka', 189),\n",
              " ('hair', 189),\n",
              " ('ziti', 189),\n",
              " ('oreo', 188),\n",
              " ('boiled', 188),\n",
              " ('bill', 188),\n",
              " ('chard', 188),\n",
              " ('gnocchi', 187),\n",
              " ('secret', 187),\n",
              " ('twice', 187),\n",
              " ('sea', 187),\n",
              " ('mayo', 186),\n",
              " ('calorie', 185),\n",
              " ('brunch', 185),\n",
              " ('that', 184),\n",
              " ('fingers', 184),\n",
              " ('middle', 184),\n",
              " ('jambalaya', 184),\n",
              " ('breaded', 184),\n",
              " ('fajitas', 183),\n",
              " ('mahi', 183),\n",
              " ('amish', 180),\n",
              " ('gumbo', 180),\n",
              " ('buttery', 180),\n",
              " ('just', 179),\n",
              " ('cole', 179),\n",
              " ('instant', 179),\n",
              " ('yum', 179),\n",
              " ('turkish', 179),\n",
              " ('easter', 179),\n",
              " ('rsc', 179),\n",
              " ('mrs', 179),\n",
              " ('carne', 178),\n",
              " ('graham', 178),\n",
              " ('coriander', 178),\n",
              " ('cardamom', 178),\n",
              " ('capers', 178),\n",
              " ('hoisin', 178),\n",
              " ('ingredient', 177),\n",
              " ('velvet', 177),\n",
              " ('duck', 177),\n",
              " ('catfish', 177),\n",
              " ('flax', 176),\n",
              " ('alcoholic', 175),\n",
              " ('strips', 175),\n",
              " ('root', 175),\n",
              " ('substitute', 175),\n",
              " ('thanksgiving', 175),\n",
              " ('barefoot', 175),\n",
              " ('really', 174),\n",
              " ('high', 174),\n",
              " ('masala', 174),\n",
              " ('colada', 174),\n",
              " ('contessa', 174),\n",
              " ('bisquick', 173),\n",
              " ('cappuccino', 173),\n",
              " ('alla', 173),\n",
              " ('praline', 173),\n",
              " ('morning', 172),\n",
              " ('heavenly', 172),\n",
              " ('buttercream', 172),\n",
              " ('garlicky', 172),\n",
              " ('raisins', 172),\n",
              " ('four', 172),\n",
              " ('almost', 171),\n",
              " ('eastern', 171),\n",
              " ('another', 171),\n",
              " ('slices', 171),\n",
              " ('bow', 171),\n",
              " ('sangria', 170),\n",
              " ('fabulous', 170),\n",
              " ('okra', 170),\n",
              " ('reuben', 170),\n",
              " ('marinara', 169),\n",
              " ('scampi', 169),\n",
              " ('7', 169),\n",
              " ('rigatoni', 169),\n",
              " ('latte', 169),\n",
              " ('short', 169),\n",
              " ('cooler', 168),\n",
              " ('original', 168),\n",
              " ('sirloin', 168),\n",
              " ('oyster', 168),\n",
              " ('cereal', 167),\n",
              " ('ramen', 167),\n",
              " ('dad', 167),\n",
              " ('acorn', 166),\n",
              " ('phyllo', 165),\n",
              " ('cup', 165),\n",
              " ('magic', 165),\n",
              " ('sorbet', 165),\n",
              " ('overnight', 165),\n",
              " ('brandy', 165),\n",
              " ('champagne', 164),\n",
              " ('dry', 164),\n",
              " ('grapefruit', 164),\n",
              " ('mussels', 164),\n",
              " ('twist', 163),\n",
              " ('kugel', 163),\n",
              " ('me', 162),\n",
              " ('prawn', 162),\n",
              " ('water', 162),\n",
              " ('scallop', 162),\n",
              " ('side', 161),\n",
              " ('cool', 161),\n",
              " ('lazy', 161),\n",
              " ('melon', 161),\n",
              " ('gooey', 161),\n",
              " ('deluxe', 160),\n",
              " ('buttered', 160),\n",
              " ('chopped', 160),\n",
              " ('grits', 160),\n",
              " ('minestrone', 159),\n",
              " ('tater', 159),\n",
              " ('blt', 159),\n",
              " ('rye', 159),\n",
              " ('mascarpone', 158),\n",
              " ('crisps', 158),\n",
              " ('marsala', 157),\n",
              " ('chilled', 157),\n",
              " ('l', 155),\n",
              " ('eye', 155),\n",
              " ('tender', 155),\n",
              " ('manicotti', 154),\n",
              " ('tequila', 154),\n",
              " ('jerk', 154),\n",
              " ('ala', 154),\n",
              " ('pinwheels', 154),\n",
              " ('freezer', 153),\n",
              " ('meal', 153),\n",
              " ('lavender', 153),\n",
              " ('whiskey', 153),\n",
              " ('cal', 152),\n",
              " ('crustless', 152),\n",
              " ('lower', 152),\n",
              " ('focaccia', 152),\n",
              " ('queso', 151),\n",
              " ('betty', 151),\n",
              " ('wasabi', 151),\n",
              " ('krispies', 150),\n",
              " ('liver', 150),\n",
              " ('medley', 150),\n",
              " ('hamburgers', 150),\n",
              " ('time', 149),\n",
              " ('choy', 149),\n",
              " ('open', 148),\n",
              " ('joe', 148),\n",
              " ('pate', 148),\n",
              " ('santa', 148),\n",
              " ('tiramisu', 148),\n",
              " ('cowboy', 148),\n",
              " ('yoghurt', 148),\n",
              " ('pretzel', 148),\n",
              " ('chow', 147),\n",
              " ('carbonara', 147),\n",
              " ('england', 147),\n",
              " ('strata', 147),\n",
              " ('burrito', 146),\n",
              " ('doughnuts', 146),\n",
              " ('brazilian', 146),\n",
              " ('seeds', 146),\n",
              " ('spareribs', 145),\n",
              " ('broth', 145),\n",
              " ('pina', 143),\n",
              " ('cucumbers', 143),\n",
              " ('stewed', 142),\n",
              " ('espresso', 142),\n",
              " ('rose', 142),\n",
              " ('sherry', 142),\n",
              " ('kitchen', 141),\n",
              " ('milkshake', 141),\n",
              " ('more', 140),\n",
              " ('too', 140),\n",
              " ('macaroons', 140),\n",
              " ('fudgy', 140),\n",
              " ('club', 140),\n",
              " ('variations', 140),\n",
              " ('game', 139),\n",
              " ('john', 139),\n",
              " ('kiwi', 139),\n",
              " ('rings', 139),\n",
              " ('snapper', 139),\n",
              " ('love', 138),\n",
              " ('pickle', 138),\n",
              " ('papaya', 138),\n",
              " ('compote', 138),\n",
              " ('arroz', 138),\n",
              " ('flavored', 138),\n",
              " ('hearts', 137),\n",
              " ('mein', 137),\n",
              " ('covered', 137),\n",
              " ('tagine', 137),\n",
              " ('healthier', 137),\n",
              " ('persian', 137),\n",
              " ('nutella', 137),\n",
              " ('sunday', 136),\n",
              " ('chunk', 136),\n",
              " ('loaded', 135),\n",
              " ('sponge', 135),\n",
              " ('pretzels', 135),\n",
              " ('sausages', 135),\n",
              " ('norwegian', 135),\n",
              " ('st', 135),\n",
              " ('cob', 134),\n",
              " ('granny', 134),\n",
              " ('lighter', 134),\n",
              " ('elegant', 134),\n",
              " ('savoury', 134),\n",
              " ('trout', 134),\n",
              " ('man', 133),\n",
              " ('fruitcake', 133),\n",
              " ('york', 133),\n",
              " ('decadent', 133),\n",
              " ('peachy', 133),\n",
              " ('tortillas', 133),\n",
              " ('west', 133),\n",
              " ('nuggets', 133),\n",
              " ('passover', 133),\n",
              " ('shallots', 133),\n",
              " ('north', 133),\n",
              " ...]"
            ]
          },
          "metadata": {
            "tags": []
          },
          "execution_count": 39
        }
      ]
    },
    {
      "cell_type": "markdown",
      "metadata": {
        "id": "XQfm80WaJU3t"
      },
      "source": [
        "### **Number of steps (to make the recipe) per recipe**"
      ]
    },
    {
      "cell_type": "code",
      "metadata": {
        "colab": {
          "base_uri": "https://localhost:8080/"
        },
        "id": "Foc9m2yxJsKB",
        "outputId": "6a9b0993-1b3b-436b-b142-be788f17efc0"
      },
      "source": [
        "print ('Min steps required: ', raw_recipes['n_steps'].min())\n",
        "print ('Max steps required: ', raw_recipes['n_steps'].max())\n",
        "print ('Average steps required: ', raw_recipes['n_steps'].mean())"
      ],
      "execution_count": null,
      "outputs": [
        {
          "output_type": "stream",
          "text": [
            "Min steps required:  0\n",
            "Max steps required:  145\n",
            "Average steps required:  9.7654994668382\n"
          ],
          "name": "stdout"
        }
      ]
    },
    {
      "cell_type": "markdown",
      "metadata": {
        "id": "zAqhC6c9Jwk7"
      },
      "source": [
        "### **Cooking time per recipe**"
      ]
    },
    {
      "cell_type": "code",
      "metadata": {
        "colab": {
          "base_uri": "https://localhost:8080/"
        },
        "id": "tNo3EzutJvy2",
        "outputId": "9cb6e308-7714-4912-c58a-af4ada81228e"
      },
      "source": [
        "print ('Min minutes required: ', raw_recipes['minutes'].min())\n",
        "print ('Max minutes required: ', raw_recipes['minutes'].max())\n",
        "print ('Average minutes required: ', raw_recipes['minutes'].mean())"
      ],
      "execution_count": null,
      "outputs": [
        {
          "output_type": "stream",
          "text": [
            "Min minutes required:  0\n",
            "Max minutes required:  2147483647\n",
            "Average minutes required:  9398.546009488984\n"
          ],
          "name": "stdout"
        }
      ]
    },
    {
      "cell_type": "markdown",
      "metadata": {
        "id": "tDlprMnuYtAg"
      },
      "source": [
        "### **Number of ingredients per recipe**"
      ]
    },
    {
      "cell_type": "code",
      "metadata": {
        "colab": {
          "base_uri": "https://localhost:8080/"
        },
        "id": "7powbUJaYZ97",
        "outputId": "3c064a08-4b60-4dc3-cbed-fd7b570f4639"
      },
      "source": [
        "print ('Min number of ingredients required: ', raw_recipes['n_ingredients'].min())\n",
        "print ('Max number of ingredients: ', raw_recipes['n_ingredients'].max())\n",
        "print ('Average number of ingredients required: ', raw_recipes['n_ingredients'].mean())"
      ],
      "execution_count": null,
      "outputs": [
        {
          "output_type": "stream",
          "text": [
            "Min number of ingredients required:  1\n",
            "Max number of ingredients:  43\n",
            "Average number of ingredients required:  9.051153313158087\n"
          ],
          "name": "stdout"
        }
      ]
    },
    {
      "cell_type": "markdown",
      "metadata": {
        "id": "Vw2rySKrKCKt"
      },
      "source": [
        "# PP RECIPES"
      ]
    },
    {
      "cell_type": "markdown",
      "metadata": {
        "id": "HD9Sc3XRKJ7U"
      },
      "source": [
        "### **General information**"
      ]
    },
    {
      "cell_type": "code",
      "metadata": {
        "colab": {
          "base_uri": "https://localhost:8080/",
          "height": 330
        },
        "id": "lrxSSa2gKIMZ",
        "outputId": "e833794a-8dd0-46a2-ee1c-f13ec1969cbd"
      },
      "source": [
        "pp_recipes = pd.read_csv(\"/content/drive/MyDrive/food recipes/PP_recipes.csv\")\n",
        "pp_recipes.head()"
      ],
      "execution_count": null,
      "outputs": [
        {
          "output_type": "execute_result",
          "data": {
            "text/html": [
              "<div>\n",
              "<style scoped>\n",
              "    .dataframe tbody tr th:only-of-type {\n",
              "        vertical-align: middle;\n",
              "    }\n",
              "\n",
              "    .dataframe tbody tr th {\n",
              "        vertical-align: top;\n",
              "    }\n",
              "\n",
              "    .dataframe thead th {\n",
              "        text-align: right;\n",
              "    }\n",
              "</style>\n",
              "<table border=\"1\" class=\"dataframe\">\n",
              "  <thead>\n",
              "    <tr style=\"text-align: right;\">\n",
              "      <th></th>\n",
              "      <th>id</th>\n",
              "      <th>i</th>\n",
              "      <th>name_tokens</th>\n",
              "      <th>ingredient_tokens</th>\n",
              "      <th>steps_tokens</th>\n",
              "      <th>techniques</th>\n",
              "      <th>calorie_level</th>\n",
              "      <th>ingredient_ids</th>\n",
              "    </tr>\n",
              "  </thead>\n",
              "  <tbody>\n",
              "    <tr>\n",
              "      <th>0</th>\n",
              "      <td>424415</td>\n",
              "      <td>23</td>\n",
              "      <td>[40480, 37229, 2911, 1019, 249, 6878, 6878, 28...</td>\n",
              "      <td>[[2911, 1019, 249, 6878], [1353], [6953], [153...</td>\n",
              "      <td>[40480, 40482, 21662, 481, 6878, 500, 246, 161...</td>\n",
              "      <td>[0, 0, 0, 0, 0, 0, 0, 0, 0, 1, 0, 0, 0, 0, 0, ...</td>\n",
              "      <td>0</td>\n",
              "      <td>[389, 7655, 6270, 1527, 3406]</td>\n",
              "    </tr>\n",
              "    <tr>\n",
              "      <th>1</th>\n",
              "      <td>146223</td>\n",
              "      <td>96900</td>\n",
              "      <td>[40480, 18376, 7056, 246, 1531, 2032, 40481]</td>\n",
              "      <td>[[17918], [25916], [2507, 6444], [8467, 1179],...</td>\n",
              "      <td>[40480, 40482, 729, 2525, 10906, 485, 43, 8393...</td>\n",
              "      <td>[1, 0, 0, 0, 0, 0, 0, 0, 0, 1, 0, 0, 0, 0, 0, ...</td>\n",
              "      <td>0</td>\n",
              "      <td>[2683, 4969, 800, 5298, 840, 2499, 6632, 7022,...</td>\n",
              "    </tr>\n",
              "    <tr>\n",
              "      <th>2</th>\n",
              "      <td>312329</td>\n",
              "      <td>120056</td>\n",
              "      <td>[40480, 21044, 16954, 8294, 556, 10837, 40481]</td>\n",
              "      <td>[[5867, 24176], [1353], [6953], [1301, 11332],...</td>\n",
              "      <td>[40480, 40482, 8240, 481, 24176, 296, 1353, 66...</td>\n",
              "      <td>[0, 0, 0, 0, 1, 0, 0, 0, 0, 0, 0, 1, 0, 0, 0, ...</td>\n",
              "      <td>1</td>\n",
              "      <td>[1257, 7655, 6270, 590, 5024, 1119, 4883, 6696...</td>\n",
              "    </tr>\n",
              "    <tr>\n",
              "      <th>3</th>\n",
              "      <td>74301</td>\n",
              "      <td>168258</td>\n",
              "      <td>[40480, 10025, 31156, 40481]</td>\n",
              "      <td>[[1270, 1645, 28447], [21601], [27952, 29471, ...</td>\n",
              "      <td>[40480, 40482, 5539, 21601, 1073, 903, 2324, 4...</td>\n",
              "      <td>[1, 0, 0, 0, 0, 0, 0, 0, 0, 0, 0, 0, 0, 0, 0, ...</td>\n",
              "      <td>0</td>\n",
              "      <td>[7940, 3609, 7060, 6265, 1170, 6654, 5003, 3561]</td>\n",
              "    </tr>\n",
              "    <tr>\n",
              "      <th>4</th>\n",
              "      <td>76272</td>\n",
              "      <td>109030</td>\n",
              "      <td>[40480, 17841, 252, 782, 2373, 1641, 2373, 252...</td>\n",
              "      <td>[[1430, 11434], [1430, 17027], [1615, 23, 695,...</td>\n",
              "      <td>[40480, 40482, 14046, 1430, 11434, 488, 17027,...</td>\n",
              "      <td>[0, 0, 0, 0, 0, 0, 0, 0, 0, 1, 0, 0, 0, 0, 0, ...</td>\n",
              "      <td>0</td>\n",
              "      <td>[3484, 6324, 7594, 243]</td>\n",
              "    </tr>\n",
              "  </tbody>\n",
              "</table>\n",
              "</div>"
            ],
            "text/plain": [
              "       id  ...                                     ingredient_ids\n",
              "0  424415  ...                      [389, 7655, 6270, 1527, 3406]\n",
              "1  146223  ...  [2683, 4969, 800, 5298, 840, 2499, 6632, 7022,...\n",
              "2  312329  ...  [1257, 7655, 6270, 590, 5024, 1119, 4883, 6696...\n",
              "3   74301  ...   [7940, 3609, 7060, 6265, 1170, 6654, 5003, 3561]\n",
              "4   76272  ...                            [3484, 6324, 7594, 243]\n",
              "\n",
              "[5 rows x 8 columns]"
            ]
          },
          "metadata": {
            "tags": []
          },
          "execution_count": 42
        }
      ]
    },
    {
      "cell_type": "code",
      "metadata": {
        "colab": {
          "base_uri": "https://localhost:8080/"
        },
        "id": "PlXnktiKKta9",
        "outputId": "6737e8ba-15d6-4a57-a387-cdbf49eae340"
      },
      "source": [
        "pp_recipes.shape"
      ],
      "execution_count": null,
      "outputs": [
        {
          "output_type": "execute_result",
          "data": {
            "text/plain": [
              "(178265, 8)"
            ]
          },
          "metadata": {
            "tags": []
          },
          "execution_count": 43
        }
      ]
    },
    {
      "cell_type": "markdown",
      "metadata": {
        "id": "pQ09p3DMKxKd"
      },
      "source": [
        "This dataset also applies to recipes, but in this case the data is preprocessed. Unlike the first set in this dataset we have 178265 recipes, and 8 attributes with which they are described.\n",
        "\n",
        "*   **id** - recipe id \n",
        "*   **i** - recipe identifier mapped to numbers starting with 0\n",
        "\n",
        "*   **name_tokens** - recipe names - but tokenized\n",
        "\n",
        "*   **ingredient_tokens** - tokenized list of groceries needed for the recipe (list of lists)\n",
        "\n",
        "*   **steps_tokens** - tokenized steps required to prepare the recipe\n",
        "*   **techniques** - list of techniques used in the recipe\n",
        "\n",
        "\n",
        "*   **calorie_level** - caloric level, in ascending order\n",
        "\n",
        "\n",
        "*   **ingredient_ids** - id of groceries in the recipe"
      ]
    },
    {
      "cell_type": "markdown",
      "metadata": {
        "id": "mmA2blnQK6Hj"
      },
      "source": [
        "### **Missing values**"
      ]
    },
    {
      "cell_type": "code",
      "metadata": {
        "colab": {
          "base_uri": "https://localhost:8080/",
          "height": 284
        },
        "id": "pIRqQkSeK8qp",
        "outputId": "8fc98bab-bfd6-47e3-db9d-b2ff563a1b2d"
      },
      "source": [
        "missing_values = pp_recipes.isnull().sum()\n",
        "percentage = 100 * pp_recipes.isnull().sum() / len(pp_recipes)\n",
        "missing_values_table = pd.concat([missing_values, percentage], axis=1)\n",
        "missing_values_table.columns = ['Num. of missing values','% of missing values']\n",
        "missing_values_table"
      ],
      "execution_count": null,
      "outputs": [
        {
          "output_type": "execute_result",
          "data": {
            "text/html": [
              "<div>\n",
              "<style scoped>\n",
              "    .dataframe tbody tr th:only-of-type {\n",
              "        vertical-align: middle;\n",
              "    }\n",
              "\n",
              "    .dataframe tbody tr th {\n",
              "        vertical-align: top;\n",
              "    }\n",
              "\n",
              "    .dataframe thead th {\n",
              "        text-align: right;\n",
              "    }\n",
              "</style>\n",
              "<table border=\"1\" class=\"dataframe\">\n",
              "  <thead>\n",
              "    <tr style=\"text-align: right;\">\n",
              "      <th></th>\n",
              "      <th>Num. of missing values</th>\n",
              "      <th>% of missing values</th>\n",
              "    </tr>\n",
              "  </thead>\n",
              "  <tbody>\n",
              "    <tr>\n",
              "      <th>id</th>\n",
              "      <td>0</td>\n",
              "      <td>0.0</td>\n",
              "    </tr>\n",
              "    <tr>\n",
              "      <th>i</th>\n",
              "      <td>0</td>\n",
              "      <td>0.0</td>\n",
              "    </tr>\n",
              "    <tr>\n",
              "      <th>name_tokens</th>\n",
              "      <td>0</td>\n",
              "      <td>0.0</td>\n",
              "    </tr>\n",
              "    <tr>\n",
              "      <th>ingredient_tokens</th>\n",
              "      <td>0</td>\n",
              "      <td>0.0</td>\n",
              "    </tr>\n",
              "    <tr>\n",
              "      <th>steps_tokens</th>\n",
              "      <td>0</td>\n",
              "      <td>0.0</td>\n",
              "    </tr>\n",
              "    <tr>\n",
              "      <th>techniques</th>\n",
              "      <td>0</td>\n",
              "      <td>0.0</td>\n",
              "    </tr>\n",
              "    <tr>\n",
              "      <th>calorie_level</th>\n",
              "      <td>0</td>\n",
              "      <td>0.0</td>\n",
              "    </tr>\n",
              "    <tr>\n",
              "      <th>ingredient_ids</th>\n",
              "      <td>0</td>\n",
              "      <td>0.0</td>\n",
              "    </tr>\n",
              "  </tbody>\n",
              "</table>\n",
              "</div>"
            ],
            "text/plain": [
              "                   Num. of missing values  % of missing values\n",
              "id                                      0                  0.0\n",
              "i                                       0                  0.0\n",
              "name_tokens                             0                  0.0\n",
              "ingredient_tokens                       0                  0.0\n",
              "steps_tokens                            0                  0.0\n",
              "techniques                              0                  0.0\n",
              "calorie_level                           0                  0.0\n",
              "ingredient_ids                          0                  0.0"
            ]
          },
          "metadata": {
            "tags": []
          },
          "execution_count": 44
        }
      ]
    },
    {
      "cell_type": "markdown",
      "metadata": {
        "id": "tM01Q-FELBXC"
      },
      "source": [
        "As this data is already pre-processed, there is no missing data in it."
      ]
    },
    {
      "cell_type": "markdown",
      "metadata": {
        "id": "A1soMfeXZmiF"
      },
      "source": [
        "### **Recipes per calorie level**"
      ]
    },
    {
      "cell_type": "code",
      "metadata": {
        "colab": {
          "base_uri": "https://localhost:8080/",
          "height": 136
        },
        "id": "fHfLHqaWZs1F",
        "outputId": "dc5d8180-caca-4055-9569-089b108f93fe"
      },
      "source": [
        "recipes_per_calorie_level=pp_recipes.groupby('calorie_level').size().reset_index()\n",
        "recipes_per_calorie_level.columns=['Calorie level', \"Total recipes\"]\n",
        "recipes_per_calorie_level.sort_values(by='Total recipes', inplace=True,ascending = False)\n",
        "recipes_per_calorie_level.reset_index(drop=True, inplace=True)\n",
        "recipes_per_calorie_level"
      ],
      "execution_count": null,
      "outputs": [
        {
          "output_type": "execute_result",
          "data": {
            "text/html": [
              "<div>\n",
              "<style scoped>\n",
              "    .dataframe tbody tr th:only-of-type {\n",
              "        vertical-align: middle;\n",
              "    }\n",
              "\n",
              "    .dataframe tbody tr th {\n",
              "        vertical-align: top;\n",
              "    }\n",
              "\n",
              "    .dataframe thead th {\n",
              "        text-align: right;\n",
              "    }\n",
              "</style>\n",
              "<table border=\"1\" class=\"dataframe\">\n",
              "  <thead>\n",
              "    <tr style=\"text-align: right;\">\n",
              "      <th></th>\n",
              "      <th>Calorie level</th>\n",
              "      <th>Total recipes</th>\n",
              "    </tr>\n",
              "  </thead>\n",
              "  <tbody>\n",
              "    <tr>\n",
              "      <th>0</th>\n",
              "      <td>0</td>\n",
              "      <td>69699</td>\n",
              "    </tr>\n",
              "    <tr>\n",
              "      <th>1</th>\n",
              "      <td>1</td>\n",
              "      <td>63255</td>\n",
              "    </tr>\n",
              "    <tr>\n",
              "      <th>2</th>\n",
              "      <td>2</td>\n",
              "      <td>45311</td>\n",
              "    </tr>\n",
              "  </tbody>\n",
              "</table>\n",
              "</div>"
            ],
            "text/plain": [
              "   Calorie level  Total recipes\n",
              "0              0          69699\n",
              "1              1          63255\n",
              "2              2          45311"
            ]
          },
          "metadata": {
            "tags": []
          },
          "execution_count": 93
        }
      ]
    },
    {
      "cell_type": "markdown",
      "metadata": {
        "id": "KA-Fw3uqZ17w"
      },
      "source": [
        "Most of the recipes with low caloric value, and the smallest with high.\n"
      ]
    },
    {
      "cell_type": "markdown",
      "metadata": {
        "id": "Qvgw51PoLD-H"
      },
      "source": [
        "### **Visualization**"
      ]
    },
    {
      "cell_type": "code",
      "metadata": {
        "colab": {
          "base_uri": "https://localhost:8080/",
          "height": 282
        },
        "id": "XLmOEOuJLAr7",
        "outputId": "0d62ca68-00b9-4046-d750-2e9397636378"
      },
      "source": [
        "pp_recipes['calorie_level'].hist(bins=5, color='magenta')"
      ],
      "execution_count": null,
      "outputs": [
        {
          "output_type": "execute_result",
          "data": {
            "text/plain": [
              "<matplotlib.axes._subplots.AxesSubplot at 0x7f7fc639a090>"
            ]
          },
          "metadata": {
            "tags": []
          },
          "execution_count": 45
        },
        {
          "output_type": "display_data",
          "data": {
            "image/png": "[encoded data removed]",
            "text/plain": [
              "<Figure size 432x288 with 1 Axes>"
            ]
          },
          "metadata": {
            "tags": [],
            "needs_background": "light"
          }
        }
      ]
    },
    {
      "cell_type": "markdown",
      "metadata": {
        "id": "LZgX1GspL1Rz"
      },
      "source": [
        "# PP USERS"
      ]
    },
    {
      "cell_type": "markdown",
      "metadata": {
        "id": "QMOFPsBgL7Ln"
      },
      "source": [
        "### **General information**"
      ]
    },
    {
      "cell_type": "code",
      "metadata": {
        "colab": {
          "base_uri": "https://localhost:8080/",
          "height": 195
        },
        "id": "O8P6X_2zL6cR",
        "outputId": "bd528f2a-e268-4a69-f7e5-d216ef9f08f3"
      },
      "source": [
        "users = pd.read_csv(\"/content/drive/MyDrive/food recipes/PP_users.csv\")\n",
        "users.head()"
      ],
      "execution_count": null,
      "outputs": [
        {
          "output_type": "execute_result",
          "data": {
            "text/html": [
              "<div>\n",
              "<style scoped>\n",
              "    .dataframe tbody tr th:only-of-type {\n",
              "        vertical-align: middle;\n",
              "    }\n",
              "\n",
              "    .dataframe tbody tr th {\n",
              "        vertical-align: top;\n",
              "    }\n",
              "\n",
              "    .dataframe thead th {\n",
              "        text-align: right;\n",
              "    }\n",
              "</style>\n",
              "<table border=\"1\" class=\"dataframe\">\n",
              "  <thead>\n",
              "    <tr style=\"text-align: right;\">\n",
              "      <th></th>\n",
              "      <th>u</th>\n",
              "      <th>techniques</th>\n",
              "      <th>items</th>\n",
              "      <th>n_items</th>\n",
              "      <th>ratings</th>\n",
              "      <th>n_ratings</th>\n",
              "    </tr>\n",
              "  </thead>\n",
              "  <tbody>\n",
              "    <tr>\n",
              "      <th>0</th>\n",
              "      <td>0</td>\n",
              "      <td>[8, 0, 0, 5, 6, 0, 0, 1, 0, 9, 1, 0, 0, 0, 1, ...</td>\n",
              "      <td>[1118, 27680, 32541, 137353, 16428, 28815, 658...</td>\n",
              "      <td>31</td>\n",
              "      <td>[5.0, 5.0, 5.0, 5.0, 5.0, 5.0, 5.0, 4.0, 4.0, ...</td>\n",
              "      <td>31</td>\n",
              "    </tr>\n",
              "    <tr>\n",
              "      <th>1</th>\n",
              "      <td>1</td>\n",
              "      <td>[11, 0, 0, 2, 12, 0, 0, 0, 0, 14, 5, 0, 0, 0, ...</td>\n",
              "      <td>[122140, 77036, 156817, 76957, 68818, 155600, ...</td>\n",
              "      <td>39</td>\n",
              "      <td>[5.0, 5.0, 5.0, 5.0, 5.0, 5.0, 5.0, 5.0, 5.0, ...</td>\n",
              "      <td>39</td>\n",
              "    </tr>\n",
              "    <tr>\n",
              "      <th>2</th>\n",
              "      <td>2</td>\n",
              "      <td>[13, 0, 0, 7, 5, 0, 1, 2, 1, 11, 0, 1, 0, 0, 1...</td>\n",
              "      <td>[168054, 87218, 35731, 1, 20475, 9039, 124834,...</td>\n",
              "      <td>27</td>\n",
              "      <td>[3.0, 4.0, 4.0, 4.0, 4.0, 4.0, 4.0, 4.0, 5.0, ...</td>\n",
              "      <td>27</td>\n",
              "    </tr>\n",
              "    <tr>\n",
              "      <th>3</th>\n",
              "      <td>3</td>\n",
              "      <td>[498, 13, 4, 218, 376, 3, 2, 33, 16, 591, 10, ...</td>\n",
              "      <td>[163193, 156352, 102888, 19914, 169438, 55772,...</td>\n",
              "      <td>1513</td>\n",
              "      <td>[5.0, 5.0, 5.0, 5.0, 4.0, 4.0, 5.0, 5.0, 5.0, ...</td>\n",
              "      <td>1513</td>\n",
              "    </tr>\n",
              "    <tr>\n",
              "      <th>4</th>\n",
              "      <td>4</td>\n",
              "      <td>[161, 1, 1, 86, 93, 0, 0, 11, 2, 141, 0, 16, 0...</td>\n",
              "      <td>[72857, 38652, 160427, 55772, 119999, 141777, ...</td>\n",
              "      <td>376</td>\n",
              "      <td>[5.0, 5.0, 5.0, 5.0, 4.0, 4.0, 5.0, 4.0, 5.0, ...</td>\n",
              "      <td>376</td>\n",
              "    </tr>\n",
              "  </tbody>\n",
              "</table>\n",
              "</div>"
            ],
            "text/plain": [
              "   u  ... n_ratings\n",
              "0  0  ...        31\n",
              "1  1  ...        39\n",
              "2  2  ...        27\n",
              "3  3  ...      1513\n",
              "4  4  ...       376\n",
              "\n",
              "[5 rows x 6 columns]"
            ]
          },
          "metadata": {
            "tags": []
          },
          "execution_count": 46
        }
      ]
    },
    {
      "cell_type": "code",
      "metadata": {
        "colab": {
          "base_uri": "https://localhost:8080/"
        },
        "id": "5NWYoQ51L39K",
        "outputId": "ca122d0f-e007-4587-bee8-2fd0a26af0a4"
      },
      "source": [
        "users.shape"
      ],
      "execution_count": null,
      "outputs": [
        {
          "output_type": "execute_result",
          "data": {
            "text/plain": [
              "(25076, 6)"
            ]
          },
          "metadata": {
            "tags": []
          },
          "execution_count": 47
        }
      ]
    },
    {
      "cell_type": "code",
      "metadata": {
        "colab": {
          "base_uri": "https://localhost:8080/"
        },
        "id": "XpfGRihuMOr4",
        "outputId": "26ad198b-8c6e-4d47-b602-828ea7505ff8"
      },
      "source": [
        "users.info()"
      ],
      "execution_count": null,
      "outputs": [
        {
          "output_type": "stream",
          "text": [
            "<class 'pandas.core.frame.DataFrame'>\n",
            "RangeIndex: 25076 entries, 0 to 25075\n",
            "Data columns (total 6 columns):\n",
            " #   Column      Non-Null Count  Dtype \n",
            "---  ------      --------------  ----- \n",
            " 0   u           25076 non-null  int64 \n",
            " 1   techniques  25076 non-null  object\n",
            " 2   items       25076 non-null  object\n",
            " 3   n_items     25076 non-null  int64 \n",
            " 4   ratings     25076 non-null  object\n",
            " 5   n_ratings   25076 non-null  int64 \n",
            "dtypes: int64(3), object(3)\n",
            "memory usage: 1.1+ MB\n"
          ],
          "name": "stdout"
        }
      ]
    },
    {
      "cell_type": "markdown",
      "metadata": {
        "id": "3wawXUG5MH5I"
      },
      "source": [
        "We have a total of 25,076 users who are described by the following attributes:\n",
        "\n",
        "*  **u** - an integer value denoting the user id, starting with 0\n",
        "*  **techniques** - a list of techniques that the user has encountered\n",
        "*  **items** - list of id of all recipes with which the user interacted (prepared)\n",
        "*  **n_items** - on how many of the recipes, the user left some review\n",
        "*  **ratings** - rrating left on each of the recipes the user prepared\n",
        "*  **num_ratings** - how many total ratings we have for each user"
      ]
    },
    {
      "cell_type": "markdown",
      "metadata": {
        "id": "hrtRrIYqMRVp"
      },
      "source": [
        "### **Missing values**"
      ]
    },
    {
      "cell_type": "code",
      "metadata": {
        "colab": {
          "base_uri": "https://localhost:8080/",
          "height": 225
        },
        "id": "j5dUdi0nMFcf",
        "outputId": "5c2eb276-5f0d-4d71-e5df-3f9660c882ab"
      },
      "source": [
        "missing_values = users.isnull().sum()\n",
        "percentage = 100 * users.isnull().sum() / len(users)\n",
        "missing_values_table = pd.concat([missing_values, percentage], axis=1)\n",
        "missing_values_table.columns = ['Num. of missing values','% of missing values']\n",
        "missing_values_table"
      ],
      "execution_count": null,
      "outputs": [
        {
          "output_type": "execute_result",
          "data": {
            "text/html": [
              "<div>\n",
              "<style scoped>\n",
              "    .dataframe tbody tr th:only-of-type {\n",
              "        vertical-align: middle;\n",
              "    }\n",
              "\n",
              "    .dataframe tbody tr th {\n",
              "        vertical-align: top;\n",
              "    }\n",
              "\n",
              "    .dataframe thead th {\n",
              "        text-align: right;\n",
              "    }\n",
              "</style>\n",
              "<table border=\"1\" class=\"dataframe\">\n",
              "  <thead>\n",
              "    <tr style=\"text-align: right;\">\n",
              "      <th></th>\n",
              "      <th>Num. of missing values</th>\n",
              "      <th>% of missing values</th>\n",
              "    </tr>\n",
              "  </thead>\n",
              "  <tbody>\n",
              "    <tr>\n",
              "      <th>u</th>\n",
              "      <td>0</td>\n",
              "      <td>0.0</td>\n",
              "    </tr>\n",
              "    <tr>\n",
              "      <th>techniques</th>\n",
              "      <td>0</td>\n",
              "      <td>0.0</td>\n",
              "    </tr>\n",
              "    <tr>\n",
              "      <th>items</th>\n",
              "      <td>0</td>\n",
              "      <td>0.0</td>\n",
              "    </tr>\n",
              "    <tr>\n",
              "      <th>n_items</th>\n",
              "      <td>0</td>\n",
              "      <td>0.0</td>\n",
              "    </tr>\n",
              "    <tr>\n",
              "      <th>ratings</th>\n",
              "      <td>0</td>\n",
              "      <td>0.0</td>\n",
              "    </tr>\n",
              "    <tr>\n",
              "      <th>n_ratings</th>\n",
              "      <td>0</td>\n",
              "      <td>0.0</td>\n",
              "    </tr>\n",
              "  </tbody>\n",
              "</table>\n",
              "</div>"
            ],
            "text/plain": [
              "            Num. of missing values  % of missing values\n",
              "u                                0                  0.0\n",
              "techniques                       0                  0.0\n",
              "items                            0                  0.0\n",
              "n_items                          0                  0.0\n",
              "ratings                          0                  0.0\n",
              "n_ratings                        0                  0.0"
            ]
          },
          "metadata": {
            "tags": []
          },
          "execution_count": 49
        }
      ]
    },
    {
      "cell_type": "markdown",
      "metadata": {
        "id": "WuZl9k2YMYZZ"
      },
      "source": [
        "There are no missing values ​​in this data set."
      ]
    },
    {
      "cell_type": "markdown",
      "metadata": {
        "id": "kC8j_G2wMdYh"
      },
      "source": [
        "### **Ratings**"
      ]
    },
    {
      "cell_type": "code",
      "metadata": {
        "colab": {
          "base_uri": "https://localhost:8080/",
          "height": 402
        },
        "id": "Ip10SHANMhV5",
        "outputId": "3d7c73bb-6505-49da-bf8c-d143e4f6b331"
      },
      "source": [
        "users_copy = users.copy(deep=True)\n",
        "users_copy['ratings'].replace(\"\\'\", \"\", regex=True, inplace=True)\n",
        "users_copy['ratings'].replace(\"\\[\", \"\", regex=True, inplace=True)\n",
        "users_copy['ratings'].replace(\"\\]\", \"\", regex=True, inplace=True)\n",
        "users_copy['ratings'].replace(\"\\,\", \"\", regex=True, inplace=True)\n",
        "\n",
        "users_copy['mean_rating'] = [np.array(x.split(\" \")).astype(np.float).mean() for x in users_copy.ratings.values]\n",
        "users_copy['min_rating'] = [np.array(x.split(\" \")).astype(np.float).min() for x in users_copy.ratings.values]\n",
        "users_copy['max_rating'] = [np.array(x.split(\" \")).astype(np.float).max() for x in users_copy.ratings.values]\n",
        "\n",
        "user_ratings = users_copy[[\"u\",\"min_rating\", \"max_rating\", \"mean_rating\", \"n_ratings\"]]\n",
        "user_ratings"
      ],
      "execution_count": null,
      "outputs": [
        {
          "output_type": "execute_result",
          "data": {
            "text/html": [
              "<div>\n",
              "<style scoped>\n",
              "    .dataframe tbody tr th:only-of-type {\n",
              "        vertical-align: middle;\n",
              "    }\n",
              "\n",
              "    .dataframe tbody tr th {\n",
              "        vertical-align: top;\n",
              "    }\n",
              "\n",
              "    .dataframe thead th {\n",
              "        text-align: right;\n",
              "    }\n",
              "</style>\n",
              "<table border=\"1\" class=\"dataframe\">\n",
              "  <thead>\n",
              "    <tr style=\"text-align: right;\">\n",
              "      <th></th>\n",
              "      <th>u</th>\n",
              "      <th>min_rating</th>\n",
              "      <th>max_rating</th>\n",
              "      <th>mean_rating</th>\n",
              "      <th>n_ratings</th>\n",
              "    </tr>\n",
              "  </thead>\n",
              "  <tbody>\n",
              "    <tr>\n",
              "      <th>0</th>\n",
              "      <td>0</td>\n",
              "      <td>4.0</td>\n",
              "      <td>5.0</td>\n",
              "      <td>4.806452</td>\n",
              "      <td>31</td>\n",
              "    </tr>\n",
              "    <tr>\n",
              "      <th>1</th>\n",
              "      <td>1</td>\n",
              "      <td>4.0</td>\n",
              "      <td>5.0</td>\n",
              "      <td>4.948718</td>\n",
              "      <td>39</td>\n",
              "    </tr>\n",
              "    <tr>\n",
              "      <th>2</th>\n",
              "      <td>2</td>\n",
              "      <td>3.0</td>\n",
              "      <td>5.0</td>\n",
              "      <td>4.222222</td>\n",
              "      <td>27</td>\n",
              "    </tr>\n",
              "    <tr>\n",
              "      <th>3</th>\n",
              "      <td>3</td>\n",
              "      <td>0.0</td>\n",
              "      <td>5.0</td>\n",
              "      <td>4.821547</td>\n",
              "      <td>1513</td>\n",
              "    </tr>\n",
              "    <tr>\n",
              "      <th>4</th>\n",
              "      <td>4</td>\n",
              "      <td>0.0</td>\n",
              "      <td>5.0</td>\n",
              "      <td>4.388298</td>\n",
              "      <td>376</td>\n",
              "    </tr>\n",
              "    <tr>\n",
              "      <th>...</th>\n",
              "      <td>...</td>\n",
              "      <td>...</td>\n",
              "      <td>...</td>\n",
              "      <td>...</td>\n",
              "      <td>...</td>\n",
              "    </tr>\n",
              "    <tr>\n",
              "      <th>25071</th>\n",
              "      <td>25071</td>\n",
              "      <td>5.0</td>\n",
              "      <td>5.0</td>\n",
              "      <td>5.000000</td>\n",
              "      <td>2</td>\n",
              "    </tr>\n",
              "    <tr>\n",
              "      <th>25072</th>\n",
              "      <td>25072</td>\n",
              "      <td>5.0</td>\n",
              "      <td>5.0</td>\n",
              "      <td>5.000000</td>\n",
              "      <td>2</td>\n",
              "    </tr>\n",
              "    <tr>\n",
              "      <th>25073</th>\n",
              "      <td>25073</td>\n",
              "      <td>5.0</td>\n",
              "      <td>5.0</td>\n",
              "      <td>5.000000</td>\n",
              "      <td>2</td>\n",
              "    </tr>\n",
              "    <tr>\n",
              "      <th>25074</th>\n",
              "      <td>25074</td>\n",
              "      <td>5.0</td>\n",
              "      <td>5.0</td>\n",
              "      <td>5.000000</td>\n",
              "      <td>2</td>\n",
              "    </tr>\n",
              "    <tr>\n",
              "      <th>25075</th>\n",
              "      <td>25075</td>\n",
              "      <td>4.0</td>\n",
              "      <td>4.0</td>\n",
              "      <td>4.000000</td>\n",
              "      <td>2</td>\n",
              "    </tr>\n",
              "  </tbody>\n",
              "</table>\n",
              "<p>25076 rows × 5 columns</p>\n",
              "</div>"
            ],
            "text/plain": [
              "           u  min_rating  max_rating  mean_rating  n_ratings\n",
              "0          0         4.0         5.0     4.806452         31\n",
              "1          1         4.0         5.0     4.948718         39\n",
              "2          2         3.0         5.0     4.222222         27\n",
              "3          3         0.0         5.0     4.821547       1513\n",
              "4          4         0.0         5.0     4.388298        376\n",
              "...      ...         ...         ...          ...        ...\n",
              "25071  25071         5.0         5.0     5.000000          2\n",
              "25072  25072         5.0         5.0     5.000000          2\n",
              "25073  25073         5.0         5.0     5.000000          2\n",
              "25074  25074         5.0         5.0     5.000000          2\n",
              "25075  25075         4.0         4.0     4.000000          2\n",
              "\n",
              "[25076 rows x 5 columns]"
            ]
          },
          "metadata": {
            "tags": []
          },
          "execution_count": 50
        }
      ]
    },
    {
      "cell_type": "markdown",
      "metadata": {
        "id": "TD5uZoNUOzOb"
      },
      "source": [
        "### **Visualization**"
      ]
    },
    {
      "cell_type": "code",
      "metadata": {
        "colab": {
          "base_uri": "https://localhost:8080/",
          "height": 282
        },
        "id": "Z51VFD_tOypD",
        "outputId": "31d41cb4-9984-46f2-876f-5691215dd239"
      },
      "source": [
        "users['n_items'].hist(bins=100)"
      ],
      "execution_count": null,
      "outputs": [
        {
          "output_type": "execute_result",
          "data": {
            "text/plain": [
              "<matplotlib.axes._subplots.AxesSubplot at 0x7f7fc58b1b10>"
            ]
          },
          "metadata": {
            "tags": []
          },
          "execution_count": 51
        },
        {
          "output_type": "display_data",
          "data": {
            "image/png": "[encoded data removed]",
            "text/plain": [
              "<Figure size 432x288 with 1 Axes>"
            ]
          },
          "metadata": {
            "tags": [],
            "needs_background": "light"
          }
        }
      ]
    },
    {
      "cell_type": "code",
      "metadata": {
        "colab": {
          "base_uri": "https://localhost:8080/",
          "height": 282
        },
        "id": "BGXFuM9fO69R",
        "outputId": "deed9cfd-881c-473e-8554-d9e8ba88a230"
      },
      "source": [
        "users['n_ratings'].hist(bins=100)"
      ],
      "execution_count": null,
      "outputs": [
        {
          "output_type": "execute_result",
          "data": {
            "text/plain": [
              "<matplotlib.axes._subplots.AxesSubplot at 0x7f7fc56e02d0>"
            ]
          },
          "metadata": {
            "tags": []
          },
          "execution_count": 52
        },
        {
          "output_type": "display_data",
          "data": {
            "image/png": "[encoded data removed]",
            "text/plain": [
              "<Figure size 432x288 with 1 Axes>"
            ]
          },
          "metadata": {
            "tags": [],
            "needs_background": "light"
          }
        }
      ]
    },
    {
      "cell_type": "code",
      "metadata": {
        "colab": {
          "base_uri": "https://localhost:8080/",
          "height": 669
        },
        "id": "-Axz9N_oO78B",
        "outputId": "7a78e48a-21c8-4402-9d50-f32523034d76"
      },
      "source": [
        "df = user_ratings.groupby(['min_rating', \"max_rating\"])['u'].count().reset_index()\n",
        "df.columns = [\"Min Rating\", \"Max Rating\", \"Users\"]\n",
        "df"
      ],
      "execution_count": null,
      "outputs": [
        {
          "output_type": "execute_result",
          "data": {
            "text/html": [
              "<div>\n",
              "<style scoped>\n",
              "    .dataframe tbody tr th:only-of-type {\n",
              "        vertical-align: middle;\n",
              "    }\n",
              "\n",
              "    .dataframe tbody tr th {\n",
              "        vertical-align: top;\n",
              "    }\n",
              "\n",
              "    .dataframe thead th {\n",
              "        text-align: right;\n",
              "    }\n",
              "</style>\n",
              "<table border=\"1\" class=\"dataframe\">\n",
              "  <thead>\n",
              "    <tr style=\"text-align: right;\">\n",
              "      <th></th>\n",
              "      <th>Min Rating</th>\n",
              "      <th>Max Rating</th>\n",
              "      <th>Users</th>\n",
              "    </tr>\n",
              "  </thead>\n",
              "  <tbody>\n",
              "    <tr>\n",
              "      <th>0</th>\n",
              "      <td>0.0</td>\n",
              "      <td>0.0</td>\n",
              "      <td>115</td>\n",
              "    </tr>\n",
              "    <tr>\n",
              "      <th>1</th>\n",
              "      <td>0.0</td>\n",
              "      <td>1.0</td>\n",
              "      <td>21</td>\n",
              "    </tr>\n",
              "    <tr>\n",
              "      <th>2</th>\n",
              "      <td>0.0</td>\n",
              "      <td>2.0</td>\n",
              "      <td>18</td>\n",
              "    </tr>\n",
              "    <tr>\n",
              "      <th>3</th>\n",
              "      <td>0.0</td>\n",
              "      <td>3.0</td>\n",
              "      <td>27</td>\n",
              "    </tr>\n",
              "    <tr>\n",
              "      <th>4</th>\n",
              "      <td>0.0</td>\n",
              "      <td>4.0</td>\n",
              "      <td>128</td>\n",
              "    </tr>\n",
              "    <tr>\n",
              "      <th>5</th>\n",
              "      <td>0.0</td>\n",
              "      <td>5.0</td>\n",
              "      <td>6510</td>\n",
              "    </tr>\n",
              "    <tr>\n",
              "      <th>6</th>\n",
              "      <td>1.0</td>\n",
              "      <td>1.0</td>\n",
              "      <td>3</td>\n",
              "    </tr>\n",
              "    <tr>\n",
              "      <th>7</th>\n",
              "      <td>1.0</td>\n",
              "      <td>2.0</td>\n",
              "      <td>7</td>\n",
              "    </tr>\n",
              "    <tr>\n",
              "      <th>8</th>\n",
              "      <td>1.0</td>\n",
              "      <td>3.0</td>\n",
              "      <td>4</td>\n",
              "    </tr>\n",
              "    <tr>\n",
              "      <th>9</th>\n",
              "      <td>1.0</td>\n",
              "      <td>4.0</td>\n",
              "      <td>42</td>\n",
              "    </tr>\n",
              "    <tr>\n",
              "      <th>10</th>\n",
              "      <td>1.0</td>\n",
              "      <td>5.0</td>\n",
              "      <td>1184</td>\n",
              "    </tr>\n",
              "    <tr>\n",
              "      <th>11</th>\n",
              "      <td>2.0</td>\n",
              "      <td>2.0</td>\n",
              "      <td>4</td>\n",
              "    </tr>\n",
              "    <tr>\n",
              "      <th>12</th>\n",
              "      <td>2.0</td>\n",
              "      <td>3.0</td>\n",
              "      <td>16</td>\n",
              "    </tr>\n",
              "    <tr>\n",
              "      <th>13</th>\n",
              "      <td>2.0</td>\n",
              "      <td>4.0</td>\n",
              "      <td>48</td>\n",
              "    </tr>\n",
              "    <tr>\n",
              "      <th>14</th>\n",
              "      <td>2.0</td>\n",
              "      <td>5.0</td>\n",
              "      <td>1495</td>\n",
              "    </tr>\n",
              "    <tr>\n",
              "      <th>15</th>\n",
              "      <td>3.0</td>\n",
              "      <td>3.0</td>\n",
              "      <td>15</td>\n",
              "    </tr>\n",
              "    <tr>\n",
              "      <th>16</th>\n",
              "      <td>3.0</td>\n",
              "      <td>4.0</td>\n",
              "      <td>135</td>\n",
              "    </tr>\n",
              "    <tr>\n",
              "      <th>17</th>\n",
              "      <td>3.0</td>\n",
              "      <td>5.0</td>\n",
              "      <td>2585</td>\n",
              "    </tr>\n",
              "    <tr>\n",
              "      <th>18</th>\n",
              "      <td>4.0</td>\n",
              "      <td>4.0</td>\n",
              "      <td>202</td>\n",
              "    </tr>\n",
              "    <tr>\n",
              "      <th>19</th>\n",
              "      <td>4.0</td>\n",
              "      <td>5.0</td>\n",
              "      <td>5130</td>\n",
              "    </tr>\n",
              "    <tr>\n",
              "      <th>20</th>\n",
              "      <td>5.0</td>\n",
              "      <td>5.0</td>\n",
              "      <td>7387</td>\n",
              "    </tr>\n",
              "  </tbody>\n",
              "</table>\n",
              "</div>"
            ],
            "text/plain": [
              "    Min Rating  Max Rating  Users\n",
              "0          0.0         0.0    115\n",
              "1          0.0         1.0     21\n",
              "2          0.0         2.0     18\n",
              "3          0.0         3.0     27\n",
              "4          0.0         4.0    128\n",
              "5          0.0         5.0   6510\n",
              "6          1.0         1.0      3\n",
              "7          1.0         2.0      7\n",
              "8          1.0         3.0      4\n",
              "9          1.0         4.0     42\n",
              "10         1.0         5.0   1184\n",
              "11         2.0         2.0      4\n",
              "12         2.0         3.0     16\n",
              "13         2.0         4.0     48\n",
              "14         2.0         5.0   1495\n",
              "15         3.0         3.0     15\n",
              "16         3.0         4.0    135\n",
              "17         3.0         5.0   2585\n",
              "18         4.0         4.0    202\n",
              "19         4.0         5.0   5130\n",
              "20         5.0         5.0   7387"
            ]
          },
          "metadata": {
            "tags": []
          },
          "execution_count": 53
        }
      ]
    },
    {
      "cell_type": "code",
      "metadata": {
        "colab": {
          "base_uri": "https://localhost:8080/",
          "height": 717
        },
        "id": "GpkMeUiCPBjN",
        "outputId": "8b4532f2-16d5-4fe3-88d2-416fb2559c68"
      },
      "source": [
        "import plotly.express as px\n",
        "\n",
        "fig = px.bar(\n",
        "    df, \n",
        "    x='Min Rating', \n",
        "    y=\"Users\", \n",
        "    color = 'Max Rating',\n",
        "    barmode='group',\n",
        "    orientation='v', \n",
        "    title='How many users have the same min and max rating', \n",
        "    width=800,\n",
        "    height=700\n",
        ")\n",
        "fig.show()"
      ],
      "execution_count": null,
      "outputs": [
        {
          "output_type": "display_data",
          "data": {
            "text/html": [
              "<html>\n",
              "<head><meta charset=\"utf-8\" /></head>\n",
              "<body>\n",
              "    <div>\n",
              "            <script src=\"https://cdnjs.cloudflare.com/ajax/libs/mathjax/2.7.5/MathJax.js?config=TeX-AMS-MML_SVG\"></script><script type=\"text/javascript\">if (window.MathJax) {MathJax.Hub.Config({SVG: {font: \"STIX-Web\"}});}</script>\n",
              "                <script type=\"text/javascript\">window.PlotlyConfig = {MathJaxConfig: 'local'};</script>\n",
              "        <script src=\"https://cdn.plot.ly/plotly-latest.min.js\"></script>    \n",
              "            <div id=\"28800102-a957-4411-8560-2a2976dd62b2\" class=\"plotly-graph-div\" style=\"height:700px; width:800px;\"></div>\n",
              "            <script type=\"text/javascript\">\n",
              "                \n",
              "                    window.PLOTLYENV=window.PLOTLYENV || {};\n",
              "                    \n",
              "                if (document.getElementById(\"28800102-a957-4411-8560-2a2976dd62b2\")) {\n",
              "                    Plotly.newPlot(\n",
              "                        '28800102-a957-4411-8560-2a2976dd62b2',\n",
              "                        [{\"alignmentgroup\": \"True\", \"hoverlabel\": {\"namelength\": 0}, \"hovertemplate\": \"Min Rating=%{x}<br>Users=%{y}<br>Max Rating=%{marker.color}\", \"legendgroup\": \"\", \"marker\": {\"color\": [0.0, 1.0, 2.0, 3.0, 4.0, 5.0, 1.0, 2.0, 3.0, 4.0, 5.0, 2.0, 3.0, 4.0, 5.0, 3.0, 4.0, 5.0, 4.0, 5.0, 5.0], \"coloraxis\": \"coloraxis\"}, \"name\": \"\", \"offsetgroup\": \"\", \"orientation\": \"v\", \"showlegend\": false, \"textposition\": \"auto\", \"type\": \"bar\", \"x\": [0.0, 0.0, 0.0, 0.0, 0.0, 0.0, 1.0, 1.0, 1.0, 1.0, 1.0, 2.0, 2.0, 2.0, 2.0, 3.0, 3.0, 3.0, 4.0, 4.0, 5.0], \"xaxis\": \"x\", \"y\": [115, 21, 18, 27, 128, 6510, 3, 7, 4, 42, 1184, 4, 16, 48, 1495, 15, 135, 2585, 202, 5130, 7387], \"yaxis\": \"y\"}],\n",
              "                        {\"barmode\": \"group\", \"coloraxis\": {\"colorbar\": {\"title\": {\"text\": \"Max Rating\"}}, \"colorscale\": [[0.0, \"#0d0887\"], [0.1111111111111111, \"#46039f\"], [0.2222222222222222, \"#7201a8\"], [0.3333333333333333, \"#9c179e\"], [0.4444444444444444, \"#bd3786\"], [0.5555555555555556, \"#d8576b\"], [0.6666666666666666, \"#ed7953\"], [0.7777777777777778, \"#fb9f3a\"], [0.8888888888888888, \"#fdca26\"], [1.0, \"#f0f921\"]]}, \"height\": 700, \"legend\": {\"tracegroupgap\": 0}, \"template\": {\"data\": {\"bar\": [{\"error_x\": {\"color\": \"#2a3f5f\"}, \"error_y\": {\"color\": \"#2a3f5f\"}, \"marker\": {\"line\": {\"color\": \"#E5ECF6\", \"width\": 0.5}}, \"type\": \"bar\"}], \"barpolar\": [{\"marker\": {\"line\": {\"color\": \"#E5ECF6\", \"width\": 0.5}}, \"type\": \"barpolar\"}], \"carpet\": [{\"aaxis\": {\"endlinecolor\": \"#2a3f5f\", \"gridcolor\": \"white\", \"linecolor\": \"white\", \"minorgridcolor\": \"white\", \"startlinecolor\": \"#2a3f5f\"}, \"baxis\": {\"endlinecolor\": \"#2a3f5f\", \"gridcolor\": \"white\", \"linecolor\": \"white\", \"minorgridcolor\": \"white\", \"startlinecolor\": \"#2a3f5f\"}, \"type\": \"carpet\"}], \"choropleth\": [{\"colorbar\": {\"outlinewidth\": 0, \"ticks\": \"\"}, \"type\": \"choropleth\"}], \"contour\": [{\"colorbar\": {\"outlinewidth\": 0, \"ticks\": \"\"}, \"colorscale\": [[0.0, \"#0d0887\"], [0.1111111111111111, \"#46039f\"], [0.2222222222222222, \"#7201a8\"], [0.3333333333333333, \"#9c179e\"], [0.4444444444444444, \"#bd3786\"], [0.5555555555555556, \"#d8576b\"], [0.6666666666666666, \"#ed7953\"], [0.7777777777777778, \"#fb9f3a\"], [0.8888888888888888, \"#fdca26\"], [1.0, \"#f0f921\"]], \"type\": \"contour\"}], \"contourcarpet\": [{\"colorbar\": {\"outlinewidth\": 0, \"ticks\": \"\"}, \"type\": \"contourcarpet\"}], \"heatmap\": [{\"colorbar\": {\"outlinewidth\": 0, \"ticks\": \"\"}, \"colorscale\": [[0.0, \"#0d0887\"], [0.1111111111111111, \"#46039f\"], [0.2222222222222222, \"#7201a8\"], [0.3333333333333333, \"#9c179e\"], [0.4444444444444444, \"#bd3786\"], [0.5555555555555556, \"#d8576b\"], [0.6666666666666666, \"#ed7953\"], [0.7777777777777778, \"#fb9f3a\"], [0.8888888888888888, \"#fdca26\"], [1.0, \"#f0f921\"]], \"type\": \"heatmap\"}], \"heatmapgl\": [{\"colorbar\": {\"outlinewidth\": 0, \"ticks\": \"\"}, \"colorscale\": [[0.0, \"#0d0887\"], [0.1111111111111111, \"#46039f\"], [0.2222222222222222, \"#7201a8\"], [0.3333333333333333, \"#9c179e\"], [0.4444444444444444, \"#bd3786\"], [0.5555555555555556, \"#d8576b\"], [0.6666666666666666, \"#ed7953\"], [0.7777777777777778, \"#fb9f3a\"], [0.8888888888888888, \"#fdca26\"], [1.0, \"#f0f921\"]], \"type\": \"heatmapgl\"}], \"histogram\": [{\"marker\": {\"colorbar\": {\"outlinewidth\": 0, \"ticks\": \"\"}}, \"type\": \"histogram\"}], \"histogram2d\": [{\"colorbar\": {\"outlinewidth\": 0, \"ticks\": \"\"}, \"colorscale\": [[0.0, \"#0d0887\"], [0.1111111111111111, \"#46039f\"], [0.2222222222222222, \"#7201a8\"], [0.3333333333333333, \"#9c179e\"], [0.4444444444444444, \"#bd3786\"], [0.5555555555555556, \"#d8576b\"], [0.6666666666666666, \"#ed7953\"], [0.7777777777777778, \"#fb9f3a\"], [0.8888888888888888, \"#fdca26\"], [1.0, \"#f0f921\"]], \"type\": \"histogram2d\"}], \"histogram2dcontour\": [{\"colorbar\": {\"outlinewidth\": 0, \"ticks\": \"\"}, \"colorscale\": [[0.0, \"#0d0887\"], [0.1111111111111111, \"#46039f\"], [0.2222222222222222, \"#7201a8\"], [0.3333333333333333, \"#9c179e\"], [0.4444444444444444, \"#bd3786\"], [0.5555555555555556, \"#d8576b\"], [0.6666666666666666, \"#ed7953\"], [0.7777777777777778, \"#fb9f3a\"], [0.8888888888888888, \"#fdca26\"], [1.0, \"#f0f921\"]], \"type\": \"histogram2dcontour\"}], \"mesh3d\": [{\"colorbar\": {\"outlinewidth\": 0, \"ticks\": \"\"}, \"type\": \"mesh3d\"}], \"parcoords\": [{\"line\": {\"colorbar\": {\"outlinewidth\": 0, \"ticks\": \"\"}}, \"type\": \"parcoords\"}], \"pie\": [{\"automargin\": true, \"type\": \"pie\"}], \"scatter\": [{\"marker\": {\"colorbar\": {\"outlinewidth\": 0, \"ticks\": \"\"}}, \"type\": \"scatter\"}], \"scatter3d\": [{\"line\": {\"colorbar\": {\"outlinewidth\": 0, \"ticks\": \"\"}}, \"marker\": {\"colorbar\": {\"outlinewidth\": 0, \"ticks\": \"\"}}, \"type\": \"scatter3d\"}], \"scattercarpet\": [{\"marker\": {\"colorbar\": {\"outlinewidth\": 0, \"ticks\": \"\"}}, \"type\": \"scattercarpet\"}], \"scattergeo\": [{\"marker\": {\"colorbar\": {\"outlinewidth\": 0, \"ticks\": \"\"}}, \"type\": \"scattergeo\"}], \"scattergl\": [{\"marker\": {\"colorbar\": {\"outlinewidth\": 0, \"ticks\": \"\"}}, \"type\": \"scattergl\"}], \"scattermapbox\": [{\"marker\": {\"colorbar\": {\"outlinewidth\": 0, \"ticks\": \"\"}}, \"type\": \"scattermapbox\"}], \"scatterpolar\": [{\"marker\": {\"colorbar\": {\"outlinewidth\": 0, \"ticks\": \"\"}}, \"type\": \"scatterpolar\"}], \"scatterpolargl\": [{\"marker\": {\"colorbar\": {\"outlinewidth\": 0, \"ticks\": \"\"}}, \"type\": \"scatterpolargl\"}], \"scatterternary\": [{\"marker\": {\"colorbar\": {\"outlinewidth\": 0, \"ticks\": \"\"}}, \"type\": \"scatterternary\"}], \"surface\": [{\"colorbar\": {\"outlinewidth\": 0, \"ticks\": \"\"}, \"colorscale\": [[0.0, \"#0d0887\"], [0.1111111111111111, \"#46039f\"], [0.2222222222222222, \"#7201a8\"], [0.3333333333333333, \"#9c179e\"], [0.4444444444444444, \"#bd3786\"], [0.5555555555555556, \"#d8576b\"], [0.6666666666666666, \"#ed7953\"], [0.7777777777777778, \"#fb9f3a\"], [0.8888888888888888, \"#fdca26\"], [1.0, \"#f0f921\"]], \"type\": \"surface\"}], \"table\": [{\"cells\": {\"fill\": {\"color\": \"#EBF0F8\"}, \"line\": {\"color\": \"white\"}}, \"header\": {\"fill\": {\"color\": \"#C8D4E3\"}, \"line\": {\"color\": \"white\"}}, \"type\": \"table\"}]}, \"layout\": {\"annotationdefaults\": {\"arrowcolor\": \"#2a3f5f\", \"arrowhead\": 0, \"arrowwidth\": 1}, \"coloraxis\": {\"colorbar\": {\"outlinewidth\": 0, \"ticks\": \"\"}}, \"colorscale\": {\"diverging\": [[0, \"#8e0152\"], [0.1, \"#c51b7d\"], [0.2, \"#de77ae\"], [0.3, \"#f1b6da\"], [0.4, \"#fde0ef\"], [0.5, \"#f7f7f7\"], [0.6, \"#e6f5d0\"], [0.7, \"#b8e186\"], [0.8, \"#7fbc41\"], [0.9, \"#4d9221\"], [1, \"#276419\"]], \"sequential\": [[0.0, \"#0d0887\"], [0.1111111111111111, \"#46039f\"], [0.2222222222222222, \"#7201a8\"], [0.3333333333333333, \"#9c179e\"], [0.4444444444444444, \"#bd3786\"], [0.5555555555555556, \"#d8576b\"], [0.6666666666666666, \"#ed7953\"], [0.7777777777777778, \"#fb9f3a\"], [0.8888888888888888, \"#fdca26\"], [1.0, \"#f0f921\"]], \"sequentialminus\": [[0.0, \"#0d0887\"], [0.1111111111111111, \"#46039f\"], [0.2222222222222222, \"#7201a8\"], [0.3333333333333333, \"#9c179e\"], [0.4444444444444444, \"#bd3786\"], [0.5555555555555556, \"#d8576b\"], [0.6666666666666666, \"#ed7953\"], [0.7777777777777778, \"#fb9f3a\"], [0.8888888888888888, \"#fdca26\"], [1.0, \"#f0f921\"]]}, \"colorway\": [\"#636efa\", \"#EF553B\", \"#00cc96\", \"#ab63fa\", \"#FFA15A\", \"#19d3f3\", \"#FF6692\", \"#B6E880\", \"#FF97FF\", \"#FECB52\"], \"font\": {\"color\": \"#2a3f5f\"}, \"geo\": {\"bgcolor\": \"white\", \"lakecolor\": \"white\", \"landcolor\": \"#E5ECF6\", \"showlakes\": true, \"showland\": true, \"subunitcolor\": \"white\"}, \"hoverlabel\": {\"align\": \"left\"}, \"hovermode\": \"closest\", \"mapbox\": {\"style\": \"light\"}, \"paper_bgcolor\": \"white\", \"plot_bgcolor\": \"#E5ECF6\", \"polar\": {\"angularaxis\": {\"gridcolor\": \"white\", \"linecolor\": \"white\", \"ticks\": \"\"}, \"bgcolor\": \"#E5ECF6\", \"radialaxis\": {\"gridcolor\": \"white\", \"linecolor\": \"white\", \"ticks\": \"\"}}, \"scene\": {\"xaxis\": {\"backgroundcolor\": \"#E5ECF6\", \"gridcolor\": \"white\", \"gridwidth\": 2, \"linecolor\": \"white\", \"showbackground\": true, \"ticks\": \"\", \"zerolinecolor\": \"white\"}, \"yaxis\": {\"backgroundcolor\": \"#E5ECF6\", \"gridcolor\": \"white\", \"gridwidth\": 2, \"linecolor\": \"white\", \"showbackground\": true, \"ticks\": \"\", \"zerolinecolor\": \"white\"}, \"zaxis\": {\"backgroundcolor\": \"#E5ECF6\", \"gridcolor\": \"white\", \"gridwidth\": 2, \"linecolor\": \"white\", \"showbackground\": true, \"ticks\": \"\", \"zerolinecolor\": \"white\"}}, \"shapedefaults\": {\"line\": {\"color\": \"#2a3f5f\"}}, \"ternary\": {\"aaxis\": {\"gridcolor\": \"white\", \"linecolor\": \"white\", \"ticks\": \"\"}, \"baxis\": {\"gridcolor\": \"white\", \"linecolor\": \"white\", \"ticks\": \"\"}, \"bgcolor\": \"#E5ECF6\", \"caxis\": {\"gridcolor\": \"white\", \"linecolor\": \"white\", \"ticks\": \"\"}}, \"title\": {\"x\": 0.05}, \"xaxis\": {\"automargin\": true, \"gridcolor\": \"white\", \"linecolor\": \"white\", \"ticks\": \"\", \"title\": {\"standoff\": 15}, \"zerolinecolor\": \"white\", \"zerolinewidth\": 2}, \"yaxis\": {\"automargin\": true, \"gridcolor\": \"white\", \"linecolor\": \"white\", \"ticks\": \"\", \"title\": {\"standoff\": 15}, \"zerolinecolor\": \"white\", \"zerolinewidth\": 2}}}, \"title\": {\"text\": \"How many users have the same min and max rating\"}, \"width\": 800, \"xaxis\": {\"anchor\": \"y\", \"domain\": [0.0, 1.0], \"title\": {\"text\": \"Min Rating\"}}, \"yaxis\": {\"anchor\": \"x\", \"domain\": [0.0, 1.0], \"title\": {\"text\": \"Users\"}}},\n",
              "                        {\"responsive\": true}\n",
              "                    ).then(function(){\n",
              "                            \n",
              "var gd = document.getElementById('28800102-a957-4411-8560-2a2976dd62b2');\n",
              "var x = new MutationObserver(function (mutations, observer) {{\n",
              "        var display = window.getComputedStyle(gd).display;\n",
              "        if (!display || display === 'none') {{\n",
              "            console.log([gd, 'removed!']);\n",
              "            Plotly.purge(gd);\n",
              "            observer.disconnect();\n",
              "        }}\n",
              "}});\n",
              "\n",
              "// Listen for the removal of the full notebook cells\n",
              "var notebookContainer = gd.closest('#notebook-container');\n",
              "if (notebookContainer) {{\n",
              "    x.observe(notebookContainer, {childList: true});\n",
              "}}\n",
              "\n",
              "// Listen for the clearing of the current output cell\n",
              "var outputEl = gd.closest('.output');\n",
              "if (outputEl) {{\n",
              "    x.observe(outputEl, {childList: true});\n",
              "}}\n",
              "\n",
              "                        })\n",
              "                };\n",
              "                \n",
              "            </script>\n",
              "        </div>\n",
              "</body>\n",
              "</html>"
            ]
          },
          "metadata": {
            "tags": []
          }
        }
      ]
    },
    {
      "cell_type": "markdown",
      "metadata": {
        "id": "fw9K8G-cRVc6"
      },
      "source": [
        "# INTERACTIONS (TRAIN, TEST & VALIDATION)"
      ]
    },
    {
      "cell_type": "markdown",
      "metadata": {
        "id": "DB-gOyNeSpDC"
      },
      "source": [
        "### **General information**"
      ]
    },
    {
      "cell_type": "code",
      "metadata": {
        "colab": {
          "base_uri": "https://localhost:8080/",
          "height": 195
        },
        "id": "NqWSHy8zSJsH",
        "outputId": "44a74b29-ae5b-4d57-cec4-01906aadb31d"
      },
      "source": [
        "interactions_test=pd.read_csv(\"/content/drive/MyDrive/food recipes/interactions_test.csv\")\n",
        "interactions_test.head()\n"
      ],
      "execution_count": null,
      "outputs": [
        {
          "output_type": "execute_result",
          "data": {
            "text/html": [
              "<div>\n",
              "<style scoped>\n",
              "    .dataframe tbody tr th:only-of-type {\n",
              "        vertical-align: middle;\n",
              "    }\n",
              "\n",
              "    .dataframe tbody tr th {\n",
              "        vertical-align: top;\n",
              "    }\n",
              "\n",
              "    .dataframe thead th {\n",
              "        text-align: right;\n",
              "    }\n",
              "</style>\n",
              "<table border=\"1\" class=\"dataframe\">\n",
              "  <thead>\n",
              "    <tr style=\"text-align: right;\">\n",
              "      <th></th>\n",
              "      <th>user_id</th>\n",
              "      <th>recipe_id</th>\n",
              "      <th>date</th>\n",
              "      <th>rating</th>\n",
              "      <th>u</th>\n",
              "      <th>i</th>\n",
              "    </tr>\n",
              "  </thead>\n",
              "  <tbody>\n",
              "    <tr>\n",
              "      <th>0</th>\n",
              "      <td>8937</td>\n",
              "      <td>44551</td>\n",
              "      <td>2005-12-23</td>\n",
              "      <td>4.0</td>\n",
              "      <td>2</td>\n",
              "      <td>173538</td>\n",
              "    </tr>\n",
              "    <tr>\n",
              "      <th>1</th>\n",
              "      <td>56680</td>\n",
              "      <td>126118</td>\n",
              "      <td>2006-10-07</td>\n",
              "      <td>4.0</td>\n",
              "      <td>16</td>\n",
              "      <td>177847</td>\n",
              "    </tr>\n",
              "    <tr>\n",
              "      <th>2</th>\n",
              "      <td>349752</td>\n",
              "      <td>219596</td>\n",
              "      <td>2008-04-12</td>\n",
              "      <td>0.0</td>\n",
              "      <td>26</td>\n",
              "      <td>89896</td>\n",
              "    </tr>\n",
              "    <tr>\n",
              "      <th>3</th>\n",
              "      <td>628951</td>\n",
              "      <td>82783</td>\n",
              "      <td>2007-11-13</td>\n",
              "      <td>2.0</td>\n",
              "      <td>45</td>\n",
              "      <td>172637</td>\n",
              "    </tr>\n",
              "    <tr>\n",
              "      <th>4</th>\n",
              "      <td>92816</td>\n",
              "      <td>435013</td>\n",
              "      <td>2013-07-31</td>\n",
              "      <td>3.0</td>\n",
              "      <td>52</td>\n",
              "      <td>177935</td>\n",
              "    </tr>\n",
              "  </tbody>\n",
              "</table>\n",
              "</div>"
            ],
            "text/plain": [
              "   user_id  recipe_id        date  rating   u       i\n",
              "0     8937      44551  2005-12-23     4.0   2  173538\n",
              "1    56680     126118  2006-10-07     4.0  16  177847\n",
              "2   349752     219596  2008-04-12     0.0  26   89896\n",
              "3   628951      82783  2007-11-13     2.0  45  172637\n",
              "4    92816     435013  2013-07-31     3.0  52  177935"
            ]
          },
          "metadata": {
            "tags": []
          },
          "execution_count": 55
        }
      ]
    },
    {
      "cell_type": "code",
      "metadata": {
        "colab": {
          "base_uri": "https://localhost:8080/",
          "height": 195
        },
        "id": "Pt14aTFCSRCM",
        "outputId": "4a5fda4c-88e3-4f60-e779-01bdf6bff703"
      },
      "source": [
        "interactions_train=pd.read_csv(\"/content/drive/MyDrive/food recipes/interactions_train.csv\")\n",
        "interactions_train.head()"
      ],
      "execution_count": null,
      "outputs": [
        {
          "output_type": "execute_result",
          "data": {
            "text/html": [
              "<div>\n",
              "<style scoped>\n",
              "    .dataframe tbody tr th:only-of-type {\n",
              "        vertical-align: middle;\n",
              "    }\n",
              "\n",
              "    .dataframe tbody tr th {\n",
              "        vertical-align: top;\n",
              "    }\n",
              "\n",
              "    .dataframe thead th {\n",
              "        text-align: right;\n",
              "    }\n",
              "</style>\n",
              "<table border=\"1\" class=\"dataframe\">\n",
              "  <thead>\n",
              "    <tr style=\"text-align: right;\">\n",
              "      <th></th>\n",
              "      <th>user_id</th>\n",
              "      <th>recipe_id</th>\n",
              "      <th>date</th>\n",
              "      <th>rating</th>\n",
              "      <th>u</th>\n",
              "      <th>i</th>\n",
              "    </tr>\n",
              "  </thead>\n",
              "  <tbody>\n",
              "    <tr>\n",
              "      <th>0</th>\n",
              "      <td>2046</td>\n",
              "      <td>4684</td>\n",
              "      <td>2000-02-25</td>\n",
              "      <td>5.0</td>\n",
              "      <td>22095</td>\n",
              "      <td>44367</td>\n",
              "    </tr>\n",
              "    <tr>\n",
              "      <th>1</th>\n",
              "      <td>2046</td>\n",
              "      <td>517</td>\n",
              "      <td>2000-02-25</td>\n",
              "      <td>5.0</td>\n",
              "      <td>22095</td>\n",
              "      <td>87844</td>\n",
              "    </tr>\n",
              "    <tr>\n",
              "      <th>2</th>\n",
              "      <td>1773</td>\n",
              "      <td>7435</td>\n",
              "      <td>2000-03-13</td>\n",
              "      <td>5.0</td>\n",
              "      <td>24732</td>\n",
              "      <td>138181</td>\n",
              "    </tr>\n",
              "    <tr>\n",
              "      <th>3</th>\n",
              "      <td>1773</td>\n",
              "      <td>278</td>\n",
              "      <td>2000-03-13</td>\n",
              "      <td>4.0</td>\n",
              "      <td>24732</td>\n",
              "      <td>93054</td>\n",
              "    </tr>\n",
              "    <tr>\n",
              "      <th>4</th>\n",
              "      <td>2046</td>\n",
              "      <td>3431</td>\n",
              "      <td>2000-04-07</td>\n",
              "      <td>5.0</td>\n",
              "      <td>22095</td>\n",
              "      <td>101723</td>\n",
              "    </tr>\n",
              "  </tbody>\n",
              "</table>\n",
              "</div>"
            ],
            "text/plain": [
              "   user_id  recipe_id        date  rating      u       i\n",
              "0     2046       4684  2000-02-25     5.0  22095   44367\n",
              "1     2046        517  2000-02-25     5.0  22095   87844\n",
              "2     1773       7435  2000-03-13     5.0  24732  138181\n",
              "3     1773        278  2000-03-13     4.0  24732   93054\n",
              "4     2046       3431  2000-04-07     5.0  22095  101723"
            ]
          },
          "metadata": {
            "tags": []
          },
          "execution_count": 57
        }
      ]
    },
    {
      "cell_type": "code",
      "metadata": {
        "colab": {
          "base_uri": "https://localhost:8080/",
          "height": 195
        },
        "id": "gqWuY0NMSbOe",
        "outputId": "8ff4ffd4-09f4-4b30-cad8-abeebe554de9"
      },
      "source": [
        "interactions_validation=pd.read_csv(\"/content/drive/MyDrive/food recipes/interactions_validation.csv\")\n",
        "interactions_validation.head()"
      ],
      "execution_count": null,
      "outputs": [
        {
          "output_type": "execute_result",
          "data": {
            "text/html": [
              "<div>\n",
              "<style scoped>\n",
              "    .dataframe tbody tr th:only-of-type {\n",
              "        vertical-align: middle;\n",
              "    }\n",
              "\n",
              "    .dataframe tbody tr th {\n",
              "        vertical-align: top;\n",
              "    }\n",
              "\n",
              "    .dataframe thead th {\n",
              "        text-align: right;\n",
              "    }\n",
              "</style>\n",
              "<table border=\"1\" class=\"dataframe\">\n",
              "  <thead>\n",
              "    <tr style=\"text-align: right;\">\n",
              "      <th></th>\n",
              "      <th>user_id</th>\n",
              "      <th>recipe_id</th>\n",
              "      <th>date</th>\n",
              "      <th>rating</th>\n",
              "      <th>u</th>\n",
              "      <th>i</th>\n",
              "    </tr>\n",
              "  </thead>\n",
              "  <tbody>\n",
              "    <tr>\n",
              "      <th>0</th>\n",
              "      <td>76535</td>\n",
              "      <td>33627</td>\n",
              "      <td>2005-02-15</td>\n",
              "      <td>4.0</td>\n",
              "      <td>5</td>\n",
              "      <td>177317</td>\n",
              "    </tr>\n",
              "    <tr>\n",
              "      <th>1</th>\n",
              "      <td>160497</td>\n",
              "      <td>75307</td>\n",
              "      <td>2005-10-24</td>\n",
              "      <td>4.0</td>\n",
              "      <td>23</td>\n",
              "      <td>170785</td>\n",
              "    </tr>\n",
              "    <tr>\n",
              "      <th>2</th>\n",
              "      <td>930021</td>\n",
              "      <td>100961</td>\n",
              "      <td>2008-11-30</td>\n",
              "      <td>4.0</td>\n",
              "      <td>31</td>\n",
              "      <td>165555</td>\n",
              "    </tr>\n",
              "    <tr>\n",
              "      <th>3</th>\n",
              "      <td>58439</td>\n",
              "      <td>154105</td>\n",
              "      <td>2007-03-24</td>\n",
              "      <td>4.0</td>\n",
              "      <td>44</td>\n",
              "      <td>177453</td>\n",
              "    </tr>\n",
              "    <tr>\n",
              "      <th>4</th>\n",
              "      <td>628951</td>\n",
              "      <td>14525</td>\n",
              "      <td>2008-02-16</td>\n",
              "      <td>5.0</td>\n",
              "      <td>45</td>\n",
              "      <td>142367</td>\n",
              "    </tr>\n",
              "  </tbody>\n",
              "</table>\n",
              "</div>"
            ],
            "text/plain": [
              "   user_id  recipe_id        date  rating   u       i\n",
              "0    76535      33627  2005-02-15     4.0   5  177317\n",
              "1   160497      75307  2005-10-24     4.0  23  170785\n",
              "2   930021     100961  2008-11-30     4.0  31  165555\n",
              "3    58439     154105  2007-03-24     4.0  44  177453\n",
              "4   628951      14525  2008-02-16     5.0  45  142367"
            ]
          },
          "metadata": {
            "tags": []
          },
          "execution_count": 59
        }
      ]
    },
    {
      "cell_type": "code",
      "metadata": {
        "colab": {
          "base_uri": "https://localhost:8080/"
        },
        "id": "OImW9ktdSxai",
        "outputId": "bd24ec6b-4424-41a5-d369-854ee249e14d"
      },
      "source": [
        "interactions_test.info()"
      ],
      "execution_count": null,
      "outputs": [
        {
          "output_type": "stream",
          "text": [
            "<class 'pandas.core.frame.DataFrame'>\n",
            "RangeIndex: 12455 entries, 0 to 12454\n",
            "Data columns (total 6 columns):\n",
            " #   Column     Non-Null Count  Dtype  \n",
            "---  ------     --------------  -----  \n",
            " 0   user_id    12455 non-null  int64  \n",
            " 1   recipe_id  12455 non-null  int64  \n",
            " 2   date       12455 non-null  object \n",
            " 3   rating     12455 non-null  float64\n",
            " 4   u          12455 non-null  int64  \n",
            " 5   i          12455 non-null  int64  \n",
            "dtypes: float64(1), int64(4), object(1)\n",
            "memory usage: 584.0+ KB\n"
          ],
          "name": "stdout"
        }
      ]
    },
    {
      "cell_type": "markdown",
      "metadata": {
        "id": "DvLzxWWiS5aq"
      },
      "source": [
        "Atributes:\n",
        "\n",
        "**user_id** - user Id\n",
        "\n",
        "**recipe_id** - recipe Id\n",
        "\n",
        "**date** - date of interaction\n",
        "\n",
        "**rating** - raiting for the recipe\n",
        "\n",
        "**u** - user id mapped in integer starting with 0\n",
        "\n",
        "**i** - recipe id mapped in integer starting with 0"
      ]
    },
    {
      "cell_type": "markdown",
      "metadata": {
        "id": "jxmDWGHhTD8j"
      },
      "source": [
        "### **Visualization**"
      ]
    },
    {
      "cell_type": "code",
      "metadata": {
        "colab": {
          "base_uri": "https://localhost:8080/",
          "height": 398
        },
        "id": "1nddFDs9SzIs",
        "outputId": "8ff08166-c6ff-49ac-80f2-ae550d3ffffe"
      },
      "source": [
        "interactions_test.hist()"
      ],
      "execution_count": null,
      "outputs": [
        {
          "output_type": "execute_result",
          "data": {
            "text/plain": [
              "array([[<matplotlib.axes._subplots.AxesSubplot object at 0x7f7fc4dc0fd0>,\n",
              "        <matplotlib.axes._subplots.AxesSubplot object at 0x7f7fc4cced10>],\n",
              "       [<matplotlib.axes._subplots.AxesSubplot object at 0x7f7fc4c8c410>,\n",
              "        <matplotlib.axes._subplots.AxesSubplot object at 0x7f7fc4c39fd0>],\n",
              "       [<matplotlib.axes._subplots.AxesSubplot object at 0x7f7fc4bf96d0>,\n",
              "        <matplotlib.axes._subplots.AxesSubplot object at 0x7f7fc4bb1d50>]],\n",
              "      dtype=object)"
            ]
          },
          "metadata": {
            "tags": []
          },
          "execution_count": 61
        },
        {
          "output_type": "display_data",
          "data": {
            "image/png": "[encoded data removed]",
            "text/plain": [
              "<Figure size 432x288 with 6 Axes>"
            ]
          },
          "metadata": {
            "tags": [],
            "needs_background": "light"
          }
        }
      ]
    },
    {
      "cell_type": "code",
      "metadata": {
        "colab": {
          "base_uri": "https://localhost:8080/",
          "height": 282
        },
        "id": "L1aFz8KWTM26",
        "outputId": "1aa13cc5-336d-4fc5-fd05-fbe9b4a266cb"
      },
      "source": [
        "interactions_test[\"rating\"].hist()"
      ],
      "execution_count": null,
      "outputs": [
        {
          "output_type": "execute_result",
          "data": {
            "text/plain": [
              "<matplotlib.axes._subplots.AxesSubplot at 0x7f7fc4a6ae50>"
            ]
          },
          "metadata": {
            "tags": []
          },
          "execution_count": 62
        },
        {
          "output_type": "display_data",
          "data": {
            "image/png": "[encoded data removed]",
            "text/plain": [
              "<Figure size 432x288 with 1 Axes>"
            ]
          },
          "metadata": {
            "tags": [],
            "needs_background": "light"
          }
        }
      ]
    },
    {
      "cell_type": "code",
      "metadata": {
        "colab": {
          "base_uri": "https://localhost:8080/",
          "height": 282
        },
        "id": "57O-ksZFTZKG",
        "outputId": "08a91f56-84a1-4fe5-e956-ca81e38e97ea"
      },
      "source": [
        "interactions_train[\"rating\"].hist()"
      ],
      "execution_count": null,
      "outputs": [
        {
          "output_type": "execute_result",
          "data": {
            "text/plain": [
              "<matplotlib.axes._subplots.AxesSubplot at 0x7f7fc4a47d10>"
            ]
          },
          "metadata": {
            "tags": []
          },
          "execution_count": 63
        },
        {
          "output_type": "display_data",
          "data": {
            "image/png": "[encoded data removed]",
            "text/plain": [
              "<Figure size 432x288 with 1 Axes>"
            ]
          },
          "metadata": {
            "tags": [],
            "needs_background": "light"
          }
        }
      ]
    },
    {
      "cell_type": "code",
      "metadata": {
        "colab": {
          "base_uri": "https://localhost:8080/",
          "height": 282
        },
        "id": "AChPZl9jTdoy",
        "outputId": "5f579ad0-5d0d-4ba5-837c-d15d6735efaa"
      },
      "source": [
        "interactions_validation[\"rating\"].hist()"
      ],
      "execution_count": null,
      "outputs": [
        {
          "output_type": "execute_result",
          "data": {
            "text/plain": [
              "<matplotlib.axes._subplots.AxesSubplot at 0x7f7fc4998150>"
            ]
          },
          "metadata": {
            "tags": []
          },
          "execution_count": 64
        },
        {
          "output_type": "display_data",
          "data": {
            "image/png": "[encoded data removed]",
            "text/plain": [
              "<Figure size 432x288 with 1 Axes>"
            ]
          },
          "metadata": {
            "tags": [],
            "needs_background": "light"
          }
        }
      ]
    },
    {
      "cell_type": "markdown",
      "metadata": {
        "id": "c56zSfIUTgbe"
      },
      "source": [
        "Most recipes get good reviews.\n"
      ]
    },
    {
      "cell_type": "code",
      "metadata": {
        "id": "X4oevnnGTnda"
      },
      "source": [
        "def plotPerColumnDistribution(df, nGraphShown, nGraphPerRow):\n",
        "    nunique = df.nunique()\n",
        "    df = df[[col for col in df if nunique[col] > 1 and nunique[col] < 50]] # For displaying purposes, pick columns that have between 1 and 50 unique values\n",
        "    nRow, nCol = df.shape\n",
        "    columnNames = list(df)\n",
        "    nGraphRow = (nCol + nGraphPerRow - 1) / nGraphPerRow\n",
        "    plt.figure(num = None, figsize = (6 * nGraphPerRow, 8 * nGraphRow), dpi = 80, facecolor = 'w', edgecolor = 'k')\n",
        "    for i in range(min(nCol, nGraphShown)):\n",
        "        plt.subplot(nGraphRow, nGraphPerRow, i + 1)\n",
        "        columnDf = df.iloc[:, i]\n",
        "        if (not np.issubdtype(type(columnDf.iloc[0]), np.number)):\n",
        "            valueCounts = columnDf.value_counts()\n",
        "            valueCounts.plot.bar()\n",
        "        else:\n",
        "            columnDf.hist()\n",
        "        plt.ylabel('counts')\n",
        "        plt.xticks(rotation = 90)\n",
        "        plt.title(f'{columnNames[i]} (column {i})')\n",
        "    plt.tight_layout(pad = 1.0, w_pad = 1.0, h_pad = 1.0)\n",
        "    plt.show()\n",
        "\n",
        "# Correlation matrix\n",
        "def plotCorrelationMatrix(df, graphWidth):\n",
        "    filename = df.dataframeName\n",
        "    df = df.dropna('columns') # drop columns with NaN\n",
        "    df = df[[col for col in df if df[col].nunique() > 1]] # keep columns where there are more than 1 unique values\n",
        "    if df.shape[1] < 2:\n",
        "        print(f'No correlation plots shown: The number of non-NaN or constant columns ({df.shape[1]}) is less than 2')\n",
        "        return\n",
        "    corr = df.corr()\n",
        "    plt.figure(num=None, figsize=(graphWidth, graphWidth), dpi=80, facecolor='w', edgecolor='k')\n",
        "    corrMat = plt.matshow(corr, fignum = 1)\n",
        "    plt.xticks(range(len(corr.columns)), corr.columns, rotation=90)\n",
        "    plt.yticks(range(len(corr.columns)), corr.columns)\n",
        "    plt.gca().xaxis.tick_bottom()\n",
        "    plt.colorbar(corrMat)\n",
        "    plt.title(f'Correlation Matrix for {filename}', fontsize=15)\n",
        "    plt.show()\n",
        "\n",
        "# Scatter and density plots\n",
        "def plotScatterMatrix(df, plotSize, textSize):\n",
        "    df = df.select_dtypes(include =[np.number]) # keep only numerical columns\n",
        "    # Remove rows and columns that would lead to df being singular\n",
        "    df = df.dropna('columns')\n",
        "    df = df[[col for col in df if df[col].nunique() > 1]] # keep columns where there are more than 1 unique values\n",
        "    columnNames = list(df)\n",
        "    if len(columnNames) > 10: # reduce the number of columns for matrix inversion of kernel density plots\n",
        "        columnNames = columnNames[:10]\n",
        "    df = df[columnNames]\n",
        "    ax = pd.plotting.scatter_matrix(df, alpha=0.75, figsize=[plotSize, plotSize], diagonal='kde')\n",
        "    corrs = df.corr().values\n",
        "    for i, j in zip(*plt.np.triu_indices_from(ax, k = 1)):\n",
        "        ax[i, j].annotate('Corr. coef = %.3f' % corrs[i, j], (0.8, 0.2), xycoords='axes fraction', ha='center', va='center', size=textSize)\n",
        "    plt.suptitle('Scatter and Density Plot')\n",
        "    plt.show()"
      ],
      "execution_count": null,
      "outputs": []
    },
    {
      "cell_type": "code",
      "metadata": {
        "colab": {
          "base_uri": "https://localhost:8080/",
          "height": 650
        },
        "id": "JqpoWNqbTzIj",
        "outputId": "cd23b029-9b3e-4659-bba5-466d2d5bb863"
      },
      "source": [
        "plotPerColumnDistribution(interactions_test, 10, 5)"
      ],
      "execution_count": null,
      "outputs": [
        {
          "output_type": "display_data",
          "data": {
            "image/png": "[encoded data removed]",
            "text/plain": [
              "<Figure size 2400x640 with 1 Axes>"
            ]
          },
          "metadata": {
            "tags": []
          }
        }
      ]
    },
    {
      "cell_type": "code",
      "metadata": {
        "colab": {
          "base_uri": "https://localhost:8080/",
          "height": 541
        },
        "id": "mUFy0QT7UGXG",
        "outputId": "8c1b6ae7-c90a-416d-8d42-d097de315673"
      },
      "source": [
        "interactions_test.dataframeName = 'interactions_test.csv'\n",
        "plotCorrelationMatrix(interactions_test, 8)"
      ],
      "execution_count": null,
      "outputs": [
        {
          "output_type": "display_data",
          "data": {
            "image/png": "[encoded data removed]",
            "text/plain": [
              "<Figure size 640x640 with 2 Axes>"
            ]
          },
          "metadata": {
            "tags": []
          }
        }
      ]
    },
    {
      "cell_type": "markdown",
      "metadata": {
        "id": "8K-ZNxdbUapz"
      },
      "source": [
        "The biggest connection is between the user_id and recipe_id columns."
      ]
    },
    {
      "cell_type": "code",
      "metadata": {
        "colab": {
          "base_uri": "https://localhost:8080/",
          "height": 1000
        },
        "id": "dEliZr7AUTHJ",
        "outputId": "b48d4492-9835-4e5f-e3b2-7d45e837385f"
      },
      "source": [
        "plotScatterMatrix(interactions_test, 15, 10)"
      ],
      "execution_count": null,
      "outputs": [
        {
          "output_type": "display_data",
          "data": {
            "image/png": "[encoded data removed]",
            "text/plain": [
              "<Figure size 1080x1080 with 25 Axes>"
            ]
          },
          "metadata": {
            "tags": [],
            "needs_background": "light"
          }
        }
      ]
    },
    {
      "cell_type": "markdown",
      "metadata": {
        "id": "rMGyn6LdU6Ju"
      },
      "source": [
        "# EDA ON INGREDIENTS"
      ]
    },
    {
      "cell_type": "code",
      "metadata": {
        "id": "6gOCdCwCU5mI"
      },
      "source": [
        "raw_interactions = pd.read_csv(\"/content/drive/MyDrive/food recipes/RAW_interactions.csv\")"
      ],
      "execution_count": null,
      "outputs": []
    },
    {
      "cell_type": "code",
      "metadata": {
        "colab": {
          "base_uri": "https://localhost:8080/",
          "height": 279
        },
        "id": "0XNi_SObVYCf",
        "outputId": "e4cd2c44-5de6-4c9b-ce75-ee2d12907734"
      },
      "source": [
        "recipes = pp_recipes.merge(right=raw_recipes, left_on=\"id\", right_on=\"id\")\n",
        "\n",
        "recipes = recipes[[\"id\", \"name\", \"submitted\", \"ingredient_ids\", \"ingredients\", \"n_ingredients\"]] \n",
        "\n",
        "recipes = recipes.rename({\"id\":\"recipe_id\"}, axis=\"columns\") #rename for further merges\n",
        "\n",
        "recipes.head()"
      ],
      "execution_count": null,
      "outputs": [
        {
          "output_type": "execute_result",
          "data": {
            "text/html": [
              "<div>\n",
              "<style scoped>\n",
              "    .dataframe tbody tr th:only-of-type {\n",
              "        vertical-align: middle;\n",
              "    }\n",
              "\n",
              "    .dataframe tbody tr th {\n",
              "        vertical-align: top;\n",
              "    }\n",
              "\n",
              "    .dataframe thead th {\n",
              "        text-align: right;\n",
              "    }\n",
              "</style>\n",
              "<table border=\"1\" class=\"dataframe\">\n",
              "  <thead>\n",
              "    <tr style=\"text-align: right;\">\n",
              "      <th></th>\n",
              "      <th>recipe_id</th>\n",
              "      <th>name</th>\n",
              "      <th>submitted</th>\n",
              "      <th>ingredient_ids</th>\n",
              "      <th>ingredients</th>\n",
              "      <th>n_ingredients</th>\n",
              "    </tr>\n",
              "  </thead>\n",
              "  <tbody>\n",
              "    <tr>\n",
              "      <th>0</th>\n",
              "      <td>424415</td>\n",
              "      <td>aromatic basmati rice  rice cooker</td>\n",
              "      <td>2010-05-10</td>\n",
              "      <td>[389, 7655, 6270, 1527, 3406]</td>\n",
              "      <td>['basmati rice', 'water', 'salt', 'cinnamon st...</td>\n",
              "      <td>5</td>\n",
              "    </tr>\n",
              "    <tr>\n",
              "      <th>1</th>\n",
              "      <td>146223</td>\n",
              "      <td>pumpkin pie a la easy</td>\n",
              "      <td>2005-11-25</td>\n",
              "      <td>[2683, 4969, 800, 5298, 840, 2499, 6632, 7022,...</td>\n",
              "      <td>['flour', 'oats', 'brown sugar', 'pecans', 'bu...</td>\n",
              "      <td>12</td>\n",
              "    </tr>\n",
              "    <tr>\n",
              "      <th>2</th>\n",
              "      <td>312329</td>\n",
              "      <td>cheesy tomato soup with potatoes</td>\n",
              "      <td>2008-07-07</td>\n",
              "      <td>[1257, 7655, 6270, 590, 5024, 1119, 4883, 6696...</td>\n",
              "      <td>['chicken broth', 'water', 'salt', 'black pepp...</td>\n",
              "      <td>15</td>\n",
              "    </tr>\n",
              "    <tr>\n",
              "      <th>3</th>\n",
              "      <td>74301</td>\n",
              "      <td>mini tacos</td>\n",
              "      <td>2003-10-29</td>\n",
              "      <td>[7940, 3609, 7060, 6265, 1170, 6654, 5003, 3561]</td>\n",
              "      <td>['wonton wrappers', 'hamburger', 'taco seasoni...</td>\n",
              "      <td>8</td>\n",
              "    </tr>\n",
              "    <tr>\n",
              "      <th>4</th>\n",
              "      <td>76272</td>\n",
              "      <td>rosemary s hanky panky s</td>\n",
              "      <td>2003-11-12</td>\n",
              "      <td>[3484, 6324, 7594, 243]</td>\n",
              "      <td>['ground beef', 'ground sausage', 'velveeta ch...</td>\n",
              "      <td>4</td>\n",
              "    </tr>\n",
              "  </tbody>\n",
              "</table>\n",
              "</div>"
            ],
            "text/plain": [
              "   recipe_id  ... n_ingredients\n",
              "0     424415  ...             5\n",
              "1     146223  ...            12\n",
              "2     312329  ...            15\n",
              "3      74301  ...             8\n",
              "4      76272  ...             4\n",
              "\n",
              "[5 rows x 6 columns]"
            ]
          },
          "metadata": {
            "tags": []
          },
          "execution_count": 73
        }
      ]
    },
    {
      "cell_type": "code",
      "metadata": {
        "colab": {
          "base_uri": "https://localhost:8080/",
          "height": 491
        },
        "id": "ERn8UR3yViS2",
        "outputId": "1e84e389-ae27-4f16-c0b3-10d8ecafa01e"
      },
      "source": [
        "interactions = raw_interactions[[\"user_id\", \"recipe_id\", \"rating\", \"review\"]]\n",
        "interactions.head(15)"
      ],
      "execution_count": null,
      "outputs": [
        {
          "output_type": "execute_result",
          "data": {
            "text/html": [
              "<div>\n",
              "<style scoped>\n",
              "    .dataframe tbody tr th:only-of-type {\n",
              "        vertical-align: middle;\n",
              "    }\n",
              "\n",
              "    .dataframe tbody tr th {\n",
              "        vertical-align: top;\n",
              "    }\n",
              "\n",
              "    .dataframe thead th {\n",
              "        text-align: right;\n",
              "    }\n",
              "</style>\n",
              "<table border=\"1\" class=\"dataframe\">\n",
              "  <thead>\n",
              "    <tr style=\"text-align: right;\">\n",
              "      <th></th>\n",
              "      <th>user_id</th>\n",
              "      <th>recipe_id</th>\n",
              "      <th>rating</th>\n",
              "      <th>review</th>\n",
              "    </tr>\n",
              "  </thead>\n",
              "  <tbody>\n",
              "    <tr>\n",
              "      <th>0</th>\n",
              "      <td>38094</td>\n",
              "      <td>40893</td>\n",
              "      <td>4</td>\n",
              "      <td>Great with a salad. Cooked on top of stove for...</td>\n",
              "    </tr>\n",
              "    <tr>\n",
              "      <th>1</th>\n",
              "      <td>1293707</td>\n",
              "      <td>40893</td>\n",
              "      <td>5</td>\n",
              "      <td>So simple, so delicious! Great for chilly fall...</td>\n",
              "    </tr>\n",
              "    <tr>\n",
              "      <th>2</th>\n",
              "      <td>8937</td>\n",
              "      <td>44394</td>\n",
              "      <td>4</td>\n",
              "      <td>This worked very well and is EASY.  I used not...</td>\n",
              "    </tr>\n",
              "    <tr>\n",
              "      <th>3</th>\n",
              "      <td>126440</td>\n",
              "      <td>85009</td>\n",
              "      <td>5</td>\n",
              "      <td>I made the Mexican topping and took it to bunk...</td>\n",
              "    </tr>\n",
              "    <tr>\n",
              "      <th>4</th>\n",
              "      <td>57222</td>\n",
              "      <td>85009</td>\n",
              "      <td>5</td>\n",
              "      <td>Made the cheddar bacon topping, adding a sprin...</td>\n",
              "    </tr>\n",
              "    <tr>\n",
              "      <th>5</th>\n",
              "      <td>52282</td>\n",
              "      <td>120345</td>\n",
              "      <td>4</td>\n",
              "      <td>very very sweet. after i waited the 2 days i b...</td>\n",
              "    </tr>\n",
              "    <tr>\n",
              "      <th>6</th>\n",
              "      <td>124416</td>\n",
              "      <td>120345</td>\n",
              "      <td>0</td>\n",
              "      <td>Just an observation, so I will not rate.  I fo...</td>\n",
              "    </tr>\n",
              "    <tr>\n",
              "      <th>7</th>\n",
              "      <td>2000192946</td>\n",
              "      <td>120345</td>\n",
              "      <td>2</td>\n",
              "      <td>This recipe was OVERLY too sweet.  I would sta...</td>\n",
              "    </tr>\n",
              "    <tr>\n",
              "      <th>8</th>\n",
              "      <td>76535</td>\n",
              "      <td>134728</td>\n",
              "      <td>4</td>\n",
              "      <td>Very good!</td>\n",
              "    </tr>\n",
              "    <tr>\n",
              "      <th>9</th>\n",
              "      <td>273745</td>\n",
              "      <td>134728</td>\n",
              "      <td>5</td>\n",
              "      <td>Better than the real!!</td>\n",
              "    </tr>\n",
              "    <tr>\n",
              "      <th>10</th>\n",
              "      <td>353911</td>\n",
              "      <td>134728</td>\n",
              "      <td>5</td>\n",
              "      <td>Absolutely AWESOME! I was speechless when I tr...</td>\n",
              "    </tr>\n",
              "    <tr>\n",
              "      <th>11</th>\n",
              "      <td>190375</td>\n",
              "      <td>134728</td>\n",
              "      <td>5</td>\n",
              "      <td>These taste absolutely wonderful!!  My son-in-...</td>\n",
              "    </tr>\n",
              "    <tr>\n",
              "      <th>12</th>\n",
              "      <td>468945</td>\n",
              "      <td>134728</td>\n",
              "      <td>0</td>\n",
              "      <td>Made my own buttermilk w/ vinegar and milk.  U...</td>\n",
              "    </tr>\n",
              "    <tr>\n",
              "      <th>13</th>\n",
              "      <td>255338</td>\n",
              "      <td>134728</td>\n",
              "      <td>5</td>\n",
              "      <td>First time using liquid smoke in a recipe. Mad...</td>\n",
              "    </tr>\n",
              "    <tr>\n",
              "      <th>14</th>\n",
              "      <td>1171894</td>\n",
              "      <td>134728</td>\n",
              "      <td>5</td>\n",
              "      <td>MMMMM! This is so good! I actually soaked the ...</td>\n",
              "    </tr>\n",
              "  </tbody>\n",
              "</table>\n",
              "</div>"
            ],
            "text/plain": [
              "       user_id  ...                                             review\n",
              "0        38094  ...  Great with a salad. Cooked on top of stove for...\n",
              "1      1293707  ...  So simple, so delicious! Great for chilly fall...\n",
              "2         8937  ...  This worked very well and is EASY.  I used not...\n",
              "3       126440  ...  I made the Mexican topping and took it to bunk...\n",
              "4        57222  ...  Made the cheddar bacon topping, adding a sprin...\n",
              "5        52282  ...  very very sweet. after i waited the 2 days i b...\n",
              "6       124416  ...  Just an observation, so I will not rate.  I fo...\n",
              "7   2000192946  ...  This recipe was OVERLY too sweet.  I would sta...\n",
              "8        76535  ...                                         Very good!\n",
              "9       273745  ...                             Better than the real!!\n",
              "10      353911  ...  Absolutely AWESOME! I was speechless when I tr...\n",
              "11      190375  ...  These taste absolutely wonderful!!  My son-in-...\n",
              "12      468945  ...  Made my own buttermilk w/ vinegar and milk.  U...\n",
              "13      255338  ...  First time using liquid smoke in a recipe. Mad...\n",
              "14     1171894  ...  MMMMM! This is so good! I actually soaked the ...\n",
              "\n",
              "[15 rows x 4 columns]"
            ]
          },
          "metadata": {
            "tags": []
          },
          "execution_count": 74
        }
      ]
    },
    {
      "cell_type": "code",
      "metadata": {
        "colab": {
          "base_uri": "https://localhost:8080/"
        },
        "id": "snxyMHaLVnHN",
        "outputId": "c9f3f246-d135-4439-9a7c-96332fae9d53"
      },
      "source": [
        "raw_interactions['review'].value_counts().unique"
      ],
      "execution_count": null,
      "outputs": [
        {
          "output_type": "execute_result",
          "data": {
            "text/plain": [
              "<bound method Series.unique of Delicious!                                                                                                                                                                                                                                                                                                                                                                                                                                                                                                                                                                                                                                                                               309\n",
              "Excellent!                                                                                                                                                                                                                                                                                                                                                                                                                                                                                                                                                                                                                                                                               173\n",
              "Yum!                                                                                                                                                                                                                                                                                                                                                                                                                                                                                                                                                                                                                                                                                     170\n",
              "Yummy!                                                                                                                                                                                                                                                                                                                                                                                                                                                                                                                                                                                                                                                                                   134\n",
              "Very good!                                                                                                                                                                                                                                                                                                                                                                                                                                                                                                                                                                                                                                                                               126\n",
              "                                                                                                                                                                                                                                                                                                                                                                                                                                                                                                                                                                                                                                                                                        ... \n",
              "Does not stick together                                                                                                                                                                                                                                                                                                                                                                                                                                                                                                                                                                                                                                                                    1\n",
              "This was a really nice variation of beans and rice! I especially loved the technique of boiling the pepper with the rice then removing it; as other reviewers mentioned it was just enough heat and flavor to notice but not enough to be trouble LOL. My 3 year old and even my 8month old enjoyed some! I would like to try it again with brown rice instead of white, and will likely change the ratio of beans to rice in favor of more beans. I also added a bit of garlic to the mix. I loved the combination of flavors, though, and I know I will make it again! Made for Veg Swap May 2011.                                                                                       1\n",
              "I loved it and so did my roomies. Read comments and took it all in. Here is what I did different. I live in California and we tend to eat spicy so I added a Serrano chili thinly sliced thrown in with the butter. Did everything the same till serving. Someone recommended green onion, excellent idea and I had home grown tomatoes which I put on top. Excellent! Someone else said it did not heat up very well the next day.... Just zap it for one minute stir then one more minute and perfection. I too aded more shrimp and a little less chicken. Make it to your taste you will love it. PS: I always shave my own cheese, that way you know what you are getting. Ciao!      1\n",
              "Wonderful mix of flavors!  I left the pork loin (2 lbs. or so) whole & it was tender enough to pull apart after 5 hrs.  Looking forward to the leftovers for lunch.  Thanks!                                                                                                                                                                                                                                                                                                                                                                                                                                                                                                               1\n",
              "Superb!  I love brussels sprouts (in small amounts) and this recipe really wowed! me.  Loved the caramelized side most and ate them all up.  Wonderful recipe.                                                                                                                                                                                                                                                                                                                                                                                                                                                                                                                             1\n",
              "Name: review, Length: 1125282, dtype: int64>"
            ]
          },
          "metadata": {
            "tags": []
          },
          "execution_count": 75
        }
      ]
    },
    {
      "cell_type": "code",
      "metadata": {
        "colab": {
          "base_uri": "https://localhost:8080/",
          "height": 343
        },
        "id": "ENQqcIQ-VrBr",
        "outputId": "d03933f3-474e-4b8c-8b1b-b3f3f27aa18d"
      },
      "source": [
        "ingr_map = pd.read_pickle(\"/content/drive/MyDrive/food recipes/ingr_map.pkl\")\n",
        "\n",
        "\n",
        "ingr_df = ingr_map.copy(deep=True)\n",
        "ingr_df = ingr_df.rename({\"id\":\"ingr_id\",\"replaced\":\"ingr_name\"}, axis=\"columns\")\n",
        "ingr_df = ingr_df[[\"ingr_id\", \"ingr_name\"]]\n",
        "ingr_df = ingr_df.drop_duplicates(ignore_index=True)\n",
        "ingr_df.head(10)"
      ],
      "execution_count": null,
      "outputs": [
        {
          "output_type": "execute_result",
          "data": {
            "text/html": [
              "<div>\n",
              "<style scoped>\n",
              "    .dataframe tbody tr th:only-of-type {\n",
              "        vertical-align: middle;\n",
              "    }\n",
              "\n",
              "    .dataframe tbody tr th {\n",
              "        vertical-align: top;\n",
              "    }\n",
              "\n",
              "    .dataframe thead th {\n",
              "        text-align: right;\n",
              "    }\n",
              "</style>\n",
              "<table border=\"1\" class=\"dataframe\">\n",
              "  <thead>\n",
              "    <tr style=\"text-align: right;\">\n",
              "      <th></th>\n",
              "      <th>ingr_id</th>\n",
              "      <th>ingr_name</th>\n",
              "    </tr>\n",
              "  </thead>\n",
              "  <tbody>\n",
              "    <tr>\n",
              "      <th>0</th>\n",
              "      <td>4308</td>\n",
              "      <td>lettuce</td>\n",
              "    </tr>\n",
              "    <tr>\n",
              "      <th>1</th>\n",
              "      <td>2744</td>\n",
              "      <td>french vanilla pudding and pie filling mix</td>\n",
              "    </tr>\n",
              "    <tr>\n",
              "      <th>2</th>\n",
              "      <td>6843</td>\n",
              "      <td>stove top stuffing mix</td>\n",
              "    </tr>\n",
              "    <tr>\n",
              "      <th>3</th>\n",
              "      <td>1910</td>\n",
              "      <td>cream cheese</td>\n",
              "    </tr>\n",
              "    <tr>\n",
              "      <th>4</th>\n",
              "      <td>1168</td>\n",
              "      <td>cheddar</td>\n",
              "    </tr>\n",
              "    <tr>\n",
              "      <th>5</th>\n",
              "      <td>5811</td>\n",
              "      <td>radicchio</td>\n",
              "    </tr>\n",
              "    <tr>\n",
              "      <th>6</th>\n",
              "      <td>5205</td>\n",
              "      <td>pasta sauce</td>\n",
              "    </tr>\n",
              "    <tr>\n",
              "      <th>7</th>\n",
              "      <td>7233</td>\n",
              "      <td>tomato sauce</td>\n",
              "    </tr>\n",
              "    <tr>\n",
              "      <th>8</th>\n",
              "      <td>6482</td>\n",
              "      <td>shredded three cheese</td>\n",
              "    </tr>\n",
              "    <tr>\n",
              "      <th>9</th>\n",
              "      <td>4836</td>\n",
              "      <td>mozzarella</td>\n",
              "    </tr>\n",
              "  </tbody>\n",
              "</table>\n",
              "</div>"
            ],
            "text/plain": [
              "   ingr_id                                   ingr_name\n",
              "0     4308                                     lettuce\n",
              "1     2744  french vanilla pudding and pie filling mix\n",
              "2     6843                      stove top stuffing mix\n",
              "3     1910                                cream cheese\n",
              "4     1168                                     cheddar\n",
              "5     5811                                   radicchio\n",
              "6     5205                                 pasta sauce\n",
              "7     7233                                tomato sauce\n",
              "8     6482                       shredded three cheese\n",
              "9     4836                                  mozzarella"
            ]
          },
          "metadata": {
            "tags": []
          },
          "execution_count": 76
        }
      ]
    },
    {
      "cell_type": "markdown",
      "metadata": {
        "id": "d8oKSm0jVzPU"
      },
      "source": [
        "Each row in this set refers to a separate ingredient."
      ]
    },
    {
      "cell_type": "markdown",
      "metadata": {
        "id": "1Ar5O3HZV7ps"
      },
      "source": [
        "### **Ingredients frequency**"
      ]
    },
    {
      "cell_type": "code",
      "metadata": {
        "colab": {
          "base_uri": "https://localhost:8080/",
          "height": 343
        },
        "id": "iioeE83NV6-B",
        "outputId": "e4e8aca0-ff81-4f07-d005-3dfabecbb2d2"
      },
      "source": [
        "recipes_exploded = recipes.copy(deep=True)\n",
        "recipes_exploded[\"ingredient_ids\"] = recipes_exploded['ingredient_ids'].apply(lambda x : ast.literal_eval(x))\n",
        "recipes_exploded = recipes_exploded.explode(column=\"ingredient_ids\", ignore_index=True)\n",
        "recipes_exploded.head(10)"
      ],
      "execution_count": null,
      "outputs": [
        {
          "output_type": "execute_result",
          "data": {
            "text/html": [
              "<div>\n",
              "<style scoped>\n",
              "    .dataframe tbody tr th:only-of-type {\n",
              "        vertical-align: middle;\n",
              "    }\n",
              "\n",
              "    .dataframe tbody tr th {\n",
              "        vertical-align: top;\n",
              "    }\n",
              "\n",
              "    .dataframe thead th {\n",
              "        text-align: right;\n",
              "    }\n",
              "</style>\n",
              "<table border=\"1\" class=\"dataframe\">\n",
              "  <thead>\n",
              "    <tr style=\"text-align: right;\">\n",
              "      <th></th>\n",
              "      <th>recipe_id</th>\n",
              "      <th>name</th>\n",
              "      <th>submitted</th>\n",
              "      <th>ingredient_ids</th>\n",
              "      <th>ingredients</th>\n",
              "      <th>n_ingredients</th>\n",
              "    </tr>\n",
              "  </thead>\n",
              "  <tbody>\n",
              "    <tr>\n",
              "      <th>0</th>\n",
              "      <td>424415</td>\n",
              "      <td>aromatic basmati rice  rice cooker</td>\n",
              "      <td>2010-05-10</td>\n",
              "      <td>389</td>\n",
              "      <td>['basmati rice', 'water', 'salt', 'cinnamon st...</td>\n",
              "      <td>5</td>\n",
              "    </tr>\n",
              "    <tr>\n",
              "      <th>1</th>\n",
              "      <td>424415</td>\n",
              "      <td>aromatic basmati rice  rice cooker</td>\n",
              "      <td>2010-05-10</td>\n",
              "      <td>7655</td>\n",
              "      <td>['basmati rice', 'water', 'salt', 'cinnamon st...</td>\n",
              "      <td>5</td>\n",
              "    </tr>\n",
              "    <tr>\n",
              "      <th>2</th>\n",
              "      <td>424415</td>\n",
              "      <td>aromatic basmati rice  rice cooker</td>\n",
              "      <td>2010-05-10</td>\n",
              "      <td>6270</td>\n",
              "      <td>['basmati rice', 'water', 'salt', 'cinnamon st...</td>\n",
              "      <td>5</td>\n",
              "    </tr>\n",
              "    <tr>\n",
              "      <th>3</th>\n",
              "      <td>424415</td>\n",
              "      <td>aromatic basmati rice  rice cooker</td>\n",
              "      <td>2010-05-10</td>\n",
              "      <td>1527</td>\n",
              "      <td>['basmati rice', 'water', 'salt', 'cinnamon st...</td>\n",
              "      <td>5</td>\n",
              "    </tr>\n",
              "    <tr>\n",
              "      <th>4</th>\n",
              "      <td>424415</td>\n",
              "      <td>aromatic basmati rice  rice cooker</td>\n",
              "      <td>2010-05-10</td>\n",
              "      <td>3406</td>\n",
              "      <td>['basmati rice', 'water', 'salt', 'cinnamon st...</td>\n",
              "      <td>5</td>\n",
              "    </tr>\n",
              "    <tr>\n",
              "      <th>5</th>\n",
              "      <td>146223</td>\n",
              "      <td>pumpkin pie a la easy</td>\n",
              "      <td>2005-11-25</td>\n",
              "      <td>2683</td>\n",
              "      <td>['flour', 'oats', 'brown sugar', 'pecans', 'bu...</td>\n",
              "      <td>12</td>\n",
              "    </tr>\n",
              "    <tr>\n",
              "      <th>6</th>\n",
              "      <td>146223</td>\n",
              "      <td>pumpkin pie a la easy</td>\n",
              "      <td>2005-11-25</td>\n",
              "      <td>4969</td>\n",
              "      <td>['flour', 'oats', 'brown sugar', 'pecans', 'bu...</td>\n",
              "      <td>12</td>\n",
              "    </tr>\n",
              "    <tr>\n",
              "      <th>7</th>\n",
              "      <td>146223</td>\n",
              "      <td>pumpkin pie a la easy</td>\n",
              "      <td>2005-11-25</td>\n",
              "      <td>800</td>\n",
              "      <td>['flour', 'oats', 'brown sugar', 'pecans', 'bu...</td>\n",
              "      <td>12</td>\n",
              "    </tr>\n",
              "    <tr>\n",
              "      <th>8</th>\n",
              "      <td>146223</td>\n",
              "      <td>pumpkin pie a la easy</td>\n",
              "      <td>2005-11-25</td>\n",
              "      <td>5298</td>\n",
              "      <td>['flour', 'oats', 'brown sugar', 'pecans', 'bu...</td>\n",
              "      <td>12</td>\n",
              "    </tr>\n",
              "    <tr>\n",
              "      <th>9</th>\n",
              "      <td>146223</td>\n",
              "      <td>pumpkin pie a la easy</td>\n",
              "      <td>2005-11-25</td>\n",
              "      <td>840</td>\n",
              "      <td>['flour', 'oats', 'brown sugar', 'pecans', 'bu...</td>\n",
              "      <td>12</td>\n",
              "    </tr>\n",
              "  </tbody>\n",
              "</table>\n",
              "</div>"
            ],
            "text/plain": [
              "   recipe_id  ... n_ingredients\n",
              "0     424415  ...             5\n",
              "1     424415  ...             5\n",
              "2     424415  ...             5\n",
              "3     424415  ...             5\n",
              "4     424415  ...             5\n",
              "5     146223  ...            12\n",
              "6     146223  ...            12\n",
              "7     146223  ...            12\n",
              "8     146223  ...            12\n",
              "9     146223  ...            12\n",
              "\n",
              "[10 rows x 6 columns]"
            ]
          },
          "metadata": {
            "tags": []
          },
          "execution_count": 77
        }
      ]
    },
    {
      "cell_type": "markdown",
      "metadata": {
        "id": "rL3pQiHLWODl"
      },
      "source": [
        "Each row represents a specific ingredient in a specific recipe. Next I want to group by ingredient to see how often it appears in recipes.\n"
      ]
    },
    {
      "cell_type": "code",
      "metadata": {
        "colab": {
          "base_uri": "https://localhost:8080/",
          "height": 343
        },
        "id": "YN1Eq9IlWJdJ",
        "outputId": "0f2a5d61-2edb-418c-be73-94e35bdc6300"
      },
      "source": [
        "ingr_df[\"num_recipes\"] = ingr_df[\"ingr_id\"].map(dict(recipes_exploded.groupby(\"ingredient_ids\")[\"recipe_id\"].size()))\n",
        "\n",
        "total_number_of_recipes = recipes[\"recipe_id\"].unique().size\n",
        "ingr_df[\"frequency\"] = ingr_df[\"num_recipes\"]/total_number_of_recipes\n",
        "\n",
        "ingr_df = ingr_df.dropna() #in case there are ingredients that are not used in any recipe\n",
        "\n",
        "ingr_df.head(10)"
      ],
      "execution_count": null,
      "outputs": [
        {
          "output_type": "execute_result",
          "data": {
            "text/html": [
              "<div>\n",
              "<style scoped>\n",
              "    .dataframe tbody tr th:only-of-type {\n",
              "        vertical-align: middle;\n",
              "    }\n",
              "\n",
              "    .dataframe tbody tr th {\n",
              "        vertical-align: top;\n",
              "    }\n",
              "\n",
              "    .dataframe thead th {\n",
              "        text-align: right;\n",
              "    }\n",
              "</style>\n",
              "<table border=\"1\" class=\"dataframe\">\n",
              "  <thead>\n",
              "    <tr style=\"text-align: right;\">\n",
              "      <th></th>\n",
              "      <th>ingr_id</th>\n",
              "      <th>ingr_name</th>\n",
              "      <th>num_recipes</th>\n",
              "      <th>frequency</th>\n",
              "    </tr>\n",
              "  </thead>\n",
              "  <tbody>\n",
              "    <tr>\n",
              "      <th>0</th>\n",
              "      <td>4308</td>\n",
              "      <td>lettuce</td>\n",
              "      <td>4294.0</td>\n",
              "      <td>0.024088</td>\n",
              "    </tr>\n",
              "    <tr>\n",
              "      <th>1</th>\n",
              "      <td>2744</td>\n",
              "      <td>french vanilla pudding and pie filling mix</td>\n",
              "      <td>4.0</td>\n",
              "      <td>0.000022</td>\n",
              "    </tr>\n",
              "    <tr>\n",
              "      <th>2</th>\n",
              "      <td>6843</td>\n",
              "      <td>stove top stuffing mix</td>\n",
              "      <td>106.0</td>\n",
              "      <td>0.000595</td>\n",
              "    </tr>\n",
              "    <tr>\n",
              "      <th>3</th>\n",
              "      <td>1910</td>\n",
              "      <td>cream cheese</td>\n",
              "      <td>8966.0</td>\n",
              "      <td>0.050296</td>\n",
              "    </tr>\n",
              "    <tr>\n",
              "      <th>4</th>\n",
              "      <td>1168</td>\n",
              "      <td>cheddar</td>\n",
              "      <td>12300.0</td>\n",
              "      <td>0.068998</td>\n",
              "    </tr>\n",
              "    <tr>\n",
              "      <th>5</th>\n",
              "      <td>5811</td>\n",
              "      <td>radicchio</td>\n",
              "      <td>83.0</td>\n",
              "      <td>0.000466</td>\n",
              "    </tr>\n",
              "    <tr>\n",
              "      <th>6</th>\n",
              "      <td>5205</td>\n",
              "      <td>pasta sauce</td>\n",
              "      <td>412.0</td>\n",
              "      <td>0.002311</td>\n",
              "    </tr>\n",
              "    <tr>\n",
              "      <th>7</th>\n",
              "      <td>7233</td>\n",
              "      <td>tomato sauce</td>\n",
              "      <td>3637.0</td>\n",
              "      <td>0.020402</td>\n",
              "    </tr>\n",
              "    <tr>\n",
              "      <th>9</th>\n",
              "      <td>4836</td>\n",
              "      <td>mozzarella</td>\n",
              "      <td>4878.0</td>\n",
              "      <td>0.027364</td>\n",
              "    </tr>\n",
              "    <tr>\n",
              "      <th>10</th>\n",
              "      <td>912</td>\n",
              "      <td>cake mix</td>\n",
              "      <td>2344.0</td>\n",
              "      <td>0.013149</td>\n",
              "    </tr>\n",
              "  </tbody>\n",
              "</table>\n",
              "</div>"
            ],
            "text/plain": [
              "    ingr_id                                   ingr_name  num_recipes  frequency\n",
              "0      4308                                     lettuce       4294.0   0.024088\n",
              "1      2744  french vanilla pudding and pie filling mix          4.0   0.000022\n",
              "2      6843                      stove top stuffing mix        106.0   0.000595\n",
              "3      1910                                cream cheese       8966.0   0.050296\n",
              "4      1168                                     cheddar      12300.0   0.068998\n",
              "5      5811                                   radicchio         83.0   0.000466\n",
              "6      5205                                 pasta sauce        412.0   0.002311\n",
              "7      7233                                tomato sauce       3637.0   0.020402\n",
              "9      4836                                  mozzarella       4878.0   0.027364\n",
              "10      912                                    cake mix       2344.0   0.013149"
            ]
          },
          "metadata": {
            "tags": []
          },
          "execution_count": 78
        }
      ]
    },
    {
      "cell_type": "code",
      "metadata": {
        "id": "zeiFftylVywb"
      },
      "source": [
        "tmp = ingr_df.copy()\n",
        "tmp.drop(['ingr_id', 'num_recipes'], axis='columns', inplace=True)"
      ],
      "execution_count": null,
      "outputs": []
    },
    {
      "cell_type": "code",
      "metadata": {
        "colab": {
          "base_uri": "https://localhost:8080/",
          "height": 195
        },
        "id": "7WpTRJs3WXgG",
        "outputId": "8c1adab2-4951-461e-8aad-3deb737e841f"
      },
      "source": [
        "tmp.head()"
      ],
      "execution_count": null,
      "outputs": [
        {
          "output_type": "execute_result",
          "data": {
            "text/html": [
              "<div>\n",
              "<style scoped>\n",
              "    .dataframe tbody tr th:only-of-type {\n",
              "        vertical-align: middle;\n",
              "    }\n",
              "\n",
              "    .dataframe tbody tr th {\n",
              "        vertical-align: top;\n",
              "    }\n",
              "\n",
              "    .dataframe thead th {\n",
              "        text-align: right;\n",
              "    }\n",
              "</style>\n",
              "<table border=\"1\" class=\"dataframe\">\n",
              "  <thead>\n",
              "    <tr style=\"text-align: right;\">\n",
              "      <th></th>\n",
              "      <th>ingr_name</th>\n",
              "      <th>frequency</th>\n",
              "    </tr>\n",
              "  </thead>\n",
              "  <tbody>\n",
              "    <tr>\n",
              "      <th>0</th>\n",
              "      <td>lettuce</td>\n",
              "      <td>0.024088</td>\n",
              "    </tr>\n",
              "    <tr>\n",
              "      <th>1</th>\n",
              "      <td>french vanilla pudding and pie filling mix</td>\n",
              "      <td>0.000022</td>\n",
              "    </tr>\n",
              "    <tr>\n",
              "      <th>2</th>\n",
              "      <td>stove top stuffing mix</td>\n",
              "      <td>0.000595</td>\n",
              "    </tr>\n",
              "    <tr>\n",
              "      <th>3</th>\n",
              "      <td>cream cheese</td>\n",
              "      <td>0.050296</td>\n",
              "    </tr>\n",
              "    <tr>\n",
              "      <th>4</th>\n",
              "      <td>cheddar</td>\n",
              "      <td>0.068998</td>\n",
              "    </tr>\n",
              "  </tbody>\n",
              "</table>\n",
              "</div>"
            ],
            "text/plain": [
              "                                    ingr_name  frequency\n",
              "0                                     lettuce   0.024088\n",
              "1  french vanilla pudding and pie filling mix   0.000022\n",
              "2                      stove top stuffing mix   0.000595\n",
              "3                                cream cheese   0.050296\n",
              "4                                     cheddar   0.068998"
            ]
          },
          "metadata": {
            "tags": []
          },
          "execution_count": 83
        }
      ]
    },
    {
      "cell_type": "markdown",
      "metadata": {
        "id": "H1do9a53Xfn8"
      },
      "source": [
        "### **Rating per recipe with given ingredient**"
      ]
    },
    {
      "cell_type": "code",
      "metadata": {
        "colab": {
          "base_uri": "https://localhost:8080/",
          "height": 343
        },
        "id": "MDf6o7ABWzHl",
        "outputId": "79273022-a943-43e1-ef36-977cd7072e8b"
      },
      "source": [
        "interactions_exploded = interactions.copy(deep=True)\n",
        "interactions_exploded = interactions_exploded.merge(how=\"left\", right=recipes[[\"recipe_id\",\"ingredient_ids\"]], left_on=\"recipe_id\", right_on=\"recipe_id\")\n",
        "interactions_exploded = interactions_exploded.dropna()\n",
        "interactions_exploded[\"ingredient_ids\"] = interactions_exploded['ingredient_ids'].apply(lambda x : ast.literal_eval(x))\n",
        "interactions_exploded = interactions_exploded.explode(column=\"ingredient_ids\", ignore_index=True)\n",
        "\n",
        "interactions_exploded.head(10)"
      ],
      "execution_count": null,
      "outputs": [
        {
          "output_type": "execute_result",
          "data": {
            "text/html": [
              "<div>\n",
              "<style scoped>\n",
              "    .dataframe tbody tr th:only-of-type {\n",
              "        vertical-align: middle;\n",
              "    }\n",
              "\n",
              "    .dataframe tbody tr th {\n",
              "        vertical-align: top;\n",
              "    }\n",
              "\n",
              "    .dataframe thead th {\n",
              "        text-align: right;\n",
              "    }\n",
              "</style>\n",
              "<table border=\"1\" class=\"dataframe\">\n",
              "  <thead>\n",
              "    <tr style=\"text-align: right;\">\n",
              "      <th></th>\n",
              "      <th>user_id</th>\n",
              "      <th>recipe_id</th>\n",
              "      <th>rating</th>\n",
              "      <th>review</th>\n",
              "      <th>ingredient_ids</th>\n",
              "    </tr>\n",
              "  </thead>\n",
              "  <tbody>\n",
              "    <tr>\n",
              "      <th>0</th>\n",
              "      <td>38094</td>\n",
              "      <td>40893</td>\n",
              "      <td>4</td>\n",
              "      <td>Great with a salad. Cooked on top of stove for...</td>\n",
              "      <td>3384</td>\n",
              "    </tr>\n",
              "    <tr>\n",
              "      <th>1</th>\n",
              "      <td>38094</td>\n",
              "      <td>40893</td>\n",
              "      <td>4</td>\n",
              "      <td>Great with a salad. Cooked on top of stove for...</td>\n",
              "      <td>7979</td>\n",
              "    </tr>\n",
              "    <tr>\n",
              "      <th>2</th>\n",
              "      <td>38094</td>\n",
              "      <td>40893</td>\n",
              "      <td>4</td>\n",
              "      <td>Great with a salad. Cooked on top of stove for...</td>\n",
              "      <td>2127</td>\n",
              "    </tr>\n",
              "    <tr>\n",
              "      <th>3</th>\n",
              "      <td>38094</td>\n",
              "      <td>40893</td>\n",
              "      <td>4</td>\n",
              "      <td>Great with a salad. Cooked on top of stove for...</td>\n",
              "      <td>3502</td>\n",
              "    </tr>\n",
              "    <tr>\n",
              "      <th>4</th>\n",
              "      <td>38094</td>\n",
              "      <td>40893</td>\n",
              "      <td>4</td>\n",
              "      <td>Great with a salad. Cooked on top of stove for...</td>\n",
              "      <td>3217</td>\n",
              "    </tr>\n",
              "    <tr>\n",
              "      <th>5</th>\n",
              "      <td>38094</td>\n",
              "      <td>40893</td>\n",
              "      <td>4</td>\n",
              "      <td>Great with a salad. Cooked on top of stove for...</td>\n",
              "      <td>1257</td>\n",
              "    </tr>\n",
              "    <tr>\n",
              "      <th>6</th>\n",
              "      <td>38094</td>\n",
              "      <td>40893</td>\n",
              "      <td>4</td>\n",
              "      <td>Great with a salad. Cooked on top of stove for...</td>\n",
              "      <td>2778</td>\n",
              "    </tr>\n",
              "    <tr>\n",
              "      <th>7</th>\n",
              "      <td>38094</td>\n",
              "      <td>40893</td>\n",
              "      <td>4</td>\n",
              "      <td>Great with a salad. Cooked on top of stove for...</td>\n",
              "      <td>5006</td>\n",
              "    </tr>\n",
              "    <tr>\n",
              "      <th>8</th>\n",
              "      <td>38094</td>\n",
              "      <td>40893</td>\n",
              "      <td>4</td>\n",
              "      <td>Great with a salad. Cooked on top of stove for...</td>\n",
              "      <td>6654</td>\n",
              "    </tr>\n",
              "    <tr>\n",
              "      <th>9</th>\n",
              "      <td>1293707</td>\n",
              "      <td>40893</td>\n",
              "      <td>5</td>\n",
              "      <td>So simple, so delicious! Great for chilly fall...</td>\n",
              "      <td>3384</td>\n",
              "    </tr>\n",
              "  </tbody>\n",
              "</table>\n",
              "</div>"
            ],
            "text/plain": [
              "   user_id  ...  ingredient_ids\n",
              "0    38094  ...            3384\n",
              "1    38094  ...            7979\n",
              "2    38094  ...            2127\n",
              "3    38094  ...            3502\n",
              "4    38094  ...            3217\n",
              "5    38094  ...            1257\n",
              "6    38094  ...            2778\n",
              "7    38094  ...            5006\n",
              "8    38094  ...            6654\n",
              "9  1293707  ...            3384\n",
              "\n",
              "[10 rows x 5 columns]"
            ]
          },
          "metadata": {
            "tags": []
          },
          "execution_count": 85
        }
      ]
    },
    {
      "cell_type": "code",
      "metadata": {
        "colab": {
          "base_uri": "https://localhost:8080/",
          "height": 343
        },
        "id": "F5QuFwjlXA-9",
        "outputId": "38acf437-6d6f-4346-856e-caf35b4b3379"
      },
      "source": [
        "ingr_df[\"mean_rating\"] = ingr_df[\"ingr_id\"].map(dict(interactions_exploded.groupby(\"ingredient_ids\")[\"rating\"].mean()))\n",
        "ingr_df[\"num_ratings\"] = ingr_df[\"ingr_id\"].map(dict(interactions_exploded.groupby(\"ingredient_ids\")[\"rating\"].size()))\n",
        "ingr_df.head(10)"
      ],
      "execution_count": null,
      "outputs": [
        {
          "output_type": "execute_result",
          "data": {
            "text/html": [
              "<div>\n",
              "<style scoped>\n",
              "    .dataframe tbody tr th:only-of-type {\n",
              "        vertical-align: middle;\n",
              "    }\n",
              "\n",
              "    .dataframe tbody tr th {\n",
              "        vertical-align: top;\n",
              "    }\n",
              "\n",
              "    .dataframe thead th {\n",
              "        text-align: right;\n",
              "    }\n",
              "</style>\n",
              "<table border=\"1\" class=\"dataframe\">\n",
              "  <thead>\n",
              "    <tr style=\"text-align: right;\">\n",
              "      <th></th>\n",
              "      <th>ingr_id</th>\n",
              "      <th>ingr_name</th>\n",
              "      <th>num_recipes</th>\n",
              "      <th>frequency</th>\n",
              "      <th>mean_rating</th>\n",
              "      <th>num_ratings</th>\n",
              "    </tr>\n",
              "  </thead>\n",
              "  <tbody>\n",
              "    <tr>\n",
              "      <th>0</th>\n",
              "      <td>4308</td>\n",
              "      <td>lettuce</td>\n",
              "      <td>4294.0</td>\n",
              "      <td>0.024088</td>\n",
              "      <td>4.553558</td>\n",
              "      <td>17859</td>\n",
              "    </tr>\n",
              "    <tr>\n",
              "      <th>1</th>\n",
              "      <td>2744</td>\n",
              "      <td>french vanilla pudding and pie filling mix</td>\n",
              "      <td>4.0</td>\n",
              "      <td>0.000022</td>\n",
              "      <td>4.400000</td>\n",
              "      <td>5</td>\n",
              "    </tr>\n",
              "    <tr>\n",
              "      <th>2</th>\n",
              "      <td>6843</td>\n",
              "      <td>stove top stuffing mix</td>\n",
              "      <td>106.0</td>\n",
              "      <td>0.000595</td>\n",
              "      <td>4.261090</td>\n",
              "      <td>789</td>\n",
              "    </tr>\n",
              "    <tr>\n",
              "      <th>3</th>\n",
              "      <td>1910</td>\n",
              "      <td>cream cheese</td>\n",
              "      <td>8966.0</td>\n",
              "      <td>0.050296</td>\n",
              "      <td>4.470405</td>\n",
              "      <td>50937</td>\n",
              "    </tr>\n",
              "    <tr>\n",
              "      <th>4</th>\n",
              "      <td>1168</td>\n",
              "      <td>cheddar</td>\n",
              "      <td>12300.0</td>\n",
              "      <td>0.068998</td>\n",
              "      <td>4.434023</td>\n",
              "      <td>72851</td>\n",
              "    </tr>\n",
              "    <tr>\n",
              "      <th>5</th>\n",
              "      <td>5811</td>\n",
              "      <td>radicchio</td>\n",
              "      <td>83.0</td>\n",
              "      <td>0.000466</td>\n",
              "      <td>4.567010</td>\n",
              "      <td>194</td>\n",
              "    </tr>\n",
              "    <tr>\n",
              "      <th>6</th>\n",
              "      <td>5205</td>\n",
              "      <td>pasta sauce</td>\n",
              "      <td>412.0</td>\n",
              "      <td>0.002311</td>\n",
              "      <td>4.461032</td>\n",
              "      <td>1976</td>\n",
              "    </tr>\n",
              "    <tr>\n",
              "      <th>7</th>\n",
              "      <td>7233</td>\n",
              "      <td>tomato sauce</td>\n",
              "      <td>3637.0</td>\n",
              "      <td>0.020402</td>\n",
              "      <td>4.416130</td>\n",
              "      <td>23918</td>\n",
              "    </tr>\n",
              "    <tr>\n",
              "      <th>9</th>\n",
              "      <td>4836</td>\n",
              "      <td>mozzarella</td>\n",
              "      <td>4878.0</td>\n",
              "      <td>0.027364</td>\n",
              "      <td>4.489368</td>\n",
              "      <td>25960</td>\n",
              "    </tr>\n",
              "    <tr>\n",
              "      <th>10</th>\n",
              "      <td>912</td>\n",
              "      <td>cake mix</td>\n",
              "      <td>2344.0</td>\n",
              "      <td>0.013149</td>\n",
              "      <td>4.458136</td>\n",
              "      <td>13317</td>\n",
              "    </tr>\n",
              "  </tbody>\n",
              "</table>\n",
              "</div>"
            ],
            "text/plain": [
              "    ingr_id  ... num_ratings\n",
              "0      4308  ...       17859\n",
              "1      2744  ...           5\n",
              "2      6843  ...         789\n",
              "3      1910  ...       50937\n",
              "4      1168  ...       72851\n",
              "5      5811  ...         194\n",
              "6      5205  ...        1976\n",
              "7      7233  ...       23918\n",
              "9      4836  ...       25960\n",
              "10      912  ...       13317\n",
              "\n",
              "[10 rows x 6 columns]"
            ]
          },
          "metadata": {
            "tags": []
          },
          "execution_count": 86
        }
      ]
    },
    {
      "cell_type": "code",
      "metadata": {
        "colab": {
          "base_uri": "https://localhost:8080/",
          "height": 279
        },
        "id": "1RP3V-MSXEA-",
        "outputId": "07b5888a-7cbf-42e4-ed1c-4d538eeb6e03"
      },
      "source": [
        "ax = sns.scatterplot(data=ingr_df, x=\"frequency\", y=\"mean_rating\", color=\"blue\", s=100)\n",
        "ax.set_xlabel(\"Frequency\")\n",
        "plt.show()"
      ],
      "execution_count": null,
      "outputs": [
        {
          "output_type": "display_data",
          "data": {
            "image/png": "[encoded data removed]",
            "text/plain": [
              "<Figure size 432x288 with 1 Axes>"
            ]
          },
          "metadata": {
            "tags": [],
            "needs_background": "light"
          }
        }
      ]
    },
    {
      "cell_type": "markdown",
      "metadata": {
        "id": "Fp6EZn2TXN4f"
      },
      "source": [
        "### **Rare ingredients**"
      ]
    },
    {
      "cell_type": "code",
      "metadata": {
        "colab": {
          "base_uri": "https://localhost:8080/",
          "height": 343
        },
        "id": "wDrynbgxXMEV",
        "outputId": "17c3ac15-d27b-4132-889e-5774bd7f9fea"
      },
      "source": [
        "threshold = 5\n",
        "rare_ingredients = ingr_df.loc[ingr_df[\"num_recipes\"] <= threshold, \"ingr_id\"].values\n",
        "recipes_exploded[\"rare_ingr\"] = recipes_exploded[\"ingredient_ids\"].map(lambda x: x in rare_ingredients)\n",
        "recipes_exploded.head(10)"
      ],
      "execution_count": null,
      "outputs": [
        {
          "output_type": "execute_result",
          "data": {
            "text/html": [
              "<div>\n",
              "<style scoped>\n",
              "    .dataframe tbody tr th:only-of-type {\n",
              "        vertical-align: middle;\n",
              "    }\n",
              "\n",
              "    .dataframe tbody tr th {\n",
              "        vertical-align: top;\n",
              "    }\n",
              "\n",
              "    .dataframe thead th {\n",
              "        text-align: right;\n",
              "    }\n",
              "</style>\n",
              "<table border=\"1\" class=\"dataframe\">\n",
              "  <thead>\n",
              "    <tr style=\"text-align: right;\">\n",
              "      <th></th>\n",
              "      <th>recipe_id</th>\n",
              "      <th>name</th>\n",
              "      <th>submitted</th>\n",
              "      <th>ingredient_ids</th>\n",
              "      <th>ingredients</th>\n",
              "      <th>n_ingredients</th>\n",
              "      <th>rare_ingr</th>\n",
              "    </tr>\n",
              "  </thead>\n",
              "  <tbody>\n",
              "    <tr>\n",
              "      <th>0</th>\n",
              "      <td>424415</td>\n",
              "      <td>aromatic basmati rice  rice cooker</td>\n",
              "      <td>2010-05-10</td>\n",
              "      <td>389</td>\n",
              "      <td>['basmati rice', 'water', 'salt', 'cinnamon st...</td>\n",
              "      <td>5</td>\n",
              "      <td>False</td>\n",
              "    </tr>\n",
              "    <tr>\n",
              "      <th>1</th>\n",
              "      <td>424415</td>\n",
              "      <td>aromatic basmati rice  rice cooker</td>\n",
              "      <td>2010-05-10</td>\n",
              "      <td>7655</td>\n",
              "      <td>['basmati rice', 'water', 'salt', 'cinnamon st...</td>\n",
              "      <td>5</td>\n",
              "      <td>False</td>\n",
              "    </tr>\n",
              "    <tr>\n",
              "      <th>2</th>\n",
              "      <td>424415</td>\n",
              "      <td>aromatic basmati rice  rice cooker</td>\n",
              "      <td>2010-05-10</td>\n",
              "      <td>6270</td>\n",
              "      <td>['basmati rice', 'water', 'salt', 'cinnamon st...</td>\n",
              "      <td>5</td>\n",
              "      <td>False</td>\n",
              "    </tr>\n",
              "    <tr>\n",
              "      <th>3</th>\n",
              "      <td>424415</td>\n",
              "      <td>aromatic basmati rice  rice cooker</td>\n",
              "      <td>2010-05-10</td>\n",
              "      <td>1527</td>\n",
              "      <td>['basmati rice', 'water', 'salt', 'cinnamon st...</td>\n",
              "      <td>5</td>\n",
              "      <td>False</td>\n",
              "    </tr>\n",
              "    <tr>\n",
              "      <th>4</th>\n",
              "      <td>424415</td>\n",
              "      <td>aromatic basmati rice  rice cooker</td>\n",
              "      <td>2010-05-10</td>\n",
              "      <td>3406</td>\n",
              "      <td>['basmati rice', 'water', 'salt', 'cinnamon st...</td>\n",
              "      <td>5</td>\n",
              "      <td>False</td>\n",
              "    </tr>\n",
              "    <tr>\n",
              "      <th>5</th>\n",
              "      <td>146223</td>\n",
              "      <td>pumpkin pie a la easy</td>\n",
              "      <td>2005-11-25</td>\n",
              "      <td>2683</td>\n",
              "      <td>['flour', 'oats', 'brown sugar', 'pecans', 'bu...</td>\n",
              "      <td>12</td>\n",
              "      <td>False</td>\n",
              "    </tr>\n",
              "    <tr>\n",
              "      <th>6</th>\n",
              "      <td>146223</td>\n",
              "      <td>pumpkin pie a la easy</td>\n",
              "      <td>2005-11-25</td>\n",
              "      <td>4969</td>\n",
              "      <td>['flour', 'oats', 'brown sugar', 'pecans', 'bu...</td>\n",
              "      <td>12</td>\n",
              "      <td>False</td>\n",
              "    </tr>\n",
              "    <tr>\n",
              "      <th>7</th>\n",
              "      <td>146223</td>\n",
              "      <td>pumpkin pie a la easy</td>\n",
              "      <td>2005-11-25</td>\n",
              "      <td>800</td>\n",
              "      <td>['flour', 'oats', 'brown sugar', 'pecans', 'bu...</td>\n",
              "      <td>12</td>\n",
              "      <td>False</td>\n",
              "    </tr>\n",
              "    <tr>\n",
              "      <th>8</th>\n",
              "      <td>146223</td>\n",
              "      <td>pumpkin pie a la easy</td>\n",
              "      <td>2005-11-25</td>\n",
              "      <td>5298</td>\n",
              "      <td>['flour', 'oats', 'brown sugar', 'pecans', 'bu...</td>\n",
              "      <td>12</td>\n",
              "      <td>False</td>\n",
              "    </tr>\n",
              "    <tr>\n",
              "      <th>9</th>\n",
              "      <td>146223</td>\n",
              "      <td>pumpkin pie a la easy</td>\n",
              "      <td>2005-11-25</td>\n",
              "      <td>840</td>\n",
              "      <td>['flour', 'oats', 'brown sugar', 'pecans', 'bu...</td>\n",
              "      <td>12</td>\n",
              "      <td>False</td>\n",
              "    </tr>\n",
              "  </tbody>\n",
              "</table>\n",
              "</div>"
            ],
            "text/plain": [
              "   recipe_id                                name  ... n_ingredients rare_ingr\n",
              "0     424415  aromatic basmati rice  rice cooker  ...             5     False\n",
              "1     424415  aromatic basmati rice  rice cooker  ...             5     False\n",
              "2     424415  aromatic basmati rice  rice cooker  ...             5     False\n",
              "3     424415  aromatic basmati rice  rice cooker  ...             5     False\n",
              "4     424415  aromatic basmati rice  rice cooker  ...             5     False\n",
              "5     146223               pumpkin pie a la easy  ...            12     False\n",
              "6     146223               pumpkin pie a la easy  ...            12     False\n",
              "7     146223               pumpkin pie a la easy  ...            12     False\n",
              "8     146223               pumpkin pie a la easy  ...            12     False\n",
              "9     146223               pumpkin pie a la easy  ...            12     False\n",
              "\n",
              "[10 rows x 7 columns]"
            ]
          },
          "metadata": {
            "tags": []
          },
          "execution_count": 88
        }
      ]
    },
    {
      "cell_type": "code",
      "metadata": {
        "colab": {
          "base_uri": "https://localhost:8080/",
          "height": 511
        },
        "id": "LvB7d_XHXrlz",
        "outputId": "191472c2-bce9-4bc8-bce6-aa4c2f33fb8b"
      },
      "source": [
        "recipes[\"num_rare_ingr\"] = recipes[\"recipe_id\"].map(dict(recipes_exploded.groupby(\"recipe_id\")[\"rare_ingr\"].sum()))\n",
        "recipes.head(10)"
      ],
      "execution_count": null,
      "outputs": [
        {
          "output_type": "execute_result",
          "data": {
            "text/html": [
              "<div>\n",
              "<style scoped>\n",
              "    .dataframe tbody tr th:only-of-type {\n",
              "        vertical-align: middle;\n",
              "    }\n",
              "\n",
              "    .dataframe tbody tr th {\n",
              "        vertical-align: top;\n",
              "    }\n",
              "\n",
              "    .dataframe thead th {\n",
              "        text-align: right;\n",
              "    }\n",
              "</style>\n",
              "<table border=\"1\" class=\"dataframe\">\n",
              "  <thead>\n",
              "    <tr style=\"text-align: right;\">\n",
              "      <th></th>\n",
              "      <th>recipe_id</th>\n",
              "      <th>name</th>\n",
              "      <th>submitted</th>\n",
              "      <th>ingredient_ids</th>\n",
              "      <th>ingredients</th>\n",
              "      <th>n_ingredients</th>\n",
              "      <th>num_rare_ingr</th>\n",
              "    </tr>\n",
              "  </thead>\n",
              "  <tbody>\n",
              "    <tr>\n",
              "      <th>0</th>\n",
              "      <td>424415</td>\n",
              "      <td>aromatic basmati rice  rice cooker</td>\n",
              "      <td>2010-05-10</td>\n",
              "      <td>[389, 7655, 6270, 1527, 3406]</td>\n",
              "      <td>['basmati rice', 'water', 'salt', 'cinnamon st...</td>\n",
              "      <td>5</td>\n",
              "      <td>0</td>\n",
              "    </tr>\n",
              "    <tr>\n",
              "      <th>1</th>\n",
              "      <td>146223</td>\n",
              "      <td>pumpkin pie a la easy</td>\n",
              "      <td>2005-11-25</td>\n",
              "      <td>[2683, 4969, 800, 5298, 840, 2499, 6632, 7022,...</td>\n",
              "      <td>['flour', 'oats', 'brown sugar', 'pecans', 'bu...</td>\n",
              "      <td>12</td>\n",
              "      <td>0</td>\n",
              "    </tr>\n",
              "    <tr>\n",
              "      <th>2</th>\n",
              "      <td>312329</td>\n",
              "      <td>cheesy tomato soup with potatoes</td>\n",
              "      <td>2008-07-07</td>\n",
              "      <td>[1257, 7655, 6270, 590, 5024, 1119, 4883, 6696...</td>\n",
              "      <td>['chicken broth', 'water', 'salt', 'black pepp...</td>\n",
              "      <td>15</td>\n",
              "      <td>0</td>\n",
              "    </tr>\n",
              "    <tr>\n",
              "      <th>3</th>\n",
              "      <td>74301</td>\n",
              "      <td>mini tacos</td>\n",
              "      <td>2003-10-29</td>\n",
              "      <td>[7940, 3609, 7060, 6265, 1170, 6654, 5003, 3561]</td>\n",
              "      <td>['wonton wrappers', 'hamburger', 'taco seasoni...</td>\n",
              "      <td>8</td>\n",
              "      <td>0</td>\n",
              "    </tr>\n",
              "    <tr>\n",
              "      <th>4</th>\n",
              "      <td>76272</td>\n",
              "      <td>rosemary s hanky panky s</td>\n",
              "      <td>2003-11-12</td>\n",
              "      <td>[3484, 6324, 7594, 243]</td>\n",
              "      <td>['ground beef', 'ground sausage', 'velveeta ch...</td>\n",
              "      <td>4</td>\n",
              "      <td>0</td>\n",
              "    </tr>\n",
              "    <tr>\n",
              "      <th>5</th>\n",
              "      <td>465171</td>\n",
              "      <td>pink bavarian crown strawberry dream supreme</td>\n",
              "      <td>2011-09-29</td>\n",
              "      <td>[6861, 7655, 6846, 6906, 1789, 131, 6863, 1833...</td>\n",
              "      <td>['strawberry jell-o gelatin dessert', 'water',...</td>\n",
              "      <td>10</td>\n",
              "      <td>0</td>\n",
              "    </tr>\n",
              "    <tr>\n",
              "      <th>6</th>\n",
              "      <td>163861</td>\n",
              "      <td>tom and kelly s chicken fried steak</td>\n",
              "      <td>2006-04-11</td>\n",
              "      <td>[5574, 2683, 6270, 5319, 2499, 869, 1278, 4987...</td>\n",
              "      <td>['boneless pork chops', 'flour', 'salt', 'pepp...</td>\n",
              "      <td>9</td>\n",
              "      <td>0</td>\n",
              "    </tr>\n",
              "    <tr>\n",
              "      <th>7</th>\n",
              "      <td>186383</td>\n",
              "      <td>chocolate oat cookie bars</td>\n",
              "      <td>2006-09-15</td>\n",
              "      <td>[2683, 4969, 332, 335, 6270, 800, 4987, 7470, ...</td>\n",
              "      <td>['flour', 'oats', 'baking powder', 'baking sod...</td>\n",
              "      <td>10</td>\n",
              "      <td>0</td>\n",
              "    </tr>\n",
              "    <tr>\n",
              "      <th>8</th>\n",
              "      <td>116395</td>\n",
              "      <td>tropical lemon cream bars</td>\n",
              "      <td>2005-04-12</td>\n",
              "      <td>[2683, 1689, 5687, 1098, 840, 7782, 7011, 1910...</td>\n",
              "      <td>['flour', \"confectioners' sugar\", 'powdered mi...</td>\n",
              "      <td>13</td>\n",
              "      <td>0</td>\n",
              "    </tr>\n",
              "    <tr>\n",
              "      <th>9</th>\n",
              "      <td>303460</td>\n",
              "      <td>jeera on cubes  barbecue marinade</td>\n",
              "      <td>2008-05-13</td>\n",
              "      <td>[6413, 7997, 3148, 3710, 1799, 2007, 3203, 265...</td>\n",
              "      <td>['sesame oil', 'yoghurt', 'fruit vinegar', 'ho...</td>\n",
              "      <td>9</td>\n",
              "      <td>1</td>\n",
              "    </tr>\n",
              "  </tbody>\n",
              "</table>\n",
              "</div>"
            ],
            "text/plain": [
              "   recipe_id  ... num_rare_ingr\n",
              "0     424415  ...             0\n",
              "1     146223  ...             0\n",
              "2     312329  ...             0\n",
              "3      74301  ...             0\n",
              "4      76272  ...             0\n",
              "5     465171  ...             0\n",
              "6     163861  ...             0\n",
              "7     186383  ...             0\n",
              "8     116395  ...             0\n",
              "9     303460  ...             1\n",
              "\n",
              "[10 rows x 7 columns]"
            ]
          },
          "metadata": {
            "tags": []
          },
          "execution_count": 89
        }
      ]
    },
    {
      "cell_type": "code",
      "metadata": {
        "colab": {
          "base_uri": "https://localhost:8080/",
          "height": 279
        },
        "id": "0VGHgy43XvpJ",
        "outputId": "3b157d7a-e883-4736-dcce-d3221a1d4a21"
      },
      "source": [
        "recipes[\"mean_rating\"] = recipes[\"recipe_id\"].map(dict(interactions.groupby(\"recipe_id\")[\"rating\"].mean()))\n",
        "\n",
        "sns.set_palette(sns.color_palette(\"Set2\", 8))\n",
        "ax = sns.boxplot(data=recipes, x=\"num_rare_ingr\", y=\"mean_rating\")\n",
        "ax.set_xlabel(\"Number of rare ingredients\")\n",
        "ax.set_ylabel(\"Mean rating\")\n",
        "plt.show()"
      ],
      "execution_count": null,
      "outputs": [
        {
          "output_type": "display_data",
          "data": {
            "image/png": "[encoded data removed]",
            "text/plain": [
              "<Figure size 432x288 with 1 Axes>"
            ]
          },
          "metadata": {
            "tags": [],
            "needs_background": "light"
          }
        }
      ]
    }
  ]
}