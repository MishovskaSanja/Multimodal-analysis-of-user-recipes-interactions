{
  "nbformat": 4,
  "nbformat_minor": 0,
  "metadata": {
    "colab": {
      "name": "HINSAGE.ipynb",
      "provenance": []
    },
    "kernelspec": {
      "display_name": "Python 3",
      "name": "python3"
    },
    "language_info": {
      "name": "python"
    }
  },
  "cells": [
    {
      "cell_type": "markdown",
      "metadata": {
        "id": "KLto1LKnazHH"
      },
      "source": [
        "In this collab, we create a bipartite StellarGraph with two types of nodes: users and recipes and edges which represent the interactions between them. Later, we train a HINSage model for link prediction.  "
      ]
    },
    {
      "cell_type": "code",
      "metadata": {
        "id": "fxYDmoJlnBMK"
      },
      "source": [
        "!pip install stellargraph"
      ],
      "execution_count": null,
      "outputs": []
    },
    {
      "cell_type": "code",
      "metadata": {
        "colab": {
          "base_uri": "https://localhost:8080/"
        },
        "id": "cA1QmvsShYBP",
        "outputId": "53ebebbf-6651-4905-deaa-23ab3e3fc03e"
      },
      "source": [
        "from google.colab import drive\n",
        "drive.mount('/content/drive')"
      ],
      "execution_count": null,
      "outputs": [
        {
          "output_type": "stream",
          "text": [
            "Mounted at /content/drive\n"
          ],
          "name": "stdout"
        }
      ]
    },
    {
      "cell_type": "code",
      "metadata": {
        "id": "1u_y2ubEn8r_"
      },
      "source": [
        "import pandas as pd\n",
        "import numpy as np"
      ],
      "execution_count": null,
      "outputs": []
    },
    {
      "cell_type": "markdown",
      "metadata": {
        "id": "LCLTvJdZbOm_"
      },
      "source": [
        "**Reading datasets**"
      ]
    },
    {
      "cell_type": "code",
      "metadata": {
        "id": "Sfl9PWJtn_Fj"
      },
      "source": [
        "users = pd.read_csv(\"/content/drive/MyDrive/Food.com Recipes and Interactions/datasets/PP_users.csv\")\n",
        "recipes = pd.read_csv(\"/content/drive/MyDrive/Food.com Recipes and Interactions/datasets/PP_recipes.csv\")\n",
        "interactions = pd.read_csv(\"/content/drive/MyDrive/Food.com Recipes and Interactions/datasets/interactions_train.csv\")"
      ],
      "execution_count": null,
      "outputs": []
    },
    {
      "cell_type": "markdown",
      "metadata": {
        "id": "Iu_4ckvUoRBi"
      },
      "source": [
        "**Find unique users & recipes and give them appropriate indexes**"
      ]
    },
    {
      "cell_type": "code",
      "metadata": {
        "colab": {
          "base_uri": "https://localhost:8080/",
          "height": 416
        },
        "id": "FxXsub6woUEE",
        "outputId": "c66e9534-066a-4164-b012-231e7781741b"
      },
      "source": [
        "users = interactions['u'].unique()\n",
        "users = pd.DataFrame(users, columns=['u'])\n",
        "users = users.set_index(\"user_\"+users.index.astype(str))\n",
        "users"
      ],
      "execution_count": null,
      "outputs": [
        {
          "output_type": "execute_result",
          "data": {
            "text/html": [
              "<div>\n",
              "<style scoped>\n",
              "    .dataframe tbody tr th:only-of-type {\n",
              "        vertical-align: middle;\n",
              "    }\n",
              "\n",
              "    .dataframe tbody tr th {\n",
              "        vertical-align: top;\n",
              "    }\n",
              "\n",
              "    .dataframe thead th {\n",
              "        text-align: right;\n",
              "    }\n",
              "</style>\n",
              "<table border=\"1\" class=\"dataframe\">\n",
              "  <thead>\n",
              "    <tr style=\"text-align: right;\">\n",
              "      <th></th>\n",
              "      <th>u</th>\n",
              "    </tr>\n",
              "  </thead>\n",
              "  <tbody>\n",
              "    <tr>\n",
              "      <th>user_0</th>\n",
              "      <td>22095</td>\n",
              "    </tr>\n",
              "    <tr>\n",
              "      <th>user_1</th>\n",
              "      <td>24732</td>\n",
              "    </tr>\n",
              "    <tr>\n",
              "      <th>user_2</th>\n",
              "      <td>1674</td>\n",
              "    </tr>\n",
              "    <tr>\n",
              "      <th>user_3</th>\n",
              "      <td>20667</td>\n",
              "    </tr>\n",
              "    <tr>\n",
              "      <th>user_4</th>\n",
              "      <td>19047</td>\n",
              "    </tr>\n",
              "    <tr>\n",
              "      <th>...</th>\n",
              "      <td>...</td>\n",
              "    </tr>\n",
              "    <tr>\n",
              "      <th>user_25071</th>\n",
              "      <td>18127</td>\n",
              "    </tr>\n",
              "    <tr>\n",
              "      <th>user_25072</th>\n",
              "      <td>5201</td>\n",
              "    </tr>\n",
              "    <tr>\n",
              "      <th>user_25073</th>\n",
              "      <td>13311</td>\n",
              "    </tr>\n",
              "    <tr>\n",
              "      <th>user_25074</th>\n",
              "      <td>7790</td>\n",
              "    </tr>\n",
              "    <tr>\n",
              "      <th>user_25075</th>\n",
              "      <td>14897</td>\n",
              "    </tr>\n",
              "  </tbody>\n",
              "</table>\n",
              "<p>25076 rows × 1 columns</p>\n",
              "</div>"
            ],
            "text/plain": [
              "                u\n",
              "user_0      22095\n",
              "user_1      24732\n",
              "user_2       1674\n",
              "user_3      20667\n",
              "user_4      19047\n",
              "...           ...\n",
              "user_25071  18127\n",
              "user_25072   5201\n",
              "user_25073  13311\n",
              "user_25074   7790\n",
              "user_25075  14897\n",
              "\n",
              "[25076 rows x 1 columns]"
            ]
          },
          "metadata": {
            "tags": []
          },
          "execution_count": 36
        }
      ]
    },
    {
      "cell_type": "code",
      "metadata": {
        "colab": {
          "base_uri": "https://localhost:8080/",
          "height": 416
        },
        "id": "77ZkuB0BoZvC",
        "outputId": "2d7cc357-3df6-446c-f7e8-a33e10664e81"
      },
      "source": [
        "recipes = interactions['i'].unique()\n",
        "recipes = pd.DataFrame(recipes, columns=[\"i\"])\n",
        "recipes = recipes.set_index('recipe_'+recipes.index.astype(str))\n",
        "recipes "
      ],
      "execution_count": null,
      "outputs": [
        {
          "output_type": "execute_result",
          "data": {
            "text/html": [
              "<div>\n",
              "<style scoped>\n",
              "    .dataframe tbody tr th:only-of-type {\n",
              "        vertical-align: middle;\n",
              "    }\n",
              "\n",
              "    .dataframe tbody tr th {\n",
              "        vertical-align: top;\n",
              "    }\n",
              "\n",
              "    .dataframe thead th {\n",
              "        text-align: right;\n",
              "    }\n",
              "</style>\n",
              "<table border=\"1\" class=\"dataframe\">\n",
              "  <thead>\n",
              "    <tr style=\"text-align: right;\">\n",
              "      <th></th>\n",
              "      <th>i</th>\n",
              "    </tr>\n",
              "  </thead>\n",
              "  <tbody>\n",
              "    <tr>\n",
              "      <th>recipe_0</th>\n",
              "      <td>44367</td>\n",
              "    </tr>\n",
              "    <tr>\n",
              "      <th>recipe_1</th>\n",
              "      <td>87844</td>\n",
              "    </tr>\n",
              "    <tr>\n",
              "      <th>recipe_2</th>\n",
              "      <td>138181</td>\n",
              "    </tr>\n",
              "    <tr>\n",
              "      <th>recipe_3</th>\n",
              "      <td>93054</td>\n",
              "    </tr>\n",
              "    <tr>\n",
              "      <th>recipe_4</th>\n",
              "      <td>101723</td>\n",
              "    </tr>\n",
              "    <tr>\n",
              "      <th>...</th>\n",
              "      <td>...</td>\n",
              "    </tr>\n",
              "    <tr>\n",
              "      <th>recipe_160896</th>\n",
              "      <td>35126</td>\n",
              "    </tr>\n",
              "    <tr>\n",
              "      <th>recipe_160897</th>\n",
              "      <td>112580</td>\n",
              "    </tr>\n",
              "    <tr>\n",
              "      <th>recipe_160898</th>\n",
              "      <td>89109</td>\n",
              "    </tr>\n",
              "    <tr>\n",
              "      <th>recipe_160899</th>\n",
              "      <td>51525</td>\n",
              "    </tr>\n",
              "    <tr>\n",
              "      <th>recipe_160900</th>\n",
              "      <td>18120</td>\n",
              "    </tr>\n",
              "  </tbody>\n",
              "</table>\n",
              "<p>160901 rows × 1 columns</p>\n",
              "</div>"
            ],
            "text/plain": [
              "                    i\n",
              "recipe_0        44367\n",
              "recipe_1        87844\n",
              "recipe_2       138181\n",
              "recipe_3        93054\n",
              "recipe_4       101723\n",
              "...               ...\n",
              "recipe_160896   35126\n",
              "recipe_160897  112580\n",
              "recipe_160898   89109\n",
              "recipe_160899   51525\n",
              "recipe_160900   18120\n",
              "\n",
              "[160901 rows x 1 columns]"
            ]
          },
          "metadata": {
            "tags": []
          },
          "execution_count": 37
        }
      ]
    },
    {
      "cell_type": "code",
      "metadata": {
        "colab": {
          "base_uri": "https://localhost:8080/",
          "height": 416
        },
        "id": "xZcp1NIepGLZ",
        "outputId": "d906e2e9-d231-4435-a577-72e7e60d8561"
      },
      "source": [
        "interactions"
      ],
      "execution_count": null,
      "outputs": [
        {
          "output_type": "execute_result",
          "data": {
            "text/html": [
              "<div>\n",
              "<style scoped>\n",
              "    .dataframe tbody tr th:only-of-type {\n",
              "        vertical-align: middle;\n",
              "    }\n",
              "\n",
              "    .dataframe tbody tr th {\n",
              "        vertical-align: top;\n",
              "    }\n",
              "\n",
              "    .dataframe thead th {\n",
              "        text-align: right;\n",
              "    }\n",
              "</style>\n",
              "<table border=\"1\" class=\"dataframe\">\n",
              "  <thead>\n",
              "    <tr style=\"text-align: right;\">\n",
              "      <th></th>\n",
              "      <th>user_id</th>\n",
              "      <th>recipe_id</th>\n",
              "      <th>date</th>\n",
              "      <th>rating</th>\n",
              "      <th>u</th>\n",
              "      <th>i</th>\n",
              "    </tr>\n",
              "  </thead>\n",
              "  <tbody>\n",
              "    <tr>\n",
              "      <th>0</th>\n",
              "      <td>2046</td>\n",
              "      <td>4684</td>\n",
              "      <td>2000-02-25</td>\n",
              "      <td>5.0</td>\n",
              "      <td>22095</td>\n",
              "      <td>44367</td>\n",
              "    </tr>\n",
              "    <tr>\n",
              "      <th>1</th>\n",
              "      <td>2046</td>\n",
              "      <td>517</td>\n",
              "      <td>2000-02-25</td>\n",
              "      <td>5.0</td>\n",
              "      <td>22095</td>\n",
              "      <td>87844</td>\n",
              "    </tr>\n",
              "    <tr>\n",
              "      <th>2</th>\n",
              "      <td>1773</td>\n",
              "      <td>7435</td>\n",
              "      <td>2000-03-13</td>\n",
              "      <td>5.0</td>\n",
              "      <td>24732</td>\n",
              "      <td>138181</td>\n",
              "    </tr>\n",
              "    <tr>\n",
              "      <th>3</th>\n",
              "      <td>1773</td>\n",
              "      <td>278</td>\n",
              "      <td>2000-03-13</td>\n",
              "      <td>4.0</td>\n",
              "      <td>24732</td>\n",
              "      <td>93054</td>\n",
              "    </tr>\n",
              "    <tr>\n",
              "      <th>4</th>\n",
              "      <td>2046</td>\n",
              "      <td>3431</td>\n",
              "      <td>2000-04-07</td>\n",
              "      <td>5.0</td>\n",
              "      <td>22095</td>\n",
              "      <td>101723</td>\n",
              "    </tr>\n",
              "    <tr>\n",
              "      <th>...</th>\n",
              "      <td>...</td>\n",
              "      <td>...</td>\n",
              "      <td>...</td>\n",
              "      <td>...</td>\n",
              "      <td>...</td>\n",
              "      <td>...</td>\n",
              "    </tr>\n",
              "    <tr>\n",
              "      <th>698896</th>\n",
              "      <td>926904</td>\n",
              "      <td>457971</td>\n",
              "      <td>2018-12-18</td>\n",
              "      <td>5.0</td>\n",
              "      <td>13681</td>\n",
              "      <td>141067</td>\n",
              "    </tr>\n",
              "    <tr>\n",
              "      <th>698897</th>\n",
              "      <td>2002312797</td>\n",
              "      <td>27208</td>\n",
              "      <td>2018-12-18</td>\n",
              "      <td>5.0</td>\n",
              "      <td>14897</td>\n",
              "      <td>99787</td>\n",
              "    </tr>\n",
              "    <tr>\n",
              "      <th>698898</th>\n",
              "      <td>1290903</td>\n",
              "      <td>131607</td>\n",
              "      <td>2018-12-18</td>\n",
              "      <td>5.0</td>\n",
              "      <td>11605</td>\n",
              "      <td>76163</td>\n",
              "    </tr>\n",
              "    <tr>\n",
              "      <th>698899</th>\n",
              "      <td>226867</td>\n",
              "      <td>363072</td>\n",
              "      <td>2018-12-18</td>\n",
              "      <td>5.0</td>\n",
              "      <td>3604</td>\n",
              "      <td>29101</td>\n",
              "    </tr>\n",
              "    <tr>\n",
              "      <th>698900</th>\n",
              "      <td>2000498330</td>\n",
              "      <td>314535</td>\n",
              "      <td>2018-12-19</td>\n",
              "      <td>5.0</td>\n",
              "      <td>2248</td>\n",
              "      <td>21514</td>\n",
              "    </tr>\n",
              "  </tbody>\n",
              "</table>\n",
              "<p>698901 rows × 6 columns</p>\n",
              "</div>"
            ],
            "text/plain": [
              "           user_id  recipe_id        date  rating      u       i\n",
              "0             2046       4684  2000-02-25     5.0  22095   44367\n",
              "1             2046        517  2000-02-25     5.0  22095   87844\n",
              "2             1773       7435  2000-03-13     5.0  24732  138181\n",
              "3             1773        278  2000-03-13     4.0  24732   93054\n",
              "4             2046       3431  2000-04-07     5.0  22095  101723\n",
              "...            ...        ...         ...     ...    ...     ...\n",
              "698896      926904     457971  2018-12-18     5.0  13681  141067\n",
              "698897  2002312797      27208  2018-12-18     5.0  14897   99787\n",
              "698898     1290903     131607  2018-12-18     5.0  11605   76163\n",
              "698899      226867     363072  2018-12-18     5.0   3604   29101\n",
              "698900  2000498330     314535  2018-12-19     5.0   2248   21514\n",
              "\n",
              "[698901 rows x 6 columns]"
            ]
          },
          "metadata": {
            "tags": []
          },
          "execution_count": 38
        }
      ]
    },
    {
      "cell_type": "markdown",
      "metadata": {
        "id": "ltd-xiIbr6R3"
      },
      "source": [
        "### **Generate edges**"
      ]
    },
    {
      "cell_type": "code",
      "metadata": {
        "id": "vSiNXoWDr3NH"
      },
      "source": [
        "edges = pd.DataFrame(columns=['target', 'source', 'date'])\n",
        "for index, row in interactions.iterrows():\n",
        "  true_index_user = users.index[users['u'] == row['u']].tolist()\n",
        "  true_index_recipe = recipes.index[recipes['i'] == row['i']].tolist() \n",
        "  edges.loc[index] = [true_index_user[0], true_index_recipe[0], row['date']]\n",
        "edges"
      ],
      "execution_count": null,
      "outputs": []
    },
    {
      "cell_type": "code",
      "metadata": {
        "id": "dFSFsgHpC6gW"
      },
      "source": [
        "edges.to_csv(\"/content/drive/MyDrive/food recipes/edges_final.csv\")"
      ],
      "execution_count": null,
      "outputs": []
    },
    {
      "cell_type": "code",
      "metadata": {
        "id": "-4qJpgdzn1Q6"
      },
      "source": [
        "edges = pd.read_csv(\"/content/drive/MyDrive/Food.com Recipes and Interactions/edges_final.csv\")"
      ],
      "execution_count": null,
      "outputs": []
    },
    {
      "cell_type": "code",
      "metadata": {
        "colab": {
          "base_uri": "https://localhost:8080/",
          "height": 404
        },
        "id": "iBwdp_y9n6H4",
        "outputId": "3d3e4076-eba6-4c06-e0bb-bc86eddc9c1c"
      },
      "source": [
        "edges.drop(['Unnamed: 0'], axis=1, inplace=True)\n",
        "edges"
      ],
      "execution_count": null,
      "outputs": [
        {
          "output_type": "execute_result",
          "data": {
            "text/html": [
              "<div>\n",
              "<style scoped>\n",
              "    .dataframe tbody tr th:only-of-type {\n",
              "        vertical-align: middle;\n",
              "    }\n",
              "\n",
              "    .dataframe tbody tr th {\n",
              "        vertical-align: top;\n",
              "    }\n",
              "\n",
              "    .dataframe thead th {\n",
              "        text-align: right;\n",
              "    }\n",
              "</style>\n",
              "<table border=\"1\" class=\"dataframe\">\n",
              "  <thead>\n",
              "    <tr style=\"text-align: right;\">\n",
              "      <th></th>\n",
              "      <th>target</th>\n",
              "      <th>source</th>\n",
              "      <th>date</th>\n",
              "    </tr>\n",
              "  </thead>\n",
              "  <tbody>\n",
              "    <tr>\n",
              "      <th>0</th>\n",
              "      <td>user_0</td>\n",
              "      <td>recipe_0</td>\n",
              "      <td>2000-02-25</td>\n",
              "    </tr>\n",
              "    <tr>\n",
              "      <th>1</th>\n",
              "      <td>user_0</td>\n",
              "      <td>recipe_1</td>\n",
              "      <td>2000-02-25</td>\n",
              "    </tr>\n",
              "    <tr>\n",
              "      <th>2</th>\n",
              "      <td>user_1</td>\n",
              "      <td>recipe_2</td>\n",
              "      <td>2000-03-13</td>\n",
              "    </tr>\n",
              "    <tr>\n",
              "      <th>3</th>\n",
              "      <td>user_1</td>\n",
              "      <td>recipe_3</td>\n",
              "      <td>2000-03-13</td>\n",
              "    </tr>\n",
              "    <tr>\n",
              "      <th>4</th>\n",
              "      <td>user_0</td>\n",
              "      <td>recipe_4</td>\n",
              "      <td>2000-04-07</td>\n",
              "    </tr>\n",
              "    <tr>\n",
              "      <th>...</th>\n",
              "      <td>...</td>\n",
              "      <td>...</td>\n",
              "      <td>...</td>\n",
              "    </tr>\n",
              "    <tr>\n",
              "      <th>698896</th>\n",
              "      <td>user_21665</td>\n",
              "      <td>recipe_142940</td>\n",
              "      <td>2018-12-18</td>\n",
              "    </tr>\n",
              "    <tr>\n",
              "      <th>698897</th>\n",
              "      <td>user_25075</td>\n",
              "      <td>recipe_2669</td>\n",
              "      <td>2018-12-18</td>\n",
              "    </tr>\n",
              "    <tr>\n",
              "      <th>698898</th>\n",
              "      <td>user_22591</td>\n",
              "      <td>recipe_49370</td>\n",
              "      <td>2018-12-18</td>\n",
              "    </tr>\n",
              "    <tr>\n",
              "      <th>698899</th>\n",
              "      <td>user_10668</td>\n",
              "      <td>recipe_134757</td>\n",
              "      <td>2018-12-18</td>\n",
              "    </tr>\n",
              "    <tr>\n",
              "      <th>698900</th>\n",
              "      <td>user_24656</td>\n",
              "      <td>recipe_114304</td>\n",
              "      <td>2018-12-19</td>\n",
              "    </tr>\n",
              "  </tbody>\n",
              "</table>\n",
              "<p>698901 rows × 3 columns</p>\n",
              "</div>"
            ],
            "text/plain": [
              "            target         source        date\n",
              "0           user_0       recipe_0  2000-02-25\n",
              "1           user_0       recipe_1  2000-02-25\n",
              "2           user_1       recipe_2  2000-03-13\n",
              "3           user_1       recipe_3  2000-03-13\n",
              "4           user_0       recipe_4  2000-04-07\n",
              "...            ...            ...         ...\n",
              "698896  user_21665  recipe_142940  2018-12-18\n",
              "698897  user_25075    recipe_2669  2018-12-18\n",
              "698898  user_22591   recipe_49370  2018-12-18\n",
              "698899  user_10668  recipe_134757  2018-12-18\n",
              "698900  user_24656  recipe_114304  2018-12-19\n",
              "\n",
              "[698901 rows x 3 columns]"
            ]
          },
          "metadata": {
            "tags": []
          },
          "execution_count": 33
        }
      ]
    },
    {
      "cell_type": "code",
      "metadata": {
        "colab": {
          "base_uri": "https://localhost:8080/",
          "height": 416
        },
        "id": "s8iAr-z2tvzn",
        "outputId": "a374ad5f-9ebb-4ff2-cf71-322fb3b5079d"
      },
      "source": [
        "#since these edges exist in the graph, we give them weight of 1\n",
        "edges['weight'] = 1\n",
        "edges"
      ],
      "execution_count": null,
      "outputs": [
        {
          "output_type": "execute_result",
          "data": {
            "text/html": [
              "<div>\n",
              "<style scoped>\n",
              "    .dataframe tbody tr th:only-of-type {\n",
              "        vertical-align: middle;\n",
              "    }\n",
              "\n",
              "    .dataframe tbody tr th {\n",
              "        vertical-align: top;\n",
              "    }\n",
              "\n",
              "    .dataframe thead th {\n",
              "        text-align: right;\n",
              "    }\n",
              "</style>\n",
              "<table border=\"1\" class=\"dataframe\">\n",
              "  <thead>\n",
              "    <tr style=\"text-align: right;\">\n",
              "      <th></th>\n",
              "      <th>Unnamed: 0</th>\n",
              "      <th>target</th>\n",
              "      <th>source</th>\n",
              "      <th>date</th>\n",
              "      <th>weight</th>\n",
              "    </tr>\n",
              "  </thead>\n",
              "  <tbody>\n",
              "    <tr>\n",
              "      <th>0</th>\n",
              "      <td>0</td>\n",
              "      <td>user_0</td>\n",
              "      <td>recipe_0</td>\n",
              "      <td>2000-02-25</td>\n",
              "      <td>1</td>\n",
              "    </tr>\n",
              "    <tr>\n",
              "      <th>1</th>\n",
              "      <td>1</td>\n",
              "      <td>user_0</td>\n",
              "      <td>recipe_1</td>\n",
              "      <td>2000-02-25</td>\n",
              "      <td>1</td>\n",
              "    </tr>\n",
              "    <tr>\n",
              "      <th>2</th>\n",
              "      <td>2</td>\n",
              "      <td>user_1</td>\n",
              "      <td>recipe_2</td>\n",
              "      <td>2000-03-13</td>\n",
              "      <td>1</td>\n",
              "    </tr>\n",
              "    <tr>\n",
              "      <th>3</th>\n",
              "      <td>3</td>\n",
              "      <td>user_1</td>\n",
              "      <td>recipe_3</td>\n",
              "      <td>2000-03-13</td>\n",
              "      <td>1</td>\n",
              "    </tr>\n",
              "    <tr>\n",
              "      <th>4</th>\n",
              "      <td>4</td>\n",
              "      <td>user_0</td>\n",
              "      <td>recipe_4</td>\n",
              "      <td>2000-04-07</td>\n",
              "      <td>1</td>\n",
              "    </tr>\n",
              "    <tr>\n",
              "      <th>...</th>\n",
              "      <td>...</td>\n",
              "      <td>...</td>\n",
              "      <td>...</td>\n",
              "      <td>...</td>\n",
              "      <td>...</td>\n",
              "    </tr>\n",
              "    <tr>\n",
              "      <th>698896</th>\n",
              "      <td>698896</td>\n",
              "      <td>user_21665</td>\n",
              "      <td>recipe_142940</td>\n",
              "      <td>2018-12-18</td>\n",
              "      <td>1</td>\n",
              "    </tr>\n",
              "    <tr>\n",
              "      <th>698897</th>\n",
              "      <td>698897</td>\n",
              "      <td>user_25075</td>\n",
              "      <td>recipe_2669</td>\n",
              "      <td>2018-12-18</td>\n",
              "      <td>1</td>\n",
              "    </tr>\n",
              "    <tr>\n",
              "      <th>698898</th>\n",
              "      <td>698898</td>\n",
              "      <td>user_22591</td>\n",
              "      <td>recipe_49370</td>\n",
              "      <td>2018-12-18</td>\n",
              "      <td>1</td>\n",
              "    </tr>\n",
              "    <tr>\n",
              "      <th>698899</th>\n",
              "      <td>698899</td>\n",
              "      <td>user_10668</td>\n",
              "      <td>recipe_134757</td>\n",
              "      <td>2018-12-18</td>\n",
              "      <td>1</td>\n",
              "    </tr>\n",
              "    <tr>\n",
              "      <th>698900</th>\n",
              "      <td>698900</td>\n",
              "      <td>user_24656</td>\n",
              "      <td>recipe_114304</td>\n",
              "      <td>2018-12-19</td>\n",
              "      <td>1</td>\n",
              "    </tr>\n",
              "  </tbody>\n",
              "</table>\n",
              "<p>698901 rows × 5 columns</p>\n",
              "</div>"
            ],
            "text/plain": [
              "        Unnamed: 0      target         source        date  weight\n",
              "0                0      user_0       recipe_0  2000-02-25       1\n",
              "1                1      user_0       recipe_1  2000-02-25       1\n",
              "2                2      user_1       recipe_2  2000-03-13       1\n",
              "3                3      user_1       recipe_3  2000-03-13       1\n",
              "4                4      user_0       recipe_4  2000-04-07       1\n",
              "...            ...         ...            ...         ...     ...\n",
              "698896      698896  user_21665  recipe_142940  2018-12-18       1\n",
              "698897      698897  user_25075    recipe_2669  2018-12-18       1\n",
              "698898      698898  user_22591   recipe_49370  2018-12-18       1\n",
              "698899      698899  user_10668  recipe_134757  2018-12-18       1\n",
              "698900      698900  user_24656  recipe_114304  2018-12-19       1\n",
              "\n",
              "[698901 rows x 5 columns]"
            ]
          },
          "metadata": {
            "tags": []
          },
          "execution_count": 11
        }
      ]
    },
    {
      "cell_type": "markdown",
      "metadata": {
        "id": "CR8HBZ4At2yw"
      },
      "source": [
        "**Create the graph**"
      ]
    },
    {
      "cell_type": "markdown",
      "metadata": {
        "id": "iGx15rK6bhU9"
      },
      "source": [
        "The graph is created with two types of nodes (users and recipes) and edges - interaction between the nodes. The graph is bipartite."
      ]
    },
    {
      "cell_type": "code",
      "metadata": {
        "colab": {
          "base_uri": "https://localhost:8080/"
        },
        "id": "jsV6UUaZt_zW",
        "outputId": "0f673e13-298f-406a-f29d-534952b1ca11"
      },
      "source": [
        "from stellargraph import StellarGraph\n",
        "\n",
        "edges_graph = edges.drop(['date'], axis=1)\n",
        "graph = StellarGraph({\"users\":users, \"recipes\":recipes}, edges_graph)\n",
        "print(graph.info())"
      ],
      "execution_count": null,
      "outputs": [
        {
          "output_type": "stream",
          "text": [
            "StellarGraph: Undirected multigraph\n",
            " Nodes: 185977, Edges: 698901\n",
            "\n",
            " Node types:\n",
            "  recipes: [160901]\n",
            "    Features: float32 vector, length 1\n",
            "    Edge types: recipes-default->users\n",
            "  users: [25076]\n",
            "    Features: float32 vector, length 1\n",
            "    Edge types: users-default->recipes\n",
            "\n",
            " Edge types:\n",
            "    recipes-default->users: [698901]\n",
            "        Weights: all 1 (default)\n",
            "        Features: float32 vector, length 1\n"
          ],
          "name": "stdout"
        }
      ]
    },
    {
      "cell_type": "code",
      "metadata": {
        "id": "yyzZPBinuN4k"
      },
      "source": [
        "import json\n",
        "import pandas as pd\n",
        "import numpy as np\n",
        "from sklearn import preprocessing, feature_extraction, model_selection\n",
        "from sklearn.metrics import mean_absolute_error, mean_squared_error\n",
        "\n",
        "import stellargraph as sg\n",
        "from stellargraph.mapper import HinSAGELinkGenerator\n",
        "from stellargraph.layer import HinSAGE, link_classification, link_regression\n",
        "from tensorflow.keras import Model, optimizers, losses, metrics\n",
        "\n",
        "import multiprocessing\n",
        "from stellargraph import datasets\n",
        "from IPython.display import display, HTML\n",
        "import matplotlib.pyplot as plt\n",
        "%matplotlib inline"
      ],
      "execution_count": null,
      "outputs": []
    },
    {
      "cell_type": "code",
      "metadata": {
        "id": "SZdRCf9zuWnU"
      },
      "source": [
        "batch_size = 200\n",
        "epochs = 20"
      ],
      "execution_count": null,
      "outputs": []
    },
    {
      "cell_type": "code",
      "metadata": {
        "colab": {
          "base_uri": "https://localhost:8080/",
          "height": 500
        },
        "id": "v84eLu0nouzD",
        "outputId": "b6c69117-83a3-4072-a8ed-69505c77d9ca"
      },
      "source": [
        "#splitting all edges in 70:30\n",
        "#70% of all edges is 489 230, but if we take first 10 years we have 499057 edges\n",
        "edges_train = edges.loc[edges['date'] < '2010-01-01']\n",
        "edges_train.drop(['date'], inplace=True, axis=1)\n",
        "edges_train"
      ],
      "execution_count": null,
      "outputs": [
        {
          "output_type": "stream",
          "text": [
            "/usr/local/lib/python3.7/dist-packages/pandas/core/frame.py:4174: SettingWithCopyWarning: \n",
            "A value is trying to be set on a copy of a slice from a DataFrame\n",
            "\n",
            "See the caveats in the documentation: https://pandas.pydata.org/pandas-docs/stable/user_guide/indexing.html#returning-a-view-versus-a-copy\n",
            "  errors=errors,\n"
          ],
          "name": "stderr"
        },
        {
          "output_type": "execute_result",
          "data": {
            "text/html": [
              "<div>\n",
              "<style scoped>\n",
              "    .dataframe tbody tr th:only-of-type {\n",
              "        vertical-align: middle;\n",
              "    }\n",
              "\n",
              "    .dataframe tbody tr th {\n",
              "        vertical-align: top;\n",
              "    }\n",
              "\n",
              "    .dataframe thead th {\n",
              "        text-align: right;\n",
              "    }\n",
              "</style>\n",
              "<table border=\"1\" class=\"dataframe\">\n",
              "  <thead>\n",
              "    <tr style=\"text-align: right;\">\n",
              "      <th></th>\n",
              "      <th>Unnamed: 0</th>\n",
              "      <th>target</th>\n",
              "      <th>source</th>\n",
              "      <th>weight</th>\n",
              "    </tr>\n",
              "  </thead>\n",
              "  <tbody>\n",
              "    <tr>\n",
              "      <th>0</th>\n",
              "      <td>0</td>\n",
              "      <td>user_0</td>\n",
              "      <td>recipe_0</td>\n",
              "      <td>1</td>\n",
              "    </tr>\n",
              "    <tr>\n",
              "      <th>1</th>\n",
              "      <td>1</td>\n",
              "      <td>user_0</td>\n",
              "      <td>recipe_1</td>\n",
              "      <td>1</td>\n",
              "    </tr>\n",
              "    <tr>\n",
              "      <th>2</th>\n",
              "      <td>2</td>\n",
              "      <td>user_1</td>\n",
              "      <td>recipe_2</td>\n",
              "      <td>1</td>\n",
              "    </tr>\n",
              "    <tr>\n",
              "      <th>3</th>\n",
              "      <td>3</td>\n",
              "      <td>user_1</td>\n",
              "      <td>recipe_3</td>\n",
              "      <td>1</td>\n",
              "    </tr>\n",
              "    <tr>\n",
              "      <th>4</th>\n",
              "      <td>4</td>\n",
              "      <td>user_0</td>\n",
              "      <td>recipe_4</td>\n",
              "      <td>1</td>\n",
              "    </tr>\n",
              "    <tr>\n",
              "      <th>...</th>\n",
              "      <td>...</td>\n",
              "      <td>...</td>\n",
              "      <td>...</td>\n",
              "      <td>...</td>\n",
              "    </tr>\n",
              "    <tr>\n",
              "      <th>499052</th>\n",
              "      <td>499052</td>\n",
              "      <td>user_7046</td>\n",
              "      <td>recipe_123538</td>\n",
              "      <td>1</td>\n",
              "    </tr>\n",
              "    <tr>\n",
              "      <th>499053</th>\n",
              "      <td>499053</td>\n",
              "      <td>user_11070</td>\n",
              "      <td>recipe_111482</td>\n",
              "      <td>1</td>\n",
              "    </tr>\n",
              "    <tr>\n",
              "      <th>499054</th>\n",
              "      <td>499054</td>\n",
              "      <td>user_20032</td>\n",
              "      <td>recipe_46066</td>\n",
              "      <td>1</td>\n",
              "    </tr>\n",
              "    <tr>\n",
              "      <th>499055</th>\n",
              "      <td>499055</td>\n",
              "      <td>user_20946</td>\n",
              "      <td>recipe_4450</td>\n",
              "      <td>1</td>\n",
              "    </tr>\n",
              "    <tr>\n",
              "      <th>499056</th>\n",
              "      <td>499056</td>\n",
              "      <td>user_19364</td>\n",
              "      <td>recipe_24460</td>\n",
              "      <td>1</td>\n",
              "    </tr>\n",
              "  </tbody>\n",
              "</table>\n",
              "<p>499057 rows × 4 columns</p>\n",
              "</div>"
            ],
            "text/plain": [
              "        Unnamed: 0      target         source  weight\n",
              "0                0      user_0       recipe_0       1\n",
              "1                1      user_0       recipe_1       1\n",
              "2                2      user_1       recipe_2       1\n",
              "3                3      user_1       recipe_3       1\n",
              "4                4      user_0       recipe_4       1\n",
              "...            ...         ...            ...     ...\n",
              "499052      499052   user_7046  recipe_123538       1\n",
              "499053      499053  user_11070  recipe_111482       1\n",
              "499054      499054  user_20032   recipe_46066       1\n",
              "499055      499055  user_20946    recipe_4450       1\n",
              "499056      499056  user_19364   recipe_24460       1\n",
              "\n",
              "[499057 rows x 4 columns]"
            ]
          },
          "metadata": {
            "tags": []
          },
          "execution_count": 15
        }
      ]
    },
    {
      "cell_type": "code",
      "metadata": {
        "id": "LYCUdCmaOju_",
        "colab": {
          "base_uri": "https://localhost:8080/",
          "height": 500
        },
        "outputId": "fffdd935-a8e5-4fc1-9674-43fbb9a34212"
      },
      "source": [
        "#30% ~ 199844\n",
        "edges_test = edges.loc[edges['date'] >= '2010-01-01']\n",
        "edges_test.drop(['date'], inplace=True, axis=1)\n",
        "edges_test"
      ],
      "execution_count": null,
      "outputs": [
        {
          "output_type": "stream",
          "text": [
            "/usr/local/lib/python3.7/dist-packages/pandas/core/frame.py:4174: SettingWithCopyWarning: \n",
            "A value is trying to be set on a copy of a slice from a DataFrame\n",
            "\n",
            "See the caveats in the documentation: https://pandas.pydata.org/pandas-docs/stable/user_guide/indexing.html#returning-a-view-versus-a-copy\n",
            "  errors=errors,\n"
          ],
          "name": "stderr"
        },
        {
          "output_type": "execute_result",
          "data": {
            "text/html": [
              "<div>\n",
              "<style scoped>\n",
              "    .dataframe tbody tr th:only-of-type {\n",
              "        vertical-align: middle;\n",
              "    }\n",
              "\n",
              "    .dataframe tbody tr th {\n",
              "        vertical-align: top;\n",
              "    }\n",
              "\n",
              "    .dataframe thead th {\n",
              "        text-align: right;\n",
              "    }\n",
              "</style>\n",
              "<table border=\"1\" class=\"dataframe\">\n",
              "  <thead>\n",
              "    <tr style=\"text-align: right;\">\n",
              "      <th></th>\n",
              "      <th>Unnamed: 0</th>\n",
              "      <th>target</th>\n",
              "      <th>source</th>\n",
              "      <th>weight</th>\n",
              "    </tr>\n",
              "  </thead>\n",
              "  <tbody>\n",
              "    <tr>\n",
              "      <th>499057</th>\n",
              "      <td>499057</td>\n",
              "      <td>user_20652</td>\n",
              "      <td>recipe_1002</td>\n",
              "      <td>1</td>\n",
              "    </tr>\n",
              "    <tr>\n",
              "      <th>499058</th>\n",
              "      <td>499058</td>\n",
              "      <td>user_13889</td>\n",
              "      <td>recipe_68675</td>\n",
              "      <td>1</td>\n",
              "    </tr>\n",
              "    <tr>\n",
              "      <th>499059</th>\n",
              "      <td>499059</td>\n",
              "      <td>user_20117</td>\n",
              "      <td>recipe_38343</td>\n",
              "      <td>1</td>\n",
              "    </tr>\n",
              "    <tr>\n",
              "      <th>499060</th>\n",
              "      <td>499060</td>\n",
              "      <td>user_9338</td>\n",
              "      <td>recipe_123765</td>\n",
              "      <td>1</td>\n",
              "    </tr>\n",
              "    <tr>\n",
              "      <th>499061</th>\n",
              "      <td>499061</td>\n",
              "      <td>user_14312</td>\n",
              "      <td>recipe_125805</td>\n",
              "      <td>1</td>\n",
              "    </tr>\n",
              "    <tr>\n",
              "      <th>...</th>\n",
              "      <td>...</td>\n",
              "      <td>...</td>\n",
              "      <td>...</td>\n",
              "      <td>...</td>\n",
              "    </tr>\n",
              "    <tr>\n",
              "      <th>698896</th>\n",
              "      <td>698896</td>\n",
              "      <td>user_21665</td>\n",
              "      <td>recipe_142940</td>\n",
              "      <td>1</td>\n",
              "    </tr>\n",
              "    <tr>\n",
              "      <th>698897</th>\n",
              "      <td>698897</td>\n",
              "      <td>user_25075</td>\n",
              "      <td>recipe_2669</td>\n",
              "      <td>1</td>\n",
              "    </tr>\n",
              "    <tr>\n",
              "      <th>698898</th>\n",
              "      <td>698898</td>\n",
              "      <td>user_22591</td>\n",
              "      <td>recipe_49370</td>\n",
              "      <td>1</td>\n",
              "    </tr>\n",
              "    <tr>\n",
              "      <th>698899</th>\n",
              "      <td>698899</td>\n",
              "      <td>user_10668</td>\n",
              "      <td>recipe_134757</td>\n",
              "      <td>1</td>\n",
              "    </tr>\n",
              "    <tr>\n",
              "      <th>698900</th>\n",
              "      <td>698900</td>\n",
              "      <td>user_24656</td>\n",
              "      <td>recipe_114304</td>\n",
              "      <td>1</td>\n",
              "    </tr>\n",
              "  </tbody>\n",
              "</table>\n",
              "<p>199844 rows × 4 columns</p>\n",
              "</div>"
            ],
            "text/plain": [
              "        Unnamed: 0      target         source  weight\n",
              "499057      499057  user_20652    recipe_1002       1\n",
              "499058      499058  user_13889   recipe_68675       1\n",
              "499059      499059  user_20117   recipe_38343       1\n",
              "499060      499060   user_9338  recipe_123765       1\n",
              "499061      499061  user_14312  recipe_125805       1\n",
              "...            ...         ...            ...     ...\n",
              "698896      698896  user_21665  recipe_142940       1\n",
              "698897      698897  user_25075    recipe_2669       1\n",
              "698898      698898  user_22591   recipe_49370       1\n",
              "698899      698899  user_10668  recipe_134757       1\n",
              "698900      698900  user_24656  recipe_114304       1\n",
              "\n",
              "[199844 rows x 4 columns]"
            ]
          },
          "metadata": {
            "tags": []
          },
          "execution_count": 16
        }
      ]
    },
    {
      "cell_type": "markdown",
      "metadata": {
        "id": "lmPZALwpO3x2"
      },
      "source": [
        "**Generate random fake edges**"
      ]
    },
    {
      "cell_type": "markdown",
      "metadata": {
        "id": "u3Y_pVV2bxZz"
      },
      "source": [
        "In order to balance the later model, we need to generate random fake edges which will have a weight of 0. These edges do not exist in the graph.\n",
        "There are 400000 train false edges (499057 positive train edges) and 150000 test false edges (199844 positive test edges)\n",
        "\n"
      ]
    },
    {
      "cell_type": "code",
      "metadata": {
        "id": "qnDV9f8NO82N"
      },
      "source": [
        "import random\n",
        "\n",
        "users_list = users.index.values.tolist()\n",
        "recipes_list = recipes.index.values.tolist()"
      ],
      "execution_count": null,
      "outputs": []
    },
    {
      "cell_type": "code",
      "metadata": {
        "id": "CbH4FPwjPAZG"
      },
      "source": [
        "edges_copy = edges[['target', 'source']]\n",
        "edges_list = edges_copy.values.tolist()\n",
        "edges_list\n",
        "\n",
        "false_train = []\n",
        "\n",
        "while(len(false_train) < 400000):\n",
        "  user = random.choice(users_list)\n",
        "  recipe = random.choice(recipes_list)\n",
        "  if [user, recipe] not in edges_list:\n",
        "      false_train.append([user,recipe])\n",
        "    \n",
        "false_train"
      ],
      "execution_count": null,
      "outputs": []
    },
    {
      "cell_type": "code",
      "metadata": {
        "id": "QCOk6RuhCCH2"
      },
      "source": [
        "len(false_train)"
      ],
      "execution_count": null,
      "outputs": []
    },
    {
      "cell_type": "code",
      "metadata": {
        "id": "dnAnwAwmCKi2"
      },
      "source": [
        "false_edges_train = pd.DataFrame(false_train, columns=['target', 'source'])\n",
        "false_edges_train['weight'] = 0\n",
        "false_edges_train"
      ],
      "execution_count": null,
      "outputs": []
    },
    {
      "cell_type": "code",
      "metadata": {
        "id": "Ot8sBjbtCQ-I"
      },
      "source": [
        "false_test = []\n",
        "\n",
        "while(len(false_test) < 150000):\n",
        "  user = random.choice(users_list)\n",
        "  recipe = random.choice(recipes_list)\n",
        "  if [user, recipe] not in edges_list and [user,recipe] not in false_train:\n",
        "      false_test.append([user,recipe])\n",
        "\n",
        "false_test"
      ],
      "execution_count": null,
      "outputs": []
    },
    {
      "cell_type": "code",
      "metadata": {
        "id": "dOA6mNllUsn2"
      },
      "source": [
        "false_edges_test = pd.DataFrame(false_test, columns=['target', 'source'])\n",
        "#these edges are false so we give them a weight of 0 since they don't really exist in the graph\n",
        "false_edges_test['weight'] = 0\n",
        "false_edges_test"
      ],
      "execution_count": null,
      "outputs": []
    },
    {
      "cell_type": "markdown",
      "metadata": {
        "id": "Ge6rB6W7UzNX"
      },
      "source": [
        "**Concat the false edges with existent edges**"
      ]
    },
    {
      "cell_type": "markdown",
      "metadata": {
        "id": "aObkfbxhcYkw"
      },
      "source": [
        "The model will take the edges as input, so we concatanate the false and positive edges."
      ]
    },
    {
      "cell_type": "code",
      "metadata": {
        "id": "PVWQIj1zUzz4"
      },
      "source": [
        "edges_final_train = edges_train.append(false_edges_train, ignore_index=True)\n",
        "edges_final_train = edges_final_train.sample(frac=1) #include some shuffling\n",
        "edges_final_train"
      ],
      "execution_count": null,
      "outputs": []
    },
    {
      "cell_type": "code",
      "metadata": {
        "id": "FTtc9jCuVR1a"
      },
      "source": [
        "edges_final_test = edges_test.append(false_edges_test, ignore_index=True)\n",
        "edges_final_test = edges_final_test.sample(frac=1) #include some shuffling\n",
        "edges_final_test"
      ],
      "execution_count": null,
      "outputs": []
    },
    {
      "cell_type": "code",
      "metadata": {
        "id": "e3dFx7aVZZIw"
      },
      "source": [
        "edges_final_train.to_csv(\"/content/drive/MyDrive/food recipes/edges_final_train.csv\")\n",
        "edges_final_test.to_csv(\"/content/drive/MyDrive/food recipes/edges_final_test.csv\")"
      ],
      "execution_count": null,
      "outputs": []
    },
    {
      "cell_type": "code",
      "metadata": {
        "colab": {
          "base_uri": "https://localhost:8080/",
          "height": 416
        },
        "id": "fZghWtZXRhWj",
        "outputId": "b7d7279e-840e-4471-c4c2-29cb104ea71d"
      },
      "source": [
        "edges_final_train = pd.read_csv(\"/content/drive/MyDrive/Food.com Recipes and Interactions/edges_final_train.csv\")\n",
        "edges_final_train.drop(['Unnamed: 0'], axis=1, inplace=True)\n",
        "edges_final_train"
      ],
      "execution_count": null,
      "outputs": [
        {
          "output_type": "execute_result",
          "data": {
            "text/html": [
              "<div>\n",
              "<style scoped>\n",
              "    .dataframe tbody tr th:only-of-type {\n",
              "        vertical-align: middle;\n",
              "    }\n",
              "\n",
              "    .dataframe tbody tr th {\n",
              "        vertical-align: top;\n",
              "    }\n",
              "\n",
              "    .dataframe thead th {\n",
              "        text-align: right;\n",
              "    }\n",
              "</style>\n",
              "<table border=\"1\" class=\"dataframe\">\n",
              "  <thead>\n",
              "    <tr style=\"text-align: right;\">\n",
              "      <th></th>\n",
              "      <th>target</th>\n",
              "      <th>source</th>\n",
              "      <th>weight</th>\n",
              "    </tr>\n",
              "  </thead>\n",
              "  <tbody>\n",
              "    <tr>\n",
              "      <th>0</th>\n",
              "      <td>user_8672</td>\n",
              "      <td>recipe_74566</td>\n",
              "      <td>1</td>\n",
              "    </tr>\n",
              "    <tr>\n",
              "      <th>1</th>\n",
              "      <td>user_5761</td>\n",
              "      <td>recipe_13475</td>\n",
              "      <td>0</td>\n",
              "    </tr>\n",
              "    <tr>\n",
              "      <th>2</th>\n",
              "      <td>user_23197</td>\n",
              "      <td>recipe_2198</td>\n",
              "      <td>0</td>\n",
              "    </tr>\n",
              "    <tr>\n",
              "      <th>3</th>\n",
              "      <td>user_12672</td>\n",
              "      <td>recipe_15521</td>\n",
              "      <td>1</td>\n",
              "    </tr>\n",
              "    <tr>\n",
              "      <th>4</th>\n",
              "      <td>user_1538</td>\n",
              "      <td>recipe_26611</td>\n",
              "      <td>1</td>\n",
              "    </tr>\n",
              "    <tr>\n",
              "      <th>...</th>\n",
              "      <td>...</td>\n",
              "      <td>...</td>\n",
              "      <td>...</td>\n",
              "    </tr>\n",
              "    <tr>\n",
              "      <th>699052</th>\n",
              "      <td>user_7822</td>\n",
              "      <td>recipe_151180</td>\n",
              "      <td>0</td>\n",
              "    </tr>\n",
              "    <tr>\n",
              "      <th>699053</th>\n",
              "      <td>user_14389</td>\n",
              "      <td>recipe_68639</td>\n",
              "      <td>0</td>\n",
              "    </tr>\n",
              "    <tr>\n",
              "      <th>699054</th>\n",
              "      <td>user_3636</td>\n",
              "      <td>recipe_48154</td>\n",
              "      <td>1</td>\n",
              "    </tr>\n",
              "    <tr>\n",
              "      <th>699055</th>\n",
              "      <td>user_13280</td>\n",
              "      <td>recipe_18810</td>\n",
              "      <td>1</td>\n",
              "    </tr>\n",
              "    <tr>\n",
              "      <th>699056</th>\n",
              "      <td>user_11696</td>\n",
              "      <td>recipe_94254</td>\n",
              "      <td>0</td>\n",
              "    </tr>\n",
              "  </tbody>\n",
              "</table>\n",
              "<p>699057 rows × 3 columns</p>\n",
              "</div>"
            ],
            "text/plain": [
              "            target         source  weight\n",
              "0        user_8672   recipe_74566       1\n",
              "1        user_5761   recipe_13475       0\n",
              "2       user_23197    recipe_2198       0\n",
              "3       user_12672   recipe_15521       1\n",
              "4        user_1538   recipe_26611       1\n",
              "...            ...            ...     ...\n",
              "699052   user_7822  recipe_151180       0\n",
              "699053  user_14389   recipe_68639       0\n",
              "699054   user_3636   recipe_48154       1\n",
              "699055  user_13280   recipe_18810       1\n",
              "699056  user_11696   recipe_94254       0\n",
              "\n",
              "[699057 rows x 3 columns]"
            ]
          },
          "metadata": {
            "tags": []
          },
          "execution_count": 25
        }
      ]
    },
    {
      "cell_type": "code",
      "metadata": {
        "colab": {
          "base_uri": "https://localhost:8080/",
          "height": 416
        },
        "id": "i7YZ9LYdRxQY",
        "outputId": "c5130494-f5d3-4af8-f9e0-d021aac0a983"
      },
      "source": [
        "edges_final_test = pd.read_csv(\"/content/drive/MyDrive/Food.com Recipes and Interactions/edges_final_test.csv\")\n",
        "edges_final_test.drop(['Unnamed: 0'], axis=1, inplace=True)\n",
        "edges_final_test"
      ],
      "execution_count": null,
      "outputs": [
        {
          "output_type": "execute_result",
          "data": {
            "text/html": [
              "<div>\n",
              "<style scoped>\n",
              "    .dataframe tbody tr th:only-of-type {\n",
              "        vertical-align: middle;\n",
              "    }\n",
              "\n",
              "    .dataframe tbody tr th {\n",
              "        vertical-align: top;\n",
              "    }\n",
              "\n",
              "    .dataframe thead th {\n",
              "        text-align: right;\n",
              "    }\n",
              "</style>\n",
              "<table border=\"1\" class=\"dataframe\">\n",
              "  <thead>\n",
              "    <tr style=\"text-align: right;\">\n",
              "      <th></th>\n",
              "      <th>target</th>\n",
              "      <th>source</th>\n",
              "      <th>weight</th>\n",
              "    </tr>\n",
              "  </thead>\n",
              "  <tbody>\n",
              "    <tr>\n",
              "      <th>0</th>\n",
              "      <td>user_5673</td>\n",
              "      <td>recipe_37289</td>\n",
              "      <td>1</td>\n",
              "    </tr>\n",
              "    <tr>\n",
              "      <th>1</th>\n",
              "      <td>user_19768</td>\n",
              "      <td>recipe_83261</td>\n",
              "      <td>0</td>\n",
              "    </tr>\n",
              "    <tr>\n",
              "      <th>2</th>\n",
              "      <td>user_3286</td>\n",
              "      <td>recipe_92955</td>\n",
              "      <td>1</td>\n",
              "    </tr>\n",
              "    <tr>\n",
              "      <th>3</th>\n",
              "      <td>user_20915</td>\n",
              "      <td>recipe_158518</td>\n",
              "      <td>1</td>\n",
              "    </tr>\n",
              "    <tr>\n",
              "      <th>4</th>\n",
              "      <td>user_16054</td>\n",
              "      <td>recipe_121667</td>\n",
              "      <td>0</td>\n",
              "    </tr>\n",
              "    <tr>\n",
              "      <th>...</th>\n",
              "      <td>...</td>\n",
              "      <td>...</td>\n",
              "      <td>...</td>\n",
              "    </tr>\n",
              "    <tr>\n",
              "      <th>299839</th>\n",
              "      <td>user_16938</td>\n",
              "      <td>recipe_119447</td>\n",
              "      <td>1</td>\n",
              "    </tr>\n",
              "    <tr>\n",
              "      <th>299840</th>\n",
              "      <td>user_3919</td>\n",
              "      <td>recipe_34388</td>\n",
              "      <td>1</td>\n",
              "    </tr>\n",
              "    <tr>\n",
              "      <th>299841</th>\n",
              "      <td>user_8831</td>\n",
              "      <td>recipe_98283</td>\n",
              "      <td>0</td>\n",
              "    </tr>\n",
              "    <tr>\n",
              "      <th>299842</th>\n",
              "      <td>user_9338</td>\n",
              "      <td>recipe_35238</td>\n",
              "      <td>1</td>\n",
              "    </tr>\n",
              "    <tr>\n",
              "      <th>299843</th>\n",
              "      <td>user_7742</td>\n",
              "      <td>recipe_146628</td>\n",
              "      <td>1</td>\n",
              "    </tr>\n",
              "  </tbody>\n",
              "</table>\n",
              "<p>299844 rows × 3 columns</p>\n",
              "</div>"
            ],
            "text/plain": [
              "            target         source  weight\n",
              "0        user_5673   recipe_37289       1\n",
              "1       user_19768   recipe_83261       0\n",
              "2        user_3286   recipe_92955       1\n",
              "3       user_20915  recipe_158518       1\n",
              "4       user_16054  recipe_121667       0\n",
              "...            ...            ...     ...\n",
              "299839  user_16938  recipe_119447       1\n",
              "299840   user_3919   recipe_34388       1\n",
              "299841   user_8831   recipe_98283       0\n",
              "299842   user_9338   recipe_35238       1\n",
              "299843   user_7742  recipe_146628       1\n",
              "\n",
              "[299844 rows x 3 columns]"
            ]
          },
          "metadata": {
            "tags": []
          },
          "execution_count": 26
        }
      ]
    },
    {
      "cell_type": "markdown",
      "metadata": {
        "id": "4To3Z4vMVk23"
      },
      "source": [
        "# **HINSAGE**"
      ]
    },
    {
      "cell_type": "code",
      "metadata": {
        "id": "xTGxjErnVkbk"
      },
      "source": [
        "labels_train = edges_final_train[\"weight\"] #all 0 & 1\n",
        "labels_test = edges_final_test[\"weight\"]"
      ],
      "execution_count": null,
      "outputs": []
    },
    {
      "cell_type": "code",
      "metadata": {
        "colab": {
          "base_uri": "https://localhost:8080/",
          "height": 416
        },
        "id": "ItwMt_elq3er",
        "outputId": "733f8c32-f36f-45a6-e55e-d6c304fdaed9"
      },
      "source": [
        "edges"
      ],
      "execution_count": null,
      "outputs": [
        {
          "output_type": "execute_result",
          "data": {
            "text/html": [
              "<div>\n",
              "<style scoped>\n",
              "    .dataframe tbody tr th:only-of-type {\n",
              "        vertical-align: middle;\n",
              "    }\n",
              "\n",
              "    .dataframe tbody tr th {\n",
              "        vertical-align: top;\n",
              "    }\n",
              "\n",
              "    .dataframe thead th {\n",
              "        text-align: right;\n",
              "    }\n",
              "</style>\n",
              "<table border=\"1\" class=\"dataframe\">\n",
              "  <thead>\n",
              "    <tr style=\"text-align: right;\">\n",
              "      <th></th>\n",
              "      <th>Unnamed: 0</th>\n",
              "      <th>target</th>\n",
              "      <th>source</th>\n",
              "      <th>date</th>\n",
              "      <th>weight</th>\n",
              "    </tr>\n",
              "  </thead>\n",
              "  <tbody>\n",
              "    <tr>\n",
              "      <th>0</th>\n",
              "      <td>0</td>\n",
              "      <td>user_0</td>\n",
              "      <td>recipe_0</td>\n",
              "      <td>2000-02-25</td>\n",
              "      <td>1</td>\n",
              "    </tr>\n",
              "    <tr>\n",
              "      <th>1</th>\n",
              "      <td>1</td>\n",
              "      <td>user_0</td>\n",
              "      <td>recipe_1</td>\n",
              "      <td>2000-02-25</td>\n",
              "      <td>1</td>\n",
              "    </tr>\n",
              "    <tr>\n",
              "      <th>2</th>\n",
              "      <td>2</td>\n",
              "      <td>user_1</td>\n",
              "      <td>recipe_2</td>\n",
              "      <td>2000-03-13</td>\n",
              "      <td>1</td>\n",
              "    </tr>\n",
              "    <tr>\n",
              "      <th>3</th>\n",
              "      <td>3</td>\n",
              "      <td>user_1</td>\n",
              "      <td>recipe_3</td>\n",
              "      <td>2000-03-13</td>\n",
              "      <td>1</td>\n",
              "    </tr>\n",
              "    <tr>\n",
              "      <th>4</th>\n",
              "      <td>4</td>\n",
              "      <td>user_0</td>\n",
              "      <td>recipe_4</td>\n",
              "      <td>2000-04-07</td>\n",
              "      <td>1</td>\n",
              "    </tr>\n",
              "    <tr>\n",
              "      <th>...</th>\n",
              "      <td>...</td>\n",
              "      <td>...</td>\n",
              "      <td>...</td>\n",
              "      <td>...</td>\n",
              "      <td>...</td>\n",
              "    </tr>\n",
              "    <tr>\n",
              "      <th>698896</th>\n",
              "      <td>698896</td>\n",
              "      <td>user_21665</td>\n",
              "      <td>recipe_142940</td>\n",
              "      <td>2018-12-18</td>\n",
              "      <td>1</td>\n",
              "    </tr>\n",
              "    <tr>\n",
              "      <th>698897</th>\n",
              "      <td>698897</td>\n",
              "      <td>user_25075</td>\n",
              "      <td>recipe_2669</td>\n",
              "      <td>2018-12-18</td>\n",
              "      <td>1</td>\n",
              "    </tr>\n",
              "    <tr>\n",
              "      <th>698898</th>\n",
              "      <td>698898</td>\n",
              "      <td>user_22591</td>\n",
              "      <td>recipe_49370</td>\n",
              "      <td>2018-12-18</td>\n",
              "      <td>1</td>\n",
              "    </tr>\n",
              "    <tr>\n",
              "      <th>698899</th>\n",
              "      <td>698899</td>\n",
              "      <td>user_10668</td>\n",
              "      <td>recipe_134757</td>\n",
              "      <td>2018-12-18</td>\n",
              "      <td>1</td>\n",
              "    </tr>\n",
              "    <tr>\n",
              "      <th>698900</th>\n",
              "      <td>698900</td>\n",
              "      <td>user_24656</td>\n",
              "      <td>recipe_114304</td>\n",
              "      <td>2018-12-19</td>\n",
              "      <td>1</td>\n",
              "    </tr>\n",
              "  </tbody>\n",
              "</table>\n",
              "<p>698901 rows × 5 columns</p>\n",
              "</div>"
            ],
            "text/plain": [
              "        Unnamed: 0      target         source        date  weight\n",
              "0                0      user_0       recipe_0  2000-02-25       1\n",
              "1                1      user_0       recipe_1  2000-02-25       1\n",
              "2                2      user_1       recipe_2  2000-03-13       1\n",
              "3                3      user_1       recipe_3  2000-03-13       1\n",
              "4                4      user_0       recipe_4  2000-04-07       1\n",
              "...            ...         ...            ...         ...     ...\n",
              "698896      698896  user_21665  recipe_142940  2018-12-18       1\n",
              "698897      698897  user_25075    recipe_2669  2018-12-18       1\n",
              "698898      698898  user_22591   recipe_49370  2018-12-18       1\n",
              "698899      698899  user_10668  recipe_134757  2018-12-18       1\n",
              "698900      698900  user_24656  recipe_114304  2018-12-19       1\n",
              "\n",
              "[698901 rows x 5 columns]"
            ]
          },
          "metadata": {
            "tags": []
          },
          "execution_count": 22
        }
      ]
    },
    {
      "cell_type": "code",
      "metadata": {
        "id": "3PirZhYGVjLN"
      },
      "source": [
        "edgelist_train = list(edges_final_train[['target','source']].itertuples(index=False))\n",
        "edgelist_test = list(edges_final_test[['target','source']].itertuples(index=False))"
      ],
      "execution_count": null,
      "outputs": []
    },
    {
      "cell_type": "code",
      "metadata": {
        "id": "IK74u8AFVtpU"
      },
      "source": [
        "num_samples = [8, 4]"
      ],
      "execution_count": null,
      "outputs": []
    },
    {
      "cell_type": "code",
      "metadata": {
        "id": "MfZqNw2zVvRp"
      },
      "source": [
        "generator = HinSAGELinkGenerator(\n",
        "    graph, batch_size, num_samples, head_node_types=[\"users\", \"recipes\"]\n",
        ")\n",
        "train_gen = generator.flow(edgelist_train, labels_train, shuffle=True)\n",
        "test_gen = generator.flow(edgelist_test, labels_test)"
      ],
      "execution_count": null,
      "outputs": []
    },
    {
      "cell_type": "code",
      "metadata": {
        "colab": {
          "base_uri": "https://localhost:8080/"
        },
        "id": "NNZyBmVgVxyg",
        "outputId": "93677625-d4a0-465e-aa62-2713827b93e9"
      },
      "source": [
        "generator.schema.schema"
      ],
      "execution_count": null,
      "outputs": [
        {
          "output_type": "execute_result",
          "data": {
            "text/plain": [
              "{'recipes': [EdgeType(n1='recipes', rel='default', n2='users')],\n",
              " 'users': [EdgeType(n1='users', rel='default', n2='recipes')]}"
            ]
          },
          "metadata": {
            "tags": []
          },
          "execution_count": 45
        }
      ]
    },
    {
      "cell_type": "code",
      "metadata": {
        "colab": {
          "base_uri": "https://localhost:8080/"
        },
        "id": "9452WkeUXqfI",
        "outputId": "2158dda2-662d-465a-d1d6-31df244bfbe4"
      },
      "source": [
        "generator.schema.type_adjacency_list(generator.head_node_types, len(num_samples))"
      ],
      "execution_count": null,
      "outputs": [
        {
          "output_type": "execute_result",
          "data": {
            "text/plain": [
              "[('users', [2]),\n",
              " ('recipes', [3]),\n",
              " ('recipes', [4]),\n",
              " ('users', [5]),\n",
              " ('users', []),\n",
              " ('recipes', [])]"
            ]
          },
          "metadata": {
            "tags": []
          },
          "execution_count": 46
        }
      ]
    },
    {
      "cell_type": "code",
      "metadata": {
        "id": "Yvw-1ZcbXs3f"
      },
      "source": [
        "hinsage_layer_sizes = [32, 32]\n",
        "assert len(hinsage_layer_sizes) == len(num_samples)\n",
        "\n",
        "hinsage = HinSAGE(\n",
        "    layer_sizes=hinsage_layer_sizes, generator=generator, bias=True, dropout=0.0\n",
        ")"
      ],
      "execution_count": null,
      "outputs": []
    },
    {
      "cell_type": "code",
      "metadata": {
        "id": "dT_UoCC-Xu9s"
      },
      "source": [
        "x_inp, x_out = hinsage.in_out_tensors()"
      ],
      "execution_count": null,
      "outputs": []
    },
    {
      "cell_type": "code",
      "metadata": {
        "colab": {
          "base_uri": "https://localhost:8080/"
        },
        "id": "uGSIR8xzXv8Z",
        "outputId": "d1c3956f-122a-473f-e585-15c841f90a81"
      },
      "source": [
        "score_prediction = link_regression(edge_embedding_method=\"concat\")(x_out)"
      ],
      "execution_count": null,
      "outputs": [
        {
          "output_type": "stream",
          "text": [
            "link_regression: using 'concat' method to combine node embeddings into edge embeddings\n"
          ],
          "name": "stdout"
        }
      ]
    },
    {
      "cell_type": "code",
      "metadata": {
        "id": "XV47VlP7Xz0j",
        "colab": {
          "base_uri": "https://localhost:8080/"
        },
        "outputId": "6e7184b4-498b-45f1-d273-f66de7b3096f"
      },
      "source": [
        "import tensorflow.keras.backend as K\n",
        "\n",
        "\n",
        "def root_mean_square_error(s_true, s_pred):\n",
        "    return K.sqrt(K.mean(K.pow(s_true - s_pred, 2)))\n",
        "\n",
        "\n",
        "model = Model(inputs=x_inp, outputs=score_prediction)\n",
        "model.compile(\n",
        "    optimizer=optimizers.Adam(lr=1e-2),\n",
        "    loss=losses.mean_squared_error,\n",
        "    metrics=[root_mean_square_error, metrics.mae],\n",
        ")"
      ],
      "execution_count": null,
      "outputs": [
        {
          "output_type": "stream",
          "text": [
            "/usr/local/lib/python3.7/dist-packages/tensorflow/python/keras/optimizer_v2/optimizer_v2.py:375: UserWarning: The `lr` argument is deprecated, use `learning_rate` instead.\n",
            "  \"The `lr` argument is deprecated, use `learning_rate` instead.\")\n"
          ],
          "name": "stderr"
        }
      ]
    },
    {
      "cell_type": "code",
      "metadata": {
        "id": "b8GT3lWpX2eR"
      },
      "source": [
        "num_workers = 4"
      ],
      "execution_count": null,
      "outputs": []
    },
    {
      "cell_type": "code",
      "metadata": {
        "colab": {
          "base_uri": "https://localhost:8080/"
        },
        "id": "SW7oL2LPX4Pj",
        "outputId": "50c8075f-a014-495c-bc53-93ae45cd199f"
      },
      "source": [
        "test_metrics = model.evaluate(\n",
        "    test_gen, verbose=1, use_multiprocessing=False, workers=num_workers\n",
        ")\n",
        "\n",
        "print(\"Untrained model's Test Evaluation:\")\n",
        "for name, val in zip(model.metrics_names, test_metrics):\n",
        "    print(\"\\t{}: {:0.4f}\".format(name, val))"
      ],
      "execution_count": null,
      "outputs": [
        {
          "output_type": "stream",
          "text": [
            "300/300 [==============================] - 53s 172ms/step - loss: 0.5909 - root_mean_square_error: 0.7683 - mean_absolute_error: 0.5817\n",
            "Untrained model's Test Evaluation:\n",
            "\tloss: 0.5909\n",
            "\troot_mean_square_error: 0.7683\n",
            "\tmean_absolute_error: 0.5817\n"
          ],
          "name": "stdout"
        }
      ]
    },
    {
      "cell_type": "code",
      "metadata": {
        "colab": {
          "base_uri": "https://localhost:8080/"
        },
        "id": "nwFSehOMZV5O",
        "outputId": "7eed9d71-4b81-4921-8aef-f51604b71e8c"
      },
      "source": [
        "history = model.fit(\n",
        "    train_gen,\n",
        "    validation_data=test_gen,\n",
        "    epochs=epochs,\n",
        "    verbose=1,\n",
        "    shuffle=False,\n",
        "    use_multiprocessing=False,\n",
        "    workers=num_workers,\n",
        ")"
      ],
      "execution_count": null,
      "outputs": [
        {
          "output_type": "stream",
          "text": [
            "Epoch 1/20\n",
            "3496/3496 [==============================] - 1139s 325ms/step - loss: 0.1245 - root_mean_square_error: 0.3519 - mean_absolute_error: 0.2789 - val_loss: 0.1337 - val_root_mean_square_error: 0.3651 - val_mean_absolute_error: 0.2851\n",
            "Epoch 2/20\n",
            "3496/3496 [==============================] - 1143s 327ms/step - loss: 0.1224 - root_mean_square_error: 0.3494 - mean_absolute_error: 0.2765 - val_loss: 0.1335 - val_root_mean_square_error: 0.3649 - val_mean_absolute_error: 0.2947\n",
            "Epoch 3/20\n",
            "3496/3496 [==============================] - 1193s 341ms/step - loss: 0.1224 - root_mean_square_error: 0.3494 - mean_absolute_error: 0.2770 - val_loss: 0.1325 - val_root_mean_square_error: 0.3637 - val_mean_absolute_error: 0.2992\n",
            "Epoch 4/20\n",
            "3496/3496 [==============================] - 1193s 341ms/step - loss: 0.1224 - root_mean_square_error: 0.3493 - mean_absolute_error: 0.2772 - val_loss: 0.1346 - val_root_mean_square_error: 0.3663 - val_mean_absolute_error: 0.2883\n",
            "Epoch 5/20\n",
            "3496/3496 [==============================] - 1187s 339ms/step - loss: 0.1222 - root_mean_square_error: 0.3491 - mean_absolute_error: 0.2772 - val_loss: 0.1343 - val_root_mean_square_error: 0.3659 - val_mean_absolute_error: 0.2899\n",
            "Epoch 6/20\n",
            "3496/3496 [==============================] - 1144s 327ms/step - loss: 0.1222 - root_mean_square_error: 0.3490 - mean_absolute_error: 0.2770 - val_loss: 0.1320 - val_root_mean_square_error: 0.3628 - val_mean_absolute_error: 0.2940\n",
            "Epoch 7/20\n",
            "3496/3496 [==============================] - 1233s 352ms/step - loss: 0.1220 - root_mean_square_error: 0.3489 - mean_absolute_error: 0.2770 - val_loss: 0.1330 - val_root_mean_square_error: 0.3642 - val_mean_absolute_error: 0.2945\n",
            "Epoch 8/20\n",
            "3496/3496 [==============================] - 1215s 347ms/step - loss: 0.1220 - root_mean_square_error: 0.3488 - mean_absolute_error: 0.2770 - val_loss: 0.1326 - val_root_mean_square_error: 0.3636 - val_mean_absolute_error: 0.2938\n",
            "Epoch 9/20\n",
            "3496/3496 [==============================] - 1190s 340ms/step - loss: 0.1220 - root_mean_square_error: 0.3489 - mean_absolute_error: 0.2770 - val_loss: 0.1316 - val_root_mean_square_error: 0.3623 - val_mean_absolute_error: 0.2942\n",
            "Epoch 10/20\n",
            "3496/3496 [==============================] - 1221s 349ms/step - loss: 0.1220 - root_mean_square_error: 0.3488 - mean_absolute_error: 0.2771 - val_loss: 0.1329 - val_root_mean_square_error: 0.3641 - val_mean_absolute_error: 0.2888\n",
            "Epoch 11/20\n",
            "3496/3496 [==============================] - 1133s 324ms/step - loss: 0.1219 - root_mean_square_error: 0.3487 - mean_absolute_error: 0.2769 - val_loss: 0.1325 - val_root_mean_square_error: 0.3636 - val_mean_absolute_error: 0.2964\n",
            "Epoch 12/20\n",
            "3496/3496 [==============================] - 1131s 323ms/step - loss: 0.1220 - root_mean_square_error: 0.3488 - mean_absolute_error: 0.2772 - val_loss: 0.1321 - val_root_mean_square_error: 0.3630 - val_mean_absolute_error: 0.2967\n",
            "Epoch 13/20\n",
            "3496/3496 [==============================] - 1190s 340ms/step - loss: 0.1220 - root_mean_square_error: 0.3487 - mean_absolute_error: 0.2772 - val_loss: 0.1331 - val_root_mean_square_error: 0.3643 - val_mean_absolute_error: 0.2922\n",
            "Epoch 14/20\n",
            "3496/3496 [==============================] - 1196s 342ms/step - loss: 0.1220 - root_mean_square_error: 0.3488 - mean_absolute_error: 0.2772 - val_loss: 0.1327 - val_root_mean_square_error: 0.3637 - val_mean_absolute_error: 0.2889\n",
            "Epoch 15/20\n",
            "3496/3496 [==============================] - 1197s 342ms/step - loss: 0.1220 - root_mean_square_error: 0.3488 - mean_absolute_error: 0.2771 - val_loss: 0.1329 - val_root_mean_square_error: 0.3641 - val_mean_absolute_error: 0.2929\n",
            "Epoch 16/20\n",
            "3496/3496 [==============================] - 1199s 343ms/step - loss: 0.1219 - root_mean_square_error: 0.3486 - mean_absolute_error: 0.2770 - val_loss: 0.1326 - val_root_mean_square_error: 0.3637 - val_mean_absolute_error: 0.2975\n",
            "Epoch 17/20\n",
            "3496/3496 [==============================] - 1138s 325ms/step - loss: 0.1218 - root_mean_square_error: 0.3485 - mean_absolute_error: 0.2771 - val_loss: 0.1344 - val_root_mean_square_error: 0.3661 - val_mean_absolute_error: 0.2926\n",
            "Epoch 18/20\n",
            "3496/3496 [==============================] - 1187s 339ms/step - loss: 0.1218 - root_mean_square_error: 0.3485 - mean_absolute_error: 0.2769 - val_loss: 0.1326 - val_root_mean_square_error: 0.3636 - val_mean_absolute_error: 0.2932\n",
            "Epoch 19/20\n",
            "3496/3496 [==============================] - 1189s 340ms/step - loss: 0.1219 - root_mean_square_error: 0.3487 - mean_absolute_error: 0.2773 - val_loss: 0.1322 - val_root_mean_square_error: 0.3632 - val_mean_absolute_error: 0.2941\n",
            "Epoch 20/20\n",
            "3496/3496 [==============================] - 1189s 340ms/step - loss: 0.1218 - root_mean_square_error: 0.3485 - mean_absolute_error: 0.2769 - val_loss: 0.1318 - val_root_mean_square_error: 0.3626 - val_mean_absolute_error: 0.2924\n"
          ],
          "name": "stdout"
        }
      ]
    },
    {
      "cell_type": "markdown",
      "metadata": {
        "id": "1VevT-YywgqB"
      },
      "source": [
        "# Results"
      ]
    },
    {
      "cell_type": "code",
      "metadata": {
        "colab": {
          "base_uri": "https://localhost:8080/"
        },
        "id": "yGDTTg0j1Ed9",
        "outputId": "d0eeae63-d1d2-44a0-b5a5-869b5e73b57e"
      },
      "source": [
        "tf.keras.utils.custom_object_scope."
      ],
      "execution_count": null,
      "outputs": [
        {
          "output_type": "execute_result",
          "data": {
            "text/plain": [
              "tensorflow.python.keras.utils.generic_utils.CustomObjectScope"
            ]
          },
          "metadata": {
            "tags": []
          },
          "execution_count": 14
        }
      ]
    },
    {
      "cell_type": "code",
      "metadata": {
        "colab": {
          "base_uri": "https://localhost:8080/",
          "height": 872
        },
        "id": "5VpPNneny0RU",
        "outputId": "414fde2e-72ac-47e8-c02f-96bea93b64d1"
      },
      "source": [
        "sg.utils.plot_history(history)"
      ],
      "execution_count": null,
      "outputs": [
        {
          "output_type": "display_data",
          "data": {
            "image/png": "[encoded data removed]",
            "text/plain": [
              "<Figure size 504x864 with 3 Axes>"
            ]
          },
          "metadata": {
            "tags": [],
            "needs_background": "light"
          }
        }
      ]
    },
    {
      "cell_type": "code",
      "metadata": {
        "colab": {
          "base_uri": "https://localhost:8080/"
        },
        "id": "XEybqJZT4utV",
        "outputId": "734f5ac4-aece-49ca-a1e2-34b8a0cf1afd"
      },
      "source": [
        "test_metrics = model.evaluate(\n",
        "    test_gen, use_multiprocessing=False, workers=num_workers, verbose=1\n",
        ")\n",
        "\n",
        "print(\"Test Evaluation:\")\n",
        "for name, val in zip(model.metrics_names, test_metrics):\n",
        "    print(\"\\t{}: {:0.4f}\".format(name, val))"
      ],
      "execution_count": null,
      "outputs": [
        {
          "output_type": "stream",
          "text": [
            "1500/1500 [==============================] - 340s 226ms/step - loss: 0.1319 - root_mean_square_error: 0.3627 - mean_absolute_error: 0.2925\n",
            "Test Evaluation:\n",
            "\tloss: 0.1319\n",
            "\troot_mean_square_error: 0.3627\n",
            "\tmean_absolute_error: 0.2925\n"
          ],
          "name": "stdout"
        }
      ]
    },
    {
      "cell_type": "code",
      "metadata": {
        "colab": {
          "base_uri": "https://localhost:8080/"
        },
        "id": "83nmEmfp4y4N",
        "outputId": "1ef86771-fecf-4fb8-9233-1f45b488b5c7"
      },
      "source": [
        "y_true = labels_test\n",
        "# Predict the rankings using the model:\n",
        "y_pred = model.predict(test_gen)\n",
        "y_pred2 = y_pred.round()\n",
        "# Mean baseline rankings = mean movie ranking:\n",
        "y_pred_baseline = np.full_like(y_pred, np.mean(y_true))\n",
        "\n",
        "rmse = np.sqrt(mean_squared_error(y_true, y_pred_baseline))\n",
        "mae = mean_absolute_error(y_true, y_pred_baseline)\n",
        "print(\"Mean Baseline Test set metrics:\")\n",
        "print(\"\\troot_mean_square_error = \", rmse)\n",
        "print(\"\\tmean_absolute_error = \", mae)\n",
        "\n",
        "rmse = np.sqrt(mean_squared_error(y_true, y_pred))\n",
        "mae = mean_absolute_error(y_true, y_pred)\n",
        "print(\"\\nModel Test set metrics:\")\n",
        "print(\"\\troot_mean_square_error = \", rmse)\n",
        "print(\"\\tmean_absolute_error = \", mae)"
      ],
      "execution_count": null,
      "outputs": [
        {
          "output_type": "stream",
          "text": [
            "Mean Baseline Test set metrics:\n",
            "\troot_mean_square_error =  0.4714657993792982\n",
            "\tmean_absolute_error =  0.44456000201143386\n",
            "\n",
            "Model Test set metrics:\n",
            "\troot_mean_square_error =  0.3631398244086344\n",
            "\tmean_absolute_error =  0.29252234708346686\n"
          ],
          "name": "stdout"
        }
      ]
    },
    {
      "cell_type": "code",
      "metadata": {
        "colab": {
          "base_uri": "https://localhost:8080/",
          "height": 278
        },
        "id": "y3Qvnu7H41qi",
        "outputId": "a1a7372b-98c4-443a-d04d-7b967f855317"
      },
      "source": [
        "h_true = plt.hist(y_true, bins=30, facecolor=\"green\", alpha=0.5)\n",
        "h_pred = plt.hist(y_pred2, bins=30, facecolor=\"blue\", alpha=0.5)\n",
        "plt.xlabel(\"ranking\")\n",
        "plt.ylabel(\"count\")\n",
        "plt.legend((\"True\", \"Predicted\"))\n",
        "plt.show()"
      ],
      "execution_count": null,
      "outputs": [
        {
          "output_type": "display_data",
          "data": {
            "image/png": "[encoded data removed]",
            "text/plain": [
              "<Figure size 432x288 with 1 Axes>"
            ]
          },
          "metadata": {
            "tags": [],
            "needs_background": "light"
          }
        }
      ]
    },
    {
      "cell_type": "code",
      "metadata": {
        "colab": {
          "base_uri": "https://localhost:8080/"
        },
        "id": "lS52I15Z6g2Y",
        "outputId": "6c2262f5-09b0-4049-aaf3-7607d811afff"
      },
      "source": [
        "from sklearn.metrics import classification_report, confusion_matrix\n",
        "\n",
        "confusion_matrix(y_true, y_pred2)"
      ],
      "execution_count": null,
      "outputs": [
        {
          "output_type": "execute_result",
          "data": {
            "text/plain": [
              "array([[ 67128,  32872],\n",
              "       [ 18616, 181228]])"
            ]
          },
          "metadata": {
            "tags": []
          },
          "execution_count": 59
        }
      ]
    },
    {
      "cell_type": "code",
      "metadata": {
        "colab": {
          "base_uri": "https://localhost:8080/",
          "height": 51
        },
        "id": "xUhCj9gW6P-v",
        "outputId": "67d8625a-f05a-4bbb-8e22-498db780d928"
      },
      "source": [
        "classification_report(y_true, y_pred2)"
      ],
      "execution_count": null,
      "outputs": [
        {
          "output_type": "execute_result",
          "data": {
            "application/vnd.google.colaboratory.intrinsic+json": {
              "type": "string"
            },
            "text/plain": [
              "'              precision    recall  f1-score   support\\n\\n           0       0.78      0.67      0.72    100000\\n           1       0.85      0.91      0.88    199844\\n\\n    accuracy                           0.83    299844\\n   macro avg       0.81      0.79      0.80    299844\\nweighted avg       0.83      0.83      0.82    299844\\n'"
            ]
          },
          "metadata": {
            "tags": []
          },
          "execution_count": 60
        }
      ]
    },
    {
      "cell_type": "code",
      "metadata": {
        "colab": {
          "base_uri": "https://localhost:8080/",
          "height": 282
        },
        "id": "TQJftI4pXcs9",
        "outputId": "855cd6c8-e38a-455d-c3dc-eb10e3b0b66e"
      },
      "source": [
        "import seaborn as sns\n",
        "from sklearn.metrics import confusion_matrix\n",
        "cm = confusion_matrix(y_true, y_pred.round())\n",
        "sns.heatmap(cm,annot=True,cmap=\"Blues\",fmt=\"d\",cbar=False)\n",
        "#accuracy score\n",
        "from sklearn.metrics import accuracy_score\n",
        "ac=accuracy_score(y_true, y_pred.round())\n",
        "print('accuracy of the model: ',ac)"
      ],
      "execution_count": null,
      "outputs": [
        {
          "output_type": "stream",
          "text": [
            "accuracy of the model:  0.8282840410346713\n"
          ],
          "name": "stdout"
        },
        {
          "output_type": "display_data",
          "data": {
            "image/png": "[encoded data removed]",
            "text/plain": [
              "<Figure size 432x288 with 1 Axes>"
            ]
          },
          "metadata": {
            "tags": [],
            "needs_background": "light"
          }
        }
      ]
    },
    {
      "cell_type": "code",
      "metadata": {
        "colab": {
          "base_uri": "https://localhost:8080/"
        },
        "id": "1k9YWJh_bNQK",
        "outputId": "f066e4cd-bec7-480a-d9b9-710f69fc62cd"
      },
      "source": [
        "!mkdir -p saved_model\n",
        "tf.keras.models.save_model(model, '/content/drive/MyDrive/Food.com Recipes and Interactions/hinsage_model')"
      ],
      "execution_count": null,
      "outputs": [
        {
          "output_type": "stream",
          "text": [
            "INFO:tensorflow:Assets written to: /content/drive/MyDrive/Food.com Recipes and Interactions/hinsage_model/assets\n"
          ],
          "name": "stdout"
        }
      ]
    },
    {
      "cell_type": "code",
      "metadata": {
        "id": "ybUtzQ8qwk6f"
      },
      "source": [
        "import tensorflow as tf\n",
        "from keras.models import load_model\n",
        "\n",
        "tf.keras.utils.custom_object_scope \n",
        "\n",
        "model_loaded = tf.keras.models.load_model('/content/drive/MyDrive/Food.com Recipes and Interactions/hinsage_model')\n"
      ],
      "execution_count": null,
      "outputs": []
    },
    {
      "cell_type": "code",
      "metadata": {
        "colab": {
          "base_uri": "https://localhost:8080/"
        },
        "id": "rgFMMVkpimb2",
        "outputId": "b3942eea-56c7-40ce-cb80-0af618963c27"
      },
      "source": [
        "!pip install unet \n",
        "\n"
      ],
      "execution_count": null,
      "outputs": [
        {
          "output_type": "stream",
          "text": [
            "Requirement already satisfied: unet in /usr/local/lib/python3.7/dist-packages (0.7.7)\n",
            "Requirement already satisfied: torch in /usr/local/lib/python3.7/dist-packages (from unet) (1.8.1+cu101)\n",
            "Requirement already satisfied: numpy in /usr/local/lib/python3.7/dist-packages (from torch->unet) (1.19.5)\n",
            "Requirement already satisfied: typing-extensions in /usr/local/lib/python3.7/dist-packages (from torch->unet) (3.7.4.3)\n"
          ],
          "name": "stdout"
        }
      ]
    },
    {
      "cell_type": "code",
      "metadata": {
        "colab": {
          "base_uri": "https://localhost:8080/"
        },
        "id": "wNrf-pGsjKIe",
        "outputId": "1e5aa590-9f53-4853-8406-d22aaaa4d02c"
      },
      "source": [
        "model.save('/content/drive/MyDrive/Food.com Recipes and Interactions/model3')\n"
      ],
      "execution_count": null,
      "outputs": [
        {
          "output_type": "stream",
          "text": [
            "INFO:tensorflow:Assets written to: /content/drive/MyDrive/Food.com Recipes and Interactions/model3/assets\n"
          ],
          "name": "stdout"
        }
      ]
    },
    {
      "cell_type": "markdown",
      "metadata": {
        "id": "2wcwBUY0c_Cl"
      },
      "source": [
        "# Random predictions"
      ]
    },
    {
      "cell_type": "code",
      "metadata": {
        "id": "X8fxQcbDdHxy"
      },
      "source": [
        "test_gen = generator.flow([('user_5673','recipe_37289')])\n",
        "\n",
        "predictions = model.predict(test_gen)"
      ],
      "execution_count": null,
      "outputs": []
    },
    {
      "cell_type": "code",
      "metadata": {
        "colab": {
          "base_uri": "https://localhost:8080/"
        },
        "id": "4EzY0t2ygdUZ",
        "outputId": "eaa3a9e6-a71a-496f-9e21-d9df9f210c55"
      },
      "source": [
        "predictions.round()"
      ],
      "execution_count": null,
      "outputs": [
        {
          "output_type": "execute_result",
          "data": {
            "text/plain": [
              "array([[1.]], dtype=float32)"
            ]
          },
          "metadata": {
            "tags": []
          },
          "execution_count": 93
        }
      ]
    },
    {
      "cell_type": "code",
      "metadata": {
        "colab": {
          "base_uri": "https://localhost:8080/"
        },
        "id": "Wrhmb7fAhMc6",
        "outputId": "4673b648-7d3c-4a19-856c-e1263e60240e"
      },
      "source": [
        "test_gen = generator.flow([('user_19768','recipe_83261')])\n",
        "\n",
        "predictions = model.predict(test_gen)\n",
        "predictions.round()"
      ],
      "execution_count": null,
      "outputs": [
        {
          "output_type": "execute_result",
          "data": {
            "text/plain": [
              "array([[0.]], dtype=float32)"
            ]
          },
          "metadata": {
            "tags": []
          },
          "execution_count": 95
        }
      ]
    },
    {
      "cell_type": "code",
      "metadata": {
        "colab": {
          "base_uri": "https://localhost:8080/"
        },
        "id": "RMLGoYHYhpY_",
        "outputId": "70a16a5b-b321-4e81-d6f1-aad436ac2ed6"
      },
      "source": [
        "test_gen = generator.flow([('user_0','recipe_0')])\n",
        "\n",
        "predictions = model.predict(test_gen)\n",
        "predictions.round()"
      ],
      "execution_count": null,
      "outputs": [
        {
          "output_type": "execute_result",
          "data": {
            "text/plain": [
              "array([[0.]], dtype=float32)"
            ]
          },
          "metadata": {
            "tags": []
          },
          "execution_count": 96
        }
      ]
    },
    {
      "cell_type": "code",
      "metadata": {
        "colab": {
          "base_uri": "https://localhost:8080/"
        },
        "id": "extaonoahxk2",
        "outputId": "5e6d9e04-642b-44c4-b7b9-406070c35e89"
      },
      "source": [
        "test_gen = generator.flow([('user_10025','recipe_1887')])\n",
        "\n",
        "predictions = model.predict(test_gen)\n",
        "predictions.round()"
      ],
      "execution_count": null,
      "outputs": [
        {
          "output_type": "execute_result",
          "data": {
            "text/plain": [
              "array([[1.]], dtype=float32)"
            ]
          },
          "metadata": {
            "tags": []
          },
          "execution_count": 99
        }
      ]
    },
    {
      "cell_type": "code",
      "metadata": {
        "id": "8S9_4aeYxlm8"
      },
      "source": [
        "test_gen = generator.flow([('user_5','recipe_1')])\n",
        "\n",
        "predictions = model.predict(test_gen)\n",
        "predictions.round()"
      ],
      "execution_count": null,
      "outputs": []
    }
  ]
}